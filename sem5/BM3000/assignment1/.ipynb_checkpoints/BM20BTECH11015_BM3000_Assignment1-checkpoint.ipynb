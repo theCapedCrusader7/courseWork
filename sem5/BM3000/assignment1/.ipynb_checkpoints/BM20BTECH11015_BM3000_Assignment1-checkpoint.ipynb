{
 "cells": [
  {
   "cell_type": "markdown",
   "id": "7c80fdbe",
   "metadata": {},
   "source": [
    "# Gestalt Engine"
   ]
  },
  {
   "cell_type": "markdown",
   "id": "927e8c20",
   "metadata": {},
   "source": [
    "Program to detect dots/lines"
   ]
  },
  {
   "cell_type": "code",
   "execution_count": 98,
   "id": "536fc659",
   "metadata": {},
   "outputs": [],
   "source": [
    "import cv2"
   ]
  },
  {
   "cell_type": "code",
   "execution_count": 99,
   "id": "8632cd94",
   "metadata": {},
   "outputs": [],
   "source": [
    "image1=cv2.imread('image1.png',0)"
   ]
  },
  {
   "cell_type": "code",
   "execution_count": 100,
   "id": "866cd7ad",
   "metadata": {},
   "outputs": [],
   "source": [
    "image2=cv2.imread('image2.png',0)\n"
   ]
  },
  {
   "cell_type": "code",
   "execution_count": 101,
   "id": "cec4139e",
   "metadata": {},
   "outputs": [],
   "source": [
    "image3=cv2.imread('image3.png',0)\n"
   ]
  },
  {
   "cell_type": "code",
   "execution_count": 102,
   "id": "9aebb383",
   "metadata": {},
   "outputs": [],
   "source": [
    "th,threshed = cv2.threshold(image1, 100, 205,cv2.THRESH_BINARY_INV|cv2.THRESH_OTSU)\n"
   ]
  },
  {
   "cell_type": "code",
   "execution_count": 103,
   "id": "889e3c27",
   "metadata": {},
   "outputs": [],
   "source": [
    "\n",
    "cnts = cv2.findContours(threshed, cv2.RETR_LIST,cv2.CHAIN_APPROX_SIMPLE)[-2]\n"
   ]
  },
  {
   "cell_type": "code",
   "execution_count": 104,
   "id": "a1591a57",
   "metadata": {},
   "outputs": [],
   "source": [
    "s1 = 3\n",
    "s2 = 50000000000000000\n",
    "xcnts = []\n",
    "for cnt in cnts:\n",
    "    if s1<cv2.contourArea(cnt) <s2:\n",
    "        xcnts.append(cnt)\n"
   ]
  },
  {
   "cell_type": "code",
   "execution_count": 105,
   "id": "4ca66d2f",
   "metadata": {},
   "outputs": [
    {
     "name": "stdout",
     "output_type": "stream",
     "text": [
      "Dot/line detected\n"
     ]
    }
   ],
   "source": [
    "if (len(xcnts)>0):\n",
    "    print(\"Dot/line detected\")\n",
    "    \n",
    "else:\n",
    "    print(\"No dot/line detected\")"
   ]
  },
  {
   "cell_type": "code",
   "execution_count": 106,
   "id": "ef89ad11",
   "metadata": {},
   "outputs": [],
   "source": [
    "th,threshed = cv2.threshold(image2, 100, 255,cv2.THRESH_BINARY_INV|cv2.THRESH_OTSU)"
   ]
  },
  {
   "cell_type": "code",
   "execution_count": 107,
   "id": "e3a23fa9",
   "metadata": {},
   "outputs": [],
   "source": [
    "\n",
    "cnts = cv2.findContours(threshed, cv2.RETR_LIST,cv2.CHAIN_APPROX_SIMPLE)[-2]\n"
   ]
  },
  {
   "cell_type": "code",
   "execution_count": 108,
   "id": "cb7631fb",
   "metadata": {},
   "outputs": [],
   "source": [
    "s1 = 3\n",
    "s2 = 50000000000000000\n",
    "xcnts = []\n",
    "for cnt in cnts:\n",
    "    if s1<cv2.contourArea(cnt) <s2:\n",
    "        xcnts.append(cnt)\n"
   ]
  },
  {
   "cell_type": "code",
   "execution_count": 109,
   "id": "6a0da869",
   "metadata": {},
   "outputs": [
    {
     "name": "stdout",
     "output_type": "stream",
     "text": [
      "No dot/line detected\n"
     ]
    }
   ],
   "source": [
    "if (len(xcnts)>0):\n",
    "    print(\"Dot/line detected\")\n",
    "    \n",
    "else:\n",
    "    print(\"No dot/line detected\")"
   ]
  },
  {
   "cell_type": "code",
   "execution_count": 110,
   "id": "c3ad1724",
   "metadata": {},
   "outputs": [
    {
     "name": "stdout",
     "output_type": "stream",
     "text": [
      "Dot/line detected\n"
     ]
    }
   ],
   "source": [
    "th,threshed = cv2.threshold(image3, 100, 255,cv2.THRESH_BINARY_INV|cv2.THRESH_OTSU)\n",
    "\n",
    "\n",
    "cnts = cv2.findContours(threshed, cv2.RETR_LIST,cv2.CHAIN_APPROX_SIMPLE)[-2]\n",
    "\n",
    "\n",
    "s1 = 3\n",
    "s2 = 50000000000000000\n",
    "xcnts = []\n",
    "for cnt in cnts:\n",
    "    if s1<cv2.contourArea(cnt) <s2:\n",
    "        xcnts.append(cnt)\n",
    "\n",
    "\n",
    "if (len(xcnts)>0):\n",
    "    print(\"Dot/line detected\")\n",
    "    \n",
    "else:\n",
    "    print(\"No dot/line detected\")"
   ]
  },
  {
   "cell_type": "markdown",
   "id": "4459ee0f",
   "metadata": {},
   "source": [
    "-------------------------------"
   ]
  },
  {
   "cell_type": "code",
   "execution_count": null,
   "id": "0964f84b",
   "metadata": {},
   "outputs": [],
   "source": []
  }
 ],
 "metadata": {
  "kernelspec": {
   "display_name": "Python 3 (ipykernel)",
   "language": "python",
   "name": "python3"
  },
  "language_info": {
   "codemirror_mode": {
    "name": "ipython",
    "version": 3
   },
   "file_extension": ".py",
   "mimetype": "text/x-python",
   "name": "python",
   "nbconvert_exporter": "python",
   "pygments_lexer": "ipython3",
   "version": "3.9.12"
  }
 },
 "nbformat": 4,
 "nbformat_minor": 5
}
