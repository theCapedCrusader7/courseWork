{
 "cells": [
  {
   "cell_type": "code",
   "execution_count": 18,
   "id": "e1064396",
   "metadata": {},
   "outputs": [
    {
     "name": "stdout",
     "output_type": "stream",
     "text": [
      "Please eneter the the number of concentric circles: 6\n",
      "enter the value of side of the square:4\n"
     ]
    },
    {
     "data": {
      "image/png": "[encoded data removed]",
      "text/plain": [
       "<Figure size 432x288 with 1 Axes>"
      ]
     },
     "metadata": {
      "needs_background": "light"
     },
     "output_type": "display_data"
    }
   ],
   "source": [
    "import matplotlib.pyplot as plt\n",
    "import math\n",
    "\n",
    "n=int(input(\"Please eneter the the number of concentric circles: \"))\n",
    "side=int(input(\"enter the value of side of the square:\"))\n",
    "\n",
    "ax = plt.gca()\n",
    "\n",
    "for i in range(1,n+1):\n",
    "    circle = plt.Circle((0,0), radius = i,fill = False)\n",
    "    ax.add_patch(circle)\n",
    "    \n",
    "square=plt.Rectangle((0,0), width = side, height = side, edgecolor = \"black\", fill = \"blue\")\n",
    "\n",
    "ax.set_aspect(1)\n",
    "ax.add_patch(square)\n",
    "plt.axis(\"scaled\")\n",
    "plt.axis(\"off\")\n",
    "plt.show()\n"
   ]
  },
  {
   "cell_type": "code",
   "execution_count": 19,
   "id": "e06fd69d",
   "metadata": {},
   "outputs": [],
   "source": [
    "commonArea=[]\n",
    "annularRingArea=[]\n",
    "\n",
    "squareArea=side*side\n",
    "\n",
    "for i in range(side):\n",
    "    commonArea.append((math.pi*((i+1)*(i+1) - i*i))/4)\n",
    "    \n",
    "commonArea.append((squareArea)-(math.pi*side*side)/4)\n",
    "\n",
    "for j in range(side+1):\n",
    "    annularRingArea.append(math.pi*((j+1)*(j+1) - j*j))\n",
    "    "
   ]
  },
  {
   "cell_type": "code",
   "execution_count": 20,
   "id": "1062b16d",
   "metadata": {},
   "outputs": [
    {
     "name": "stdout",
     "output_type": "stream",
     "text": [
      "Probability= 0.1414710605261292\n"
     ]
    }
   ],
   "source": [
    "p=0\n",
    "for k in range(side+1):\n",
    "     p = p + (annularRingArea[k])*(commonArea[k])/(annularRingArea[k])\n",
    "        \n",
    "p=p/(math.pi*n*n)\n",
    "\n",
    "print(\"Probability=\",p)"
   ]
  },
  {
   "cell_type": "code",
   "execution_count": null,
   "id": "8106f7a1",
   "metadata": {},
   "outputs": [],
   "source": []
  },
  {
   "cell_type": "code",
   "execution_count": null,
   "id": "1410da4e",
   "metadata": {},
   "outputs": [],
   "source": []
  }
 ],
 "metadata": {
  "kernelspec": {
   "display_name": "Python 3",
   "language": "python",
   "name": "python3"
  },
  "language_info": {
   "codemirror_mode": {
    "name": "ipython",
    "version": 3
   },
   "file_extension": ".py",
   "mimetype": "text/x-python",
   "name": "python",
   "nbconvert_exporter": "python",
   "pygments_lexer": "ipython3",
   "version": "3.8.8"
  }
 },
 "nbformat": 4,
 "nbformat_minor": 5
}
