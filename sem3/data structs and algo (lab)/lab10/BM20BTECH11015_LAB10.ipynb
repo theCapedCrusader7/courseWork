{
 "cells": [
  {
   "cell_type": "code",
   "execution_count": 142,
   "id": "9bd071f6",
   "metadata": {},
   "outputs": [],
   "source": [
    "import numpy as np\n",
    "import random as rn\n",
    "import time\n",
    "import matplotlib.pyplot as plt"
   ]
  },
  {
   "cell_type": "markdown",
   "id": "7e05e7f1",
   "metadata": {},
   "source": [
    "# Exercise 2"
   ]
  },
  {
   "cell_type": "markdown",
   "id": "633ea627",
   "metadata": {},
   "source": [
    "Case-1 (a=b):"
   ]
  },
  {
   "cell_type": "code",
   "execution_count": 143,
   "id": "dae43603",
   "metadata": {},
   "outputs": [],
   "source": [
    "def merge(a,b,arr):\n",
    "    i=0\n",
    "    j=0\n",
    "    k=0\n",
    "    \n",
    "    while (i<len(a) and j<len(b)):\n",
    "        if (a[i]<=b[j]):\n",
    "            arr[k]=a[i]\n",
    "            i+=1\n",
    "        else:\n",
    "            arr[k]=b[j]\n",
    "            j+=1\n",
    "        k+=1\n",
    "        \n",
    "    while (i<len(a)):\n",
    "        arr[k]=a[i]\n",
    "        i+=1\n",
    "        k+=1\n",
    "        \n",
    "    while (j<len(b)):\n",
    "        arr[k]=b[j]\n",
    "        j+=1\n",
    "        k+=1\n",
    "    \n",
    "def mergeSort(arr):\n",
    "    #print(arr)\n",
    "    if len(arr)<=1:\n",
    "        return\n",
    "    \n",
    "    mid=len(arr)//2\n",
    "    low=arr[:mid]\n",
    "    high=arr[mid:]\n",
    "    \n",
    "    mergeSort(low)\n",
    "    mergeSort(high)\n",
    "    merge(low,high,arr)"
   ]
  },
  {
   "cell_type": "code",
   "execution_count": 144,
   "id": "98e70380",
   "metadata": {},
   "outputs": [],
   "source": [
    "runTime=[]"
   ]
  },
  {
   "cell_type": "code",
   "execution_count": 145,
   "id": "6d49d039",
   "metadata": {},
   "outputs": [],
   "source": [
    "arr=[]\n",
    "n=1000\n",
    "\n",
    "for i in range(n):\n",
    "    arr.append(rn.randint(1,100000))\n",
    "    \n",
    "start=time.time()\n",
    "mergeSort(arr)\n",
    "stop=time.time()\n",
    "\n",
    "runTime.append(stop-start)"
   ]
  },
  {
   "cell_type": "code",
   "execution_count": 146,
   "id": "ac6822f2",
   "metadata": {},
   "outputs": [],
   "source": [
    "arr=[]\n",
    "n=2000\n",
    "\n",
    "for i in range(n):\n",
    "    arr.append(rn.randint(1,100000))\n",
    "    \n",
    "start=time.time()\n",
    "mergeSort(arr)\n",
    "stop=time.time()\n",
    "\n",
    "runTime.append(stop-start)"
   ]
  },
  {
   "cell_type": "code",
   "execution_count": 147,
   "id": "633e02b4",
   "metadata": {},
   "outputs": [],
   "source": [
    "arr=[]\n",
    "n=3000\n",
    "\n",
    "for i in range(n):\n",
    "    arr.append(rn.randint(1,100000))\n",
    "    \n",
    "start=time.time()\n",
    "mergeSort(arr)\n",
    "stop=time.time()\n",
    "\n",
    "runTime.append(stop-start)"
   ]
  },
  {
   "cell_type": "code",
   "execution_count": 148,
   "id": "bd8ffbd5",
   "metadata": {},
   "outputs": [],
   "source": [
    "arr=[]\n",
    "n=4000\n",
    "\n",
    "for i in range(n):\n",
    "    arr.append(rn.randint(1,100000))\n",
    "    \n",
    "start=time.time()\n",
    "mergeSort(arr)\n",
    "stop=time.time()\n",
    "\n",
    "runTime.append(stop-start)"
   ]
  },
  {
   "cell_type": "code",
   "execution_count": 149,
   "id": "2491df19",
   "metadata": {},
   "outputs": [],
   "source": [
    "arr=[]\n",
    "n=5000\n",
    "\n",
    "for i in range(n):\n",
    "    arr.append(rn.randint(1,100000))\n",
    "    \n",
    "start=time.time()\n",
    "mergeSort(arr)\n",
    "stop=time.time()\n",
    "\n",
    "runTime.append(stop-start)"
   ]
  },
  {
   "cell_type": "code",
   "execution_count": 150,
   "id": "9b4a58c7",
   "metadata": {},
   "outputs": [],
   "source": [
    "arr=[]\n",
    "n=6000\n",
    "\n",
    "for i in range(n):\n",
    "    arr.append(rn.randint(1,100000))\n",
    "    \n",
    "start=time.time()\n",
    "mergeSort(arr)\n",
    "stop=time.time()\n",
    "\n",
    "runTime.append(stop-start)"
   ]
  },
  {
   "cell_type": "code",
   "execution_count": 151,
   "id": "01f16152",
   "metadata": {},
   "outputs": [],
   "source": [
    "arr=[]\n",
    "n=7000\n",
    "\n",
    "for i in range(n):\n",
    "    arr.append(rn.randint(1,100000))\n",
    "    \n",
    "start=time.time()\n",
    "mergeSort(arr)\n",
    "stop=time.time()\n",
    "\n",
    "runTime.append(stop-start)"
   ]
  },
  {
   "cell_type": "code",
   "execution_count": 152,
   "id": "1308fdef",
   "metadata": {},
   "outputs": [],
   "source": [
    "arr=[]\n",
    "n=8000\n",
    "\n",
    "for i in range(n):\n",
    "    arr.append(rn.randint(1,100000))\n",
    "    \n",
    "start=time.time()\n",
    "mergeSort(arr)\n",
    "stop=time.time()\n",
    "\n",
    "runTime.append(stop-start)"
   ]
  },
  {
   "cell_type": "code",
   "execution_count": 153,
   "id": "a57ec511",
   "metadata": {},
   "outputs": [],
   "source": [
    "arr=[]\n",
    "n=9000\n",
    "\n",
    "for i in range(n):\n",
    "    arr.append(rn.randint(1,100000))\n",
    "    \n",
    "start=time.time()\n",
    "mergeSort(arr)\n",
    "stop=time.time()\n",
    "\n",
    "runTime.append(stop-start)"
   ]
  },
  {
   "cell_type": "code",
   "execution_count": 154,
   "id": "51b4701d",
   "metadata": {},
   "outputs": [],
   "source": [
    "arr=[]\n",
    "n=10000\n",
    "\n",
    "for i in range(n):\n",
    "    arr.append(rn.randint(1,100000))\n",
    "    \n",
    "start=time.time()\n",
    "mergeSort(arr)\n",
    "stop=time.time()\n",
    "\n",
    "runTime.append(stop-start)"
   ]
  },
  {
   "cell_type": "code",
   "execution_count": 157,
   "id": "1693d982",
   "metadata": {},
   "outputs": [],
   "source": [
    "size=[1000,2000,3000,4000,5000,6000,7000,8000,9000,10000]"
   ]
  },
  {
   "cell_type": "code",
   "execution_count": 158,
   "id": "f2ca3589",
   "metadata": {},
   "outputs": [],
   "source": [
    "import math"
   ]
  },
  {
   "cell_type": "code",
   "execution_count": 159,
   "id": "f532477c",
   "metadata": {},
   "outputs": [
    {
     "data": {
      "image/png": "[encoded data removed]",
      "text/plain": [
       "<Figure size 432x288 with 1 Axes>"
      ]
     },
     "metadata": {
      "needs_background": "light"
     },
     "output_type": "display_data"
    }
   ],
   "source": [
    "plt.plot(size,runTime)\n",
    "plt.xlabel('size')\n",
    "plt.ylabel('run time')\n",
    "\n",
    "plt.show()"
   ]
  },
  {
   "cell_type": "markdown",
   "id": "6109aa33",
   "metadata": {},
   "source": [
    "Here since a=b=2, we can write the recurrence relation using masters theorem as T(n)= 2*T(n/2)+cn. Now, since f(n)= cn, it is of the form theta(n). Therefore from masters theorem we can say that T(n) can be given by T(n)=Theta(n*logn)"
   ]
  },
  {
   "cell_type": "markdown",
   "id": "c5c9f9ef",
   "metadata": {},
   "source": [
    "Case-2 (a=3,b=2):"
   ]
  },
  {
   "cell_type": "markdown",
   "id": "2a9a2ab5",
   "metadata": {},
   "source": [
    "In this case since a=3 and b=2 we get the recurrence relation as 3T(n/2)+n^2. Here f(n) is of the order n^2 and hence f(n)=W(n^(log_2(3)+E). Implies T(n)=O(n^2)"
   ]
  },
  {
   "cell_type": "markdown",
   "id": "f347b21f",
   "metadata": {},
   "source": [
    "# Exercise-1"
   ]
  },
  {
   "cell_type": "markdown",
   "id": "0c4bd6f8",
   "metadata": {},
   "source": [
    "Bubble Sort"
   ]
  },
  {
   "cell_type": "code",
   "execution_count": 160,
   "id": "e51db7fc",
   "metadata": {},
   "outputs": [],
   "source": [
    "def bubbleSort(arr):\n",
    "    for i in range(len(arr)):\n",
    "        for j in range(0, len(arr)-i-1):\n",
    "            if arr[j] > arr[j+1] :\n",
    "                temp=arr[j]\n",
    "                arr[j]=arr[j+1]\n",
    "                arr[j+1]=temp\n",
    "                \n",
    "        "
   ]
  },
  {
   "cell_type": "code",
   "execution_count": 168,
   "id": "53208df7",
   "metadata": {},
   "outputs": [],
   "source": [
    "size=[10,50,100,500,1000,5000,10000]\n",
    "runTimeBubble=[]\n",
    "for j in range (len(size)):\n",
    "    arr=[]\n",
    "    for i in range (n):\n",
    "        arr.append(rn.randint(1,100000))\n",
    "\n",
    "    start=time.time()\n",
    "    bubbleSort(arr)\n",
    "    stop=time.time()\n",
    "    runTimeBubble.append(stop-start)"
   ]
  },
  {
   "cell_type": "code",
   "execution_count": 169,
   "id": "7d1a403d",
   "metadata": {},
   "outputs": [
    {
     "data": {
      "image/png": "[encoded data removed]",
      "text/plain": [
       "<Figure size 432x288 with 1 Axes>"
      ]
     },
     "metadata": {
      "needs_background": "light"
     },
     "output_type": "display_data"
    }
   ],
   "source": [
    "plt.plot(size,runTimeBubble)\n",
    "plt.show()"
   ]
  },
  {
   "cell_type": "markdown",
   "id": "cb4cb7e4",
   "metadata": {},
   "source": [
    "Here T(n)=T(n-1)+cn.\n"
   ]
  },
  {
   "cell_type": "markdown",
   "id": "8b3c2a31",
   "metadata": {},
   "source": [
    "let, n=log_2(m) and G(m)=T(log_2(m))\n"
   ]
  },
  {
   "cell_type": "markdown",
   "id": "af140556",
   "metadata": {},
   "source": [
    "Implies S(m)=S(m/2)+log(m)\n"
   ]
  },
  {
   "cell_type": "markdown",
   "id": "d43333b3",
   "metadata": {},
   "source": [
    "as f(n) is of the form Theta(logm),\n",
    "T(n)=O(n^2)"
   ]
  },
  {
   "cell_type": "markdown",
   "id": "c875507f",
   "metadata": {},
   "source": [
    "-----"
   ]
  },
  {
   "cell_type": "markdown",
   "id": "dbdd4d4d",
   "metadata": {},
   "source": [
    "Insertion Sort"
   ]
  },
  {
   "cell_type": "code",
   "execution_count": 170,
   "id": "f18a4fb7",
   "metadata": {},
   "outputs": [],
   "source": [
    "def insertionSort(arr):\n",
    "    for i in range(1,len(arr)):\n",
    "        key=arr[i]\n",
    "        j=i-1\n",
    "        while key<arr[j] and j>=0:\n",
    "            arr[j+1]=arr[j]\n",
    "            j-=1\n",
    "        arr[j+1]=key\n",
    "    return "
   ]
  },
  {
   "cell_type": "code",
   "execution_count": 173,
   "id": "582418cf",
   "metadata": {},
   "outputs": [],
   "source": [
    "size=[10,50,100,500,1000,5000,10000]\n",
    "runTimeInsertion=[]\n",
    "for j in range (len(size)):\n",
    "    arr=[]\n",
    "    for i in range (n):\n",
    "        arr.append(rn.randint(1,100000))\n",
    "\n",
    "    start=time.time()\n",
    "    insertionSort(arr)\n",
    "    stop=time.time()\n",
    "    runTimeInsertion.append(stop-start)"
   ]
  },
  {
   "cell_type": "code",
   "execution_count": 174,
   "id": "71047d1f",
   "metadata": {},
   "outputs": [
    {
     "data": {
      "image/png": "[encoded data removed]",
      "text/plain": [
       "<Figure size 432x288 with 1 Axes>"
      ]
     },
     "metadata": {
      "needs_background": "light"
     },
     "output_type": "display_data"
    }
   ],
   "source": [
    "plt.plot(size,runTimeInsertion)\n",
    "plt.show()"
   ]
  },
  {
   "cell_type": "markdown",
   "id": "ec800f55",
   "metadata": {},
   "source": [
    "Here T(n)=T(n-1)+cn."
   ]
  },
  {
   "cell_type": "markdown",
   "id": "2c12a7a8",
   "metadata": {},
   "source": [
    "let, n=log_2(m) and G(m)=T(log_2(m))"
   ]
  },
  {
   "cell_type": "markdown",
   "id": "3d5665f0",
   "metadata": {},
   "source": [
    "Implies S(m)=S(m/2)+log(m)"
   ]
  },
  {
   "cell_type": "markdown",
   "id": "6b28a14a",
   "metadata": {},
   "source": [
    "as f(n) is of the form Theta(logm), T(n)=O(n^2)"
   ]
  },
  {
   "cell_type": "markdown",
   "id": "89baef94",
   "metadata": {},
   "source": [
    "----"
   ]
  },
  {
   "cell_type": "markdown",
   "id": "e77eba61",
   "metadata": {},
   "source": [
    "Selection Sort"
   ]
  },
  {
   "cell_type": "code",
   "execution_count": 176,
   "id": "e0f870e8",
   "metadata": {},
   "outputs": [],
   "source": [
    "def selectionSort(arr):\n",
    "    for i in range(0,len(arr)-1):\n",
    "        min_index=i\n",
    "        for j in range(i,len(arr)):\n",
    "            if arr[min_index]>arr[j]:\n",
    "                min_index=j\n",
    "        temp=arr[min_index]\n",
    "        arr[min_index]=arr[i]\n",
    "        arr[i]=temp\n",
    "    return\n"
   ]
  },
  {
   "cell_type": "code",
   "execution_count": 177,
   "id": "a2207206",
   "metadata": {},
   "outputs": [],
   "source": [
    "size=[10,50,100,500,1000,5000,10000]\n",
    "runTimeSelection=[]\n",
    "for j in range (len(size)):\n",
    "    arr=[]\n",
    "    for i in range (n):\n",
    "        arr.append(rn.randint(1,100000))\n",
    "\n",
    "    start=time.time()\n",
    "    selectionSort(arr)\n",
    "    stop=time.time()\n",
    "    runTimeSelection.append(stop-start)"
   ]
  },
  {
   "cell_type": "code",
   "execution_count": 178,
   "id": "e1a610a3",
   "metadata": {},
   "outputs": [
    {
     "data": {
      "image/png": "[encoded data removed]",
      "text/plain": [
       "<Figure size 432x288 with 1 Axes>"
      ]
     },
     "metadata": {
      "needs_background": "light"
     },
     "output_type": "display_data"
    }
   ],
   "source": [
    "plt.plot(size,runTimeSelection)\n",
    "plt.show()"
   ]
  },
  {
   "cell_type": "markdown",
   "id": "6e9d7003",
   "metadata": {},
   "source": [
    "Here T(n)=T(n-1)+cn."
   ]
  },
  {
   "cell_type": "markdown",
   "id": "fce72716",
   "metadata": {},
   "source": [
    "let, n=log_2(m) and G(m)=T(log_2(m))"
   ]
  },
  {
   "cell_type": "markdown",
   "id": "83ea9f03",
   "metadata": {},
   "source": [
    "Implies S(m)=S(m/2)+log(m)"
   ]
  },
  {
   "cell_type": "markdown",
   "id": "ae0b66df",
   "metadata": {},
   "source": [
    "as f(n) is of the form Theta(logm), T(n)=O(n^2)"
   ]
  }
 ],
 "metadata": {
  "kernelspec": {
   "display_name": "Python 3",
   "language": "python",
   "name": "python3"
  },
  "language_info": {
   "codemirror_mode": {
    "name": "ipython",
    "version": 3
   },
   "file_extension": ".py",
   "mimetype": "text/x-python",
   "name": "python",
   "nbconvert_exporter": "python",
   "pygments_lexer": "ipython3",
   "version": "3.8.8"
  }
 },
 "nbformat": 4,
 "nbformat_minor": 5
}
