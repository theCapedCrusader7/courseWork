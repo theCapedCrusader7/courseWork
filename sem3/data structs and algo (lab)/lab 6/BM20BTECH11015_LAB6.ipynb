{
 "cells": [
  {
   "cell_type": "markdown",
   "id": "8af35d9d",
   "metadata": {},
   "source": [
    "# Splitting into 2 arrays"
   ]
  },
  {
   "cell_type": "code",
   "execution_count": 166,
   "id": "75099d9c",
   "metadata": {},
   "outputs": [],
   "source": [
    "def merge2arrays(a,b,arr):\n",
    "    i=0\n",
    "    j=0\n",
    "    k=0\n",
    "    \n",
    "    while (i<len(a) and j<len(b)):\n",
    "        if (a[i]<=b[j]):\n",
    "            arr[k]=a[i]\n",
    "            i+=1\n",
    "        else:\n",
    "            arr[k]=b[j]\n",
    "            j+=1\n",
    "        k+=1\n",
    "        \n",
    "    while (i<len(a)):\n",
    "        arr[k]=a[i]\n",
    "        i+=1\n",
    "        k+=1\n",
    "        \n",
    "    while (j<len(b)):\n",
    "        arr[k]=b[j]\n",
    "        j+=1\n",
    "        k+=1\n",
    "    \n",
    "def mergeSort2arrays(arr):\n",
    "    #print(arr)\n",
    "    if len(arr)<=1:\n",
    "        return\n",
    "    \n",
    "    mid=len(arr)//2\n",
    "    low=arr[:mid]\n",
    "    high=arr[mid:]\n",
    "    \n",
    "    mergeSort2arrays(low)\n",
    "    mergeSort2arrays(high)\n",
    "    merge2arrays(low,high,arr)"
   ]
  },
  {
   "cell_type": "markdown",
   "id": "e3923b8c",
   "metadata": {},
   "source": [
    "# Splitting into 3 arrays"
   ]
  },
  {
   "cell_type": "code",
   "execution_count": 167,
   "id": "4660ce96",
   "metadata": {},
   "outputs": [],
   "source": [
    "def merge3arrays(a,b,c,arr):\n",
    "   \n",
    "    x=0\n",
    "    y=0\n",
    "    z=0\n",
    "    k=0\n",
    "    \n",
    "    while(x<len(a) and y<len(b) and z<len(c)):\n",
    "        \n",
    "        if(a[x]<=b[y] and a[x]<=c[z]):\n",
    "            arr[k]=a[x]\n",
    "            x+=1\n",
    "            \n",
    "        elif(b[y]<=a[x] and b[y]<=c[z]):\n",
    "            arr[k]=b[y]\n",
    "            y+=1\n",
    "            \n",
    "        else:\n",
    "            arr[k]=c[z]\n",
    "            z+=1\n",
    "            \n",
    "        k+=1\n",
    "        \n",
    "    while (x<len(a) and y<len(b) and z>=len(c)):\n",
    "        \n",
    "        if(a[x]<=b[y]):\n",
    "            arr[k]=a[x]\n",
    "            x+=1\n",
    "            \n",
    "        else:\n",
    "            arr[k]=b[y]\n",
    "            y+=1\n",
    "            \n",
    "        k+=1\n",
    "        \n",
    "    while (x>=len(a) and y<len(b) and z<len(c)):\n",
    "        if(b[y]<=c[z]):\n",
    "            arr[k]=b[y]\n",
    "            y+=1\n",
    "            \n",
    "        else:\n",
    "            arr[k]=c[z]\n",
    "            z+=1\n",
    "            \n",
    "        k+=1\n",
    "        \n",
    "    while (x<len(a) and y>=len(b) and z<len(c)):\n",
    "        if(a[x]<=c[z]):\n",
    "            arr[k]=a[x]\n",
    "            x+=1\n",
    "            \n",
    "        else:\n",
    "            arr[k]=c[z]\n",
    "            z+=1\n",
    "            \n",
    "        k+=1\n",
    "        \n",
    "    while (x<len(a) and y>=len(b) and z>=len(c)):\n",
    "        arr[k]=a[x]\n",
    "        x+=1\n",
    "        k+=1\n",
    "        \n",
    "    while (x>=len(a) and y<len(b) and z>=len(c)):\n",
    "        arr[k]=b[y]\n",
    "        y+=1\n",
    "        k+=1\n",
    "        \n",
    "    while (x>=len(a) and y>=len(b) and z<len(c)):\n",
    "        arr[k]=c[z]\n",
    "        z+=1\n",
    "        k+=1\n",
    "        \n",
    "\n",
    "        \n",
    "def swap(arr):\n",
    "    temp=arr[0]\n",
    "    arr[0]=arr[1]\n",
    "    arr[1]=temp\n",
    "        \n",
    "def  mergeSort3arrays(arr):\n",
    "   # print(arr)\n",
    "    if (len(arr)<=1):\n",
    "        return\n",
    "    elif(len(arr)==2):\n",
    "        if(arr[0]>arr[1]):\n",
    "            swap(arr)\n",
    "        return\n",
    "        \n",
    "    \n",
    "    t=len(arr)//3\n",
    "    \n",
    "    arr1=arr[:t]\n",
    "    arr2=arr[t:2*t]\n",
    "    arr3=arr[2*t:]\n",
    "    \n",
    "    mergeSort3arrays(arr1)\n",
    "    mergeSort3arrays(arr2)\n",
    "    mergeSort3arrays(arr3)\n",
    "    merge3arrays(arr1,arr2,arr3,arr)\n",
    "    "
   ]
  },
  {
   "cell_type": "code",
   "execution_count": 168,
   "id": "feb07f5d",
   "metadata": {},
   "outputs": [
    {
     "name": "stdout",
     "output_type": "stream",
     "text": [
      "[0, 2, 5, 44, 88]\n"
     ]
    }
   ],
   "source": [
    "arr=[2,0,88,44,5]\n",
    "\n",
    "mergeSort2arrays(arr)\n",
    "print(arr)"
   ]
  },
  {
   "cell_type": "code",
   "execution_count": 169,
   "id": "b332df3a",
   "metadata": {},
   "outputs": [
    {
     "name": "stdout",
     "output_type": "stream",
     "text": [
      "[0, 2, 5, 44, 88]\n"
     ]
    }
   ],
   "source": [
    "arr=[2,0,88,44,5]\n",
    "#merge3arrays(arr1,arr2,arr3,arr)\n",
    "mergeSort3arrays(arr)\n",
    "print(arr)"
   ]
  },
  {
   "cell_type": "markdown",
   "id": "6fb3db66",
   "metadata": {},
   "source": [
    "# Splitting into 4 arrays"
   ]
  },
  {
   "cell_type": "code",
   "execution_count": 170,
   "id": "4410095a",
   "metadata": {},
   "outputs": [],
   "source": [
    "def merge4arrays(a,b,c,d,arr):\n",
    "    \n",
    "    w=0\n",
    "    x=0\n",
    "    y=0\n",
    "    z=0\n",
    "    k=0\n",
    "    \n",
    "    while (w<len(a) and x<len(b) and y<len(c) and z <len(d)):\n",
    "        if(a[w]<=b[x] and a[w]<=c[y] and a[w] <= d[z]):\n",
    "            arr[k]=a[w]\n",
    "            w+=1\n",
    "            \n",
    "        elif(b[x]<=a[w] and b[x]<=c[y] and b[x] <= d[z]):\n",
    "            arr[k]=b[x]\n",
    "            x+=1\n",
    "            \n",
    "        elif(c[y]<=b[x] and c[y]<=a[w] and c[y] <= d[z]):\n",
    "            arr[k]=c[y]\n",
    "            y+=1\n",
    "            \n",
    "        elif(d[z]<=b[x] and d[z]<=c[y] and d[z] <= a[w]):\n",
    "            arr[k]=d[w]\n",
    "            z+=1\n",
    "            \n",
    "        k+=1\n",
    "        \n",
    "    while (w <len(a) and x <len(b) and y <len(c) and z>= len(d)):\n",
    "        if(a[w]<=b[x] and a[w]<=c[y]):\n",
    "            arr[k]=a[w]\n",
    "            w+=1\n",
    "            \n",
    "        elif(b[x]<=a[w] and b[x]<=c[y]):\n",
    "            arr[k]=b[x]\n",
    "            x+=1\n",
    "            \n",
    "        else:\n",
    "            arr[k]=c[y]\n",
    "            y+=1\n",
    "            \n",
    "        k+=1\n",
    "        \n",
    "    while (w <len(a) and x <len(b) and y >=len(c) and z< len(d)):\n",
    "        if(a[w]<=b[x] and a[w]<=d[z]):\n",
    "            arr[k]=a[w]\n",
    "            w+=1\n",
    "            \n",
    "        elif(b[x]<=a[w] and b[x]<=d[z]):\n",
    "            arr[k]=b[x]\n",
    "            x+=1\n",
    "            \n",
    "        else:\n",
    "            arr[k]=d[z]\n",
    "            z+=1\n",
    "            \n",
    "        k+=1\n",
    "        \n",
    "    while (w <len(a) and x >=len(b) and y <len(c) and z< len(d)):\n",
    "        if(a[w]<=c[y] and a[w]<=d[z]):\n",
    "            arr[k]=a[w]\n",
    "            w+=1\n",
    "            \n",
    "        elif(c[y]<=a[w] and c[y]<=d[z]):\n",
    "            arr[k]=c[y]\n",
    "            y+=1\n",
    "            \n",
    "        else:\n",
    "            arr[k]=d[z]\n",
    "            z+=1\n",
    "            \n",
    "        k+=1\n",
    "        \n",
    "    while (w >=len(a) and x <len(b) and y <len(c) and z< len(d)):\n",
    "        if(b[x]<=c[y] and b[x]<=d[z]):\n",
    "            arr[k]=b[x]\n",
    "            x+=1\n",
    "            \n",
    "        elif(c[y]<=b[x] and c[y]<=d[z]):\n",
    "            arr[k]=c[y]\n",
    "            y+=1\n",
    "            \n",
    "        else:\n",
    "            arr[k]=d[z]\n",
    "            z+=1\n",
    "            \n",
    "        k+=1\n",
    "        \n",
    "    while (w <len(a) and x <len(b) and y >=len(c) and z>= len(d)):\n",
    "        if(a[w]<=b[x]):\n",
    "            arr[k]=a[w]\n",
    "            w+=1\n",
    "            k+=1\n",
    "        else:\n",
    "            arr[k]=b[x]\n",
    "            x+=1\n",
    "            k+=1\n",
    "            \n",
    "    while (w <len(a) and x >=len(b) and y <len(c) and z>= len(d)):\n",
    "        if(a[w]<=c[y]):\n",
    "            arr[k]=a[w]\n",
    "            w+=1\n",
    "            k+=1\n",
    "        else:\n",
    "            arr[k]=c[y]\n",
    "            y+=1\n",
    "            k+=1\n",
    "            \n",
    "    while (w <len(a) and x >=len(b) and y >=len(c) and z< len(d)):\n",
    "        if(a[w]<=d[z]):\n",
    "            arr[k]=a[w]\n",
    "            w+=1\n",
    "            k+=1\n",
    "        else:\n",
    "            arr[k]=d[z]\n",
    "            z+=1\n",
    "            k+=1\n",
    "            \n",
    "    while (w >=len(a) and x <len(b) and y <len(c) and z>= len(d)):\n",
    "        if(b[x]<=c[y]):\n",
    "            arr[k]=b[x]\n",
    "            x+=1\n",
    "            k+=1\n",
    "        else:\n",
    "            arr[k]=c[y]\n",
    "            y+=1\n",
    "            k+=1\n",
    "            \n",
    "    while (w >=len(a) and x <len(b) and y >=len(c) and z< len(d)):\n",
    "        if(b[x]<=d[z]):\n",
    "            arr[k]=b[x]\n",
    "            x+=1\n",
    "            k+=1\n",
    "        else:\n",
    "            arr[k]=d[z]\n",
    "            z+=1\n",
    "            k+=1\n",
    "            \n",
    "    while (w >=len(a) and x >=len(b) and y <len(c) and z< len(d)):\n",
    "        if(c[y]<=d[z]):\n",
    "            arr[k]=c[y]\n",
    "            y+=1\n",
    "            k+=1\n",
    "        else:\n",
    "            arr[k]=d[z]\n",
    "            z+=1\n",
    "            k+=1\n",
    "            \n",
    "    while (w <len(a) and x >=len(b) and y >=len(c) and z>= len(d)):\n",
    "        arr[k]=a[w]\n",
    "        w+=1\n",
    "        k+=1\n",
    "        \n",
    "    while (w >=len(a) and x <len(b) and y >=len(c) and z>= len(d)):\n",
    "        arr[k]=b[x]\n",
    "        x+=1\n",
    "        k+=1\n",
    "        \n",
    "    while (w >=len(a) and x >=len(b) and y <len(c) and z>= len(d)):\n",
    "        arr[k]=c[y]\n",
    "        y+=1\n",
    "        k+=1\n",
    "        \n",
    "    while (w >=len(a) and x >=len(b) and y >=len(c) and z< len(d)):\n",
    "        arr[k]=d[z]\n",
    "        z+=1\n",
    "        k+=1\n",
    "        \n",
    "def mergeSort4arrays(arr):\n",
    "    #print(arr)\n",
    "    if (len(arr)<=1):\n",
    "        return\n",
    "    elif(len(arr)==2):\n",
    "        if(arr[0]>arr[1]):\n",
    "            swap(arr)\n",
    "        return\n",
    "    elif(len(arr)==3):\n",
    "        mergeSort3arrays(arr)\n",
    "        return\n",
    "            \n",
    "    \n",
    "    t=len(arr)//4\n",
    "    \n",
    "    arr1=arr[:t]\n",
    "    arr2=arr[t:2*t]\n",
    "    arr3=arr[2*t:3*t]\n",
    "    arr4=arr[3*t:]\n",
    "    \n",
    "    mergeSort4arrays(arr1)\n",
    "    mergeSort4arrays(arr2)\n",
    "    mergeSort4arrays(arr3)\n",
    "    mergeSort4arrays(arr4)\n",
    "    merge4arrays(arr1,arr2,arr3,arr4,arr)"
   ]
  },
  {
   "cell_type": "code",
   "execution_count": 171,
   "id": "6ff29b91",
   "metadata": {},
   "outputs": [
    {
     "name": "stdout",
     "output_type": "stream",
     "text": [
      "[0, 2, 5, 44, 88]\n"
     ]
    }
   ],
   "source": [
    "arr=[2,0,88,44,5]\n",
    "\n",
    "mergeSort4arrays(arr)\n",
    "print(arr)"
   ]
  },
  {
   "cell_type": "code",
   "execution_count": 172,
   "id": "bdf3917b",
   "metadata": {},
   "outputs": [],
   "source": [
    "import random as rn\n",
    "import time\n",
    "\n",
    "n=[1000,2000,3000,4000,5000,6000,7000,8000,9000,10000]\n",
    "\n",
    "t2=[]\n",
    "t3=[]\n",
    "t4=[]"
   ]
  },
  {
   "cell_type": "markdown",
   "id": "5986acdd",
   "metadata": {},
   "source": [
    "For array size 1000"
   ]
  },
  {
   "cell_type": "code",
   "execution_count": 173,
   "id": "5b91c4f8",
   "metadata": {},
   "outputs": [
    {
     "name": "stdout",
     "output_type": "stream",
     "text": [
      "[0.007973194122314453] [0.007973194122314453] [0.0069010257720947266]\n"
     ]
    }
   ],
   "source": [
    "arr=[]\n",
    "arr1=[]\n",
    "arr2=[]\n",
    "arr3=[]\n",
    "for i in range(1000):\n",
    "    a=rn.randint(0,100000)\n",
    "    arr.append(a)\n",
    "    \n",
    "for i in range(1000):\n",
    "    arr1.append(arr[i])\n",
    "    arr2.append(arr[i])\n",
    "    arr3.append(arr[i])\n",
    "    \n",
    "start=time.time()\n",
    "mergeSort2arrays(arr1)\n",
    "stop=time.time()\n",
    "\n",
    "t2.append(stop - start)\n",
    "\n",
    "    \n",
    "start=time.time()\n",
    "mergeSort3arrays(arr2)\n",
    "stop=time.time()\n",
    "\n",
    "t3.append(stop - start)\n",
    "\n",
    "    \n",
    "start=time.time()\n",
    "mergeSort4arrays(arr3)\n",
    "stop=time.time()\n",
    "\n",
    "t4.append(stop - start)\n",
    "\n",
    "print(t2,t2,t4)"
   ]
  },
  {
   "cell_type": "code",
   "execution_count": null,
   "id": "aa962e7f",
   "metadata": {},
   "outputs": [],
   "source": [
    "\n",
    "\n"
   ]
  },
  {
   "cell_type": "markdown",
   "id": "13dda486",
   "metadata": {},
   "source": [
    "For array size 2000"
   ]
  },
  {
   "cell_type": "code",
   "execution_count": 174,
   "id": "b0e2c902",
   "metadata": {},
   "outputs": [],
   "source": [
    "#print(arr,arr1,arr2,arr3)"
   ]
  },
  {
   "cell_type": "code",
   "execution_count": 175,
   "id": "6111baed",
   "metadata": {},
   "outputs": [],
   "source": [
    "arr=[]\n",
    "arr1=[]\n",
    "arr2=[]\n",
    "arr3=[]\n",
    "for i in range(2000):\n",
    "    a=rn.randint(1,100000)\n",
    "    arr.append(a)\n",
    "    \n",
    "for i in range(2000):\n",
    "    arr1.append(arr[i])\n",
    "    arr2.append(arr[i])\n",
    "    arr3.append(arr[i])\n",
    "    \n",
    "start=time.time()\n",
    "mergeSort2arrays(arr1)\n",
    "stop=time.time()\n",
    "\n",
    "t2.append(stop - start)\n",
    "\n",
    "    \n",
    "start=time.time()\n",
    "mergeSort3arrays(arr2)\n",
    "stop=time.time()\n",
    "\n",
    "t3.append(stop - start)\n",
    "\n",
    "    \n",
    "start=time.time()\n",
    "mergeSort4arrays(arr3)\n",
    "stop=time.time()\n",
    "\n",
    "t4.append(stop - start)"
   ]
  },
  {
   "cell_type": "code",
   "execution_count": null,
   "id": "efe2a144",
   "metadata": {},
   "outputs": [],
   "source": [
    "\n"
   ]
  },
  {
   "cell_type": "markdown",
   "id": "fe6f8366",
   "metadata": {},
   "source": [
    "For array size 3000"
   ]
  },
  {
   "cell_type": "code",
   "execution_count": 176,
   "id": "48198b0e",
   "metadata": {},
   "outputs": [],
   "source": [
    "arr=[]\n",
    "arr1=[]\n",
    "arr2=[]\n",
    "arr3=[]\n",
    "for i in range(3000):\n",
    "    a=rn.randint(0,100000)\n",
    "    arr.append(a)\n",
    "    \n",
    "for i in range(3000):\n",
    "    arr1.append(arr[i])\n",
    "    arr2.append(arr[i])\n",
    "    arr3.append(arr[i])\n",
    "    \n",
    "start=time.time()\n",
    "mergeSort2arrays(arr1)\n",
    "stop=time.time()\n",
    "\n",
    "t2.append(stop - start)\n",
    "\n",
    "    \n",
    "start=time.time()\n",
    "mergeSort3arrays(arr2)\n",
    "stop=time.time()\n",
    "\n",
    "t3.append(stop - start)\n",
    "\n",
    "    \n",
    "start=time.time()\n",
    "mergeSort4arrays(arr3)\n",
    "stop=time.time()\n",
    "\n",
    "t4.append(stop - start)"
   ]
  },
  {
   "cell_type": "markdown",
   "id": "7761e83b",
   "metadata": {},
   "source": [
    "For array size 4000"
   ]
  },
  {
   "cell_type": "code",
   "execution_count": 177,
   "id": "ae71b189",
   "metadata": {},
   "outputs": [],
   "source": [
    "arr=[]\n",
    "arr1=[]\n",
    "arr2=[]\n",
    "arr3=[]\n",
    "for i in range(4000):\n",
    "    a=rn.randint(0,100000)\n",
    "    arr.append(a)\n",
    "    \n",
    "for i in range(4000):\n",
    "    arr1.append(arr[i])\n",
    "    arr2.append(arr[i])\n",
    "    arr3.append(arr[i])\n",
    "    \n",
    "start=time.time()\n",
    "mergeSort2arrays(arr1)\n",
    "stop=time.time()\n",
    "\n",
    "t2.append(stop - start)\n",
    "\n",
    "    \n",
    "start=time.time()\n",
    "mergeSort3arrays(arr2)\n",
    "stop=time.time()\n",
    "\n",
    "t3.append(stop - start)\n",
    "\n",
    "    \n",
    "start=time.time()\n",
    "mergeSort4arrays(arr3)\n",
    "stop=time.time()\n",
    "\n",
    "t4.append(stop - start)"
   ]
  },
  {
   "cell_type": "markdown",
   "id": "0ba2cbaf",
   "metadata": {},
   "source": [
    "For array size 5000"
   ]
  },
  {
   "cell_type": "code",
   "execution_count": 178,
   "id": "4d86326e",
   "metadata": {},
   "outputs": [],
   "source": [
    "arr=[]\n",
    "arr1=[]\n",
    "arr2=[]\n",
    "arr3=[]\n",
    "for i in range(5000):\n",
    "    a=rn.randint(0,100000)\n",
    "    arr.append(a)\n",
    "    \n",
    "for i in range(5000):\n",
    "    arr1.append(arr[i])\n",
    "    arr2.append(arr[i])\n",
    "    arr3.append(arr[i])\n",
    "    \n",
    "start=time.time()\n",
    "mergeSort2arrays(arr1)\n",
    "stop=time.time()\n",
    "\n",
    "t2.append(stop - start)\n",
    "\n",
    "    \n",
    "start=time.time()\n",
    "mergeSort3arrays(arr2)\n",
    "stop=time.time()\n",
    "\n",
    "t3.append(stop - start)\n",
    "\n",
    "    \n",
    "start=time.time()\n",
    "mergeSort4arrays(arr3)\n",
    "stop=time.time()\n",
    "\n",
    "t4.append(stop - start)"
   ]
  },
  {
   "cell_type": "markdown",
   "id": "eaf81819",
   "metadata": {},
   "source": [
    "For array size 6000"
   ]
  },
  {
   "cell_type": "code",
   "execution_count": 179,
   "id": "adaeb083",
   "metadata": {},
   "outputs": [],
   "source": [
    "arr=[]\n",
    "arr1=[]\n",
    "arr2=[]\n",
    "arr3=[]\n",
    "for i in range(6000):\n",
    "    a=rn.randint(0,100000)\n",
    "    arr.append(a)\n",
    "    \n",
    "for i in range(6000):\n",
    "    arr1.append(arr[i])\n",
    "    arr2.append(arr[i])\n",
    "    arr3.append(arr[i])\n",
    "    \n",
    "start=time.time()\n",
    "mergeSort2arrays(arr1)\n",
    "stop=time.time()\n",
    "\n",
    "t2.append(stop - start)\n",
    "\n",
    "    \n",
    "start=time.time()\n",
    "mergeSort3arrays(arr2)\n",
    "stop=time.time()\n",
    "\n",
    "t3.append(stop - start)\n",
    "\n",
    "    \n",
    "start=time.time()\n",
    "mergeSort4arrays(arr3)\n",
    "stop=time.time()\n",
    "\n",
    "t4.append(stop - start)"
   ]
  },
  {
   "cell_type": "markdown",
   "id": "392e976c",
   "metadata": {},
   "source": [
    "For array size 7000"
   ]
  },
  {
   "cell_type": "code",
   "execution_count": 180,
   "id": "d97e0b25",
   "metadata": {},
   "outputs": [],
   "source": [
    "arr=[]\n",
    "arr1=[]\n",
    "arr2=[]\n",
    "arr3=[]\n",
    "for i in range(7000):\n",
    "    a=rn.randint(0,100000)\n",
    "    arr.append(a)\n",
    "    \n",
    "for i in range(7000):\n",
    "    arr1.append(arr[i])\n",
    "    arr2.append(arr[i])\n",
    "    arr3.append(arr[i])\n",
    "    \n",
    "start=time.time()\n",
    "mergeSort2arrays(arr1)\n",
    "stop=time.time()\n",
    "\n",
    "t2.append(stop - start)\n",
    "\n",
    "    \n",
    "start=time.time()\n",
    "mergeSort3arrays(arr2)\n",
    "stop=time.time()\n",
    "\n",
    "t3.append(stop - start)\n",
    "\n",
    "    \n",
    "start=time.time()\n",
    "mergeSort4arrays(arr3)\n",
    "stop=time.time()\n",
    "\n",
    "t4.append(stop - start)"
   ]
  },
  {
   "cell_type": "code",
   "execution_count": 181,
   "id": "c4682ec5",
   "metadata": {},
   "outputs": [],
   "source": [
    "#print(t2,t3,t4)"
   ]
  },
  {
   "cell_type": "markdown",
   "id": "7db910bf",
   "metadata": {},
   "source": [
    "For array size 8000"
   ]
  },
  {
   "cell_type": "code",
   "execution_count": 182,
   "id": "fd05c20f",
   "metadata": {},
   "outputs": [],
   "source": [
    "arr=[]\n",
    "arr1=[]\n",
    "arr2=[]\n",
    "arr3=[]\n",
    "for i in range(8000):\n",
    "    a=rn.randint(0,100000)\n",
    "    arr.append(a)\n",
    "    \n",
    "for i in range(8000):\n",
    "    arr1.append(arr[i])\n",
    "    arr2.append(arr[i])\n",
    "    arr3.append(arr[i])\n",
    "    \n",
    "start=time.time()\n",
    "mergeSort2arrays(arr1)\n",
    "stop=time.time()\n",
    "\n",
    "t2.append(stop - start)\n",
    "\n",
    "    \n",
    "start=time.time()\n",
    "mergeSort3arrays(arr2)\n",
    "stop=time.time()\n",
    "\n",
    "t3.append(stop - start)\n",
    "\n",
    "    \n",
    "start=time.time()\n",
    "mergeSort4arrays(arr3)\n",
    "stop=time.time()\n",
    "\n",
    "t4.append(stop - start)"
   ]
  },
  {
   "cell_type": "markdown",
   "id": "3216a193",
   "metadata": {},
   "source": [
    "For array size 9000"
   ]
  },
  {
   "cell_type": "code",
   "execution_count": 183,
   "id": "ee87f5e9",
   "metadata": {},
   "outputs": [],
   "source": [
    "arr=[]\n",
    "arr1=[]\n",
    "arr2=[]\n",
    "arr3=[]\n",
    "for i in range(9000):\n",
    "    a=rn.randint(0,100000)\n",
    "    arr.append(a)\n",
    "    \n",
    "for i in range(9000):\n",
    "    arr1.append(arr[i])\n",
    "    arr2.append(arr[i])\n",
    "    arr3.append(arr[i])\n",
    "    \n",
    "start=time.time()\n",
    "mergeSort2arrays(arr1)\n",
    "stop=time.time()\n",
    "\n",
    "t2.append(stop - start)\n",
    "\n",
    "    \n",
    "start=time.time()\n",
    "mergeSort3arrays(arr2)\n",
    "stop=time.time()\n",
    "\n",
    "t3.append(stop - start)\n",
    "\n",
    "    \n",
    "start=time.time()\n",
    "mergeSort4arrays(arr3)\n",
    "stop=time.time()\n",
    "\n",
    "t4.append(stop - start)"
   ]
  },
  {
   "cell_type": "markdown",
   "id": "7db834b2",
   "metadata": {},
   "source": [
    "For array size 10000"
   ]
  },
  {
   "cell_type": "code",
   "execution_count": 184,
   "id": "cf58cf46",
   "metadata": {},
   "outputs": [],
   "source": [
    "arr=[]\n",
    "arr1=[]\n",
    "arr2=[]\n",
    "arr3=[]\n",
    "for i in range(10000):\n",
    "    a=rn.randint(0,100000)\n",
    "    arr.append(a)\n",
    "    \n",
    "for i in range(10000):\n",
    "    arr1.append(arr[i])\n",
    "    arr2.append(arr[i])\n",
    "    arr3.append(arr[i])\n",
    "    \n",
    "start=time.time()\n",
    "mergeSort2arrays(arr1)\n",
    "stop=time.time()\n",
    "\n",
    "t2.append(stop - start)\n",
    "\n",
    "    \n",
    "start=time.time()\n",
    "mergeSort3arrays(arr2)\n",
    "stop=time.time()\n",
    "\n",
    "t3.append(stop - start)\n",
    "\n",
    "    \n",
    "start=time.time()\n",
    "mergeSort4arrays(arr3)\n",
    "stop=time.time()\n",
    "\n",
    "t4.append(stop - start)"
   ]
  },
  {
   "cell_type": "markdown",
   "id": "96dce153",
   "metadata": {},
   "source": [
    "# Scatterplot of execution time vs array size"
   ]
  },
  {
   "cell_type": "markdown",
   "id": "58d9e2fb",
   "metadata": {},
   "source": [
    "Splitting into 3"
   ]
  },
  {
   "cell_type": "code",
   "execution_count": 186,
   "id": "e8e31220",
   "metadata": {},
   "outputs": [
    {
     "data": {
      "text/plain": [
       "<function matplotlib.pyplot.show(close=None, block=None)>"
      ]
     },
     "execution_count": 186,
     "metadata": {},
     "output_type": "execute_result"
    },
    {
     "data": {
      "image/png": "[encoded data removed]",
      "text/plain": [
       "<Figure size 432x288 with 1 Axes>"
      ]
     },
     "metadata": {
      "needs_background": "light"
     },
     "output_type": "display_data"
    }
   ],
   "source": [
    "plt.scatter(n,t3)\n",
    "plt.show"
   ]
  },
  {
   "cell_type": "code",
   "execution_count": 187,
   "id": "546cdea1",
   "metadata": {},
   "outputs": [
    {
     "data": {
      "text/plain": [
       "<function matplotlib.pyplot.show(close=None, block=None)>"
      ]
     },
     "execution_count": 187,
     "metadata": {},
     "output_type": "execute_result"
    },
    {
     "data": {
      "image/png": "[encoded data removed]",
      "text/plain": [
       "<Figure size 432x288 with 1 Axes>"
      ]
     },
     "metadata": {
      "needs_background": "light"
     },
     "output_type": "display_data"
    }
   ],
   "source": [
    "plt.scatter(n,t4)\n",
    "plt.show"
   ]
  },
  {
   "cell_type": "code",
   "execution_count": 191,
   "id": "5ddea82f",
   "metadata": {},
   "outputs": [
    {
     "name": "stdout",
     "output_type": "stream",
     "text": [
      "0.030879497528076172 0.04020953178405762 0.05897188186645508\n"
     ]
    }
   ],
   "source": [
    "#print(t2[7],t3[7],t4[7])"
   ]
  },
  {
   "cell_type": "code",
   "execution_count": 194,
   "id": "f5a41b66",
   "metadata": {},
   "outputs": [
    {
     "data": {
      "image/png": "[encoded data removed]",
      "text/plain": [
       "<Figure size 720x360 with 1 Axes>"
      ]
     },
     "metadata": {
      "needs_background": "light"
     },
     "output_type": "display_data"
    }
   ],
   "source": [
    "import numpy as np\n",
    "import matplotlib.pyplot as plt\n",
    "\n",
    "\n",
    " \n",
    "data = {'Splitting into 2': t2[7], 'Splitting into 3': t3[7], 'Splitting into 4':t4[7]}\n",
    "subarraysize = list(data.keys())\n",
    "time = list(data.values())\n",
    "  \n",
    "fig = plt.figure(figsize = (10, 5))\n",
    " \n",
    "\n",
    "plt.bar(subarraysize, time, color ='maroon',\n",
    "        width = 0.5)\n",
    " \n",
    "plt.xlabel(\"Number of subarrays the main array is split into\")\n",
    "plt.ylabel(\"time taken to sort\")\n",
    "plt.title(\"Merge Sort by varying the number of subarrays\")\n",
    "plt.show()"
   ]
  },
  {
   "cell_type": "markdown",
   "id": "606e400b",
   "metadata": {},
   "source": [
    "As we can clearly see the program is most efficient when it is split into 2 subarrays, It is most efficient"
   ]
  },
  {
   "cell_type": "code",
   "execution_count": null,
   "id": "1bd957d3",
   "metadata": {},
   "outputs": [],
   "source": []
  }
 ],
 "metadata": {
  "kernelspec": {
   "display_name": "Python 3",
   "language": "python",
   "name": "python3"
  },
  "language_info": {
   "codemirror_mode": {
    "name": "ipython",
    "version": 3
   },
   "file_extension": ".py",
   "mimetype": "text/x-python",
   "name": "python",
   "nbconvert_exporter": "python",
   "pygments_lexer": "ipython3",
   "version": "3.8.8"
  }
 },
 "nbformat": 4,
 "nbformat_minor": 5
}
