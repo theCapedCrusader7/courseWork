{
 "cells": [
  {
   "cell_type": "markdown",
   "id": "da58f2ce",
   "metadata": {},
   "source": [
    "# Queues"
   ]
  },
  {
   "cell_type": "code",
   "execution_count": 44,
   "id": "bf84ba7b",
   "metadata": {},
   "outputs": [],
   "source": [
    "import matplotlib.pyplot as plt"
   ]
  },
  {
   "cell_type": "code",
   "execution_count": 45,
   "id": "6effd27c",
   "metadata": {},
   "outputs": [],
   "source": [
    "import random as rn\n",
    "import time"
   ]
  },
  {
   "cell_type": "code",
   "execution_count": 46,
   "id": "19d8120c",
   "metadata": {},
   "outputs": [],
   "source": [
    "def enque (arr,x):\n",
    "    arr.append(x)\n",
    "    #return arr"
   ]
  },
  {
   "cell_type": "code",
   "execution_count": 47,
   "id": "e1aa9861",
   "metadata": {},
   "outputs": [],
   "source": [
    "def deque (arr):\n",
    "    \n",
    "    if (len(arr)==0):\n",
    "        print(\"Queue is empty\")\n",
    "        return\n",
    "       \n",
    "    else:\n",
    "        for i in range (len(arr)-1):\n",
    "            arr[i]=arr[i+1]     \n",
    "        arr.pop()\n",
    "        #return arr\n",
    "    \n",
    "        "
   ]
  },
  {
   "cell_type": "code",
   "execution_count": 48,
   "id": "dee6ba90",
   "metadata": {},
   "outputs": [],
   "source": [
    "size=[100,200,500,1000,5000,10000,20000]\n",
    "timeEnque=[]\n",
    "timeDeque=[]"
   ]
  },
  {
   "cell_type": "code",
   "execution_count": 49,
   "id": "b04b72ac",
   "metadata": {},
   "outputs": [],
   "source": [
    "for j in range (len(size)):\n",
    "        queue=[]\n",
    "        for i in range (size[j]):\n",
    "            queue.append(rn.randint(1,20))\n",
    "        start=time.time() \n",
    "        enque(queue,25)\n",
    "        stop=time.time()\n",
    "        timeEnque.append(stop-start)\n",
    "\n",
    "        start=time.time()\n",
    "        deque(queue)\n",
    "        timeDeque.append(stop-start)\n",
    "    \n",
    "\n",
    " "
   ]
  },
  {
   "cell_type": "code",
   "execution_count": 50,
   "id": "0716440a",
   "metadata": {},
   "outputs": [
    {
     "data": {
      "image/png": "[encoded data removed]",
      "text/plain": [
       "<Figure size 432x288 with 1 Axes>"
      ]
     },
     "metadata": {
      "needs_background": "light"
     },
     "output_type": "display_data"
    }
   ],
   "source": [
    "plt.scatter(size,timeEnque)\n",
    "plt.title('Time taken to enque elements for different array sizes')\n",
    "plt.show()"
   ]
  },
  {
   "cell_type": "code",
   "execution_count": 51,
   "id": "5c66f0de",
   "metadata": {},
   "outputs": [],
   "source": [
    "def searchQueue(arr,x):\n",
    "    k=-1\n",
    "    for i in range (len(arr)):\n",
    "        if (arr[i]==x):\n",
    "            k=i\n",
    "            break\n",
    "            \n",
    "    if (k==-1):\n",
    "        print(\"The element is not present in the queue\")\n",
    "        return\n",
    "        \n",
    "    else:\n",
    "        print(\"The element is present at the index \",k)\n",
    "        return"
   ]
  },
  {
   "cell_type": "code",
   "execution_count": 52,
   "id": "7cf08864",
   "metadata": {},
   "outputs": [],
   "source": [
    "timeSearch=[]\n"
   ]
  },
  {
   "cell_type": "code",
   "execution_count": 53,
   "id": "21fb658d",
   "metadata": {},
   "outputs": [
    {
     "name": "stdout",
     "output_type": "stream",
     "text": [
      "The element is present at the index  99\n",
      "The element is present at the index  199\n",
      "The element is present at the index  499\n",
      "The element is present at the index  999\n",
      "The element is present at the index  4999\n",
      "The element is present at the index  9999\n",
      "The element is present at the index  19999\n",
      "[0.0009968280792236328, 0.0004448890686035156, 0.0, 0.0, 0.0, 0.0009963512420654297, 0.001003265380859375]\n"
     ]
    }
   ],
   "source": [
    "for j in range (len(size)):\n",
    "    queue=[]\n",
    "    queue=[]\n",
    "    for i in range (size[j]-1):\n",
    "        queue.append(rn.randint(1,20))\n",
    "\n",
    "    queue.append(25)\n",
    "\n",
    "    start=time.time()\n",
    "    searchQueue(queue,25)\n",
    "    stop=time.time()\n",
    "\n",
    "    timeSearch.append(stop-start)\n",
    "    \n",
    "print(timeSearch)"
   ]
  },
  {
   "cell_type": "code",
   "execution_count": 54,
   "id": "7062fa6e",
   "metadata": {},
   "outputs": [
    {
     "data": {
      "image/png": "[encoded data removed]",
      "text/plain": [
       "<Figure size 432x288 with 1 Axes>"
      ]
     },
     "metadata": {
      "needs_background": "light"
     },
     "output_type": "display_data"
    }
   ],
   "source": [
    "plt.scatter(size,timeSearch)\n",
    "plt.title('Time taken to search an element in the queue')\n",
    "plt.show()"
   ]
  },
  {
   "cell_type": "markdown",
   "id": "d788d3fb",
   "metadata": {},
   "source": [
    "#### Time complexity"
   ]
  },
  {
   "cell_type": "markdown",
   "id": "bd804ff5",
   "metadata": {},
   "source": [
    "1) For insertion or enque the element is added directly to the end of the queue. Hence the time complexity for enque is O(1)."
   ]
  },
  {
   "cell_type": "markdown",
   "id": "d2dbe715",
   "metadata": {},
   "source": [
    "2) For deletion or dequeing the element at 0 index is removed and the other n-1 elements are all shifted to the left by 1 index. Hence the time taken for deletion is O(n)."
   ]
  },
  {
   "cell_type": "markdown",
   "id": "43f1f27f",
   "metadata": {},
   "source": [
    "3) For searching, the search technique is similar to that of linear search i.e. all the elements are checked one by one till the element desired is obtained. Hence the time complexity of searching is O(n)"
   ]
  },
  {
   "cell_type": "markdown",
   "id": "332273ef",
   "metadata": {},
   "source": [
    "-----"
   ]
  },
  {
   "cell_type": "markdown",
   "id": "a6f7dcce",
   "metadata": {},
   "source": [
    "# Double ended queues"
   ]
  },
  {
   "cell_type": "code",
   "execution_count": 55,
   "id": "4d0d5731",
   "metadata": {},
   "outputs": [],
   "source": [
    "def pushBack (arr,x):\n",
    "    arr.append(x)\n",
    "    #return arr"
   ]
  },
  {
   "cell_type": "code",
   "execution_count": 56,
   "id": "f45969e6",
   "metadata": {},
   "outputs": [],
   "source": [
    "def popBack(arr):\n",
    "    if (len(arr)==0):\n",
    "        print(\"queue is empty\")\n",
    "        return\n",
    "    else:\n",
    "        arr.pop()\n",
    "        #return arr"
   ]
  },
  {
   "cell_type": "code",
   "execution_count": 57,
   "id": "5a3b7d3c",
   "metadata": {},
   "outputs": [],
   "source": [
    "def pushFront(arr,x):\n",
    "    if (len(arr)==0):\n",
    "        arr.append(x)\n",
    "        return\n",
    "    else:\n",
    "        temp=arr[len(arr)-1]\n",
    "        for i in range (len(arr)-1):\n",
    "            arr[i+1]=arr[i]\n",
    "            \n",
    "        arr.append(temp)\n",
    "        arr[0]=x\n",
    "        #return arr"
   ]
  },
  {
   "cell_type": "code",
   "execution_count": 58,
   "id": "b9309ed0",
   "metadata": {},
   "outputs": [],
   "source": [
    "def popFront(arr):\n",
    "    if (len(arr)==0):\n",
    "        print(\"Queue is empty\")\n",
    "        return\n",
    "       \n",
    "    else:\n",
    "        for i in range (len(arr)-1):\n",
    "            arr[i]=arr[i+1]     \n",
    "        arr.pop()\n",
    "        #return arr\n",
    "        \n",
    "    "
   ]
  },
  {
   "cell_type": "code",
   "execution_count": 59,
   "id": "750fa05b",
   "metadata": {},
   "outputs": [],
   "source": [
    "def searchQueue(arr,x):\n",
    "    k=-1\n",
    "    for i in range (len(arr)):\n",
    "        if (arr[i]==x):\n",
    "            k=i\n",
    "            break\n",
    "            \n",
    "    if (k==-1):\n",
    "        print(\"The element is not present in the queue\")\n",
    "        return\n",
    "        \n",
    "    else:\n",
    "        print(\"The element is present at the index \",k)\n",
    "        return"
   ]
  },
  {
   "cell_type": "code",
   "execution_count": 60,
   "id": "71df2dc0",
   "metadata": {},
   "outputs": [],
   "source": [
    "timePushBack=[]\n",
    "timePushFront=[]\n",
    "timePopBack=[]\n",
    "timePopFront=[]\n",
    "timeSearch=[]"
   ]
  },
  {
   "cell_type": "code",
   "execution_count": 61,
   "id": "80ddb735",
   "metadata": {},
   "outputs": [
    {
     "name": "stdout",
     "output_type": "stream",
     "text": [
      "The element is present at the index  100\n",
      "The element is present at the index  200\n",
      "The element is present at the index  500\n",
      "The element is present at the index  1000\n",
      "The element is present at the index  5000\n",
      "The element is present at the index  10000\n",
      "The element is present at the index  20000\n"
     ]
    }
   ],
   "source": [
    "for j in range (len(size)):\n",
    "    queue=[]\n",
    "    for i in range (size[j]):\n",
    "        queue.append(rn.randint(1,20))\n",
    "    \n",
    "    start=time.time()\n",
    "    pushBack(queue,25)\n",
    "    stop=time.time()\n",
    "    timePushBack.append(stop-start)\n",
    "    \n",
    "    start=time.time()\n",
    "    popBack(queue)\n",
    "    stop=time.time()\n",
    "    timePopBack.append(stop-start)\n",
    "    \n",
    "    start=time.time()\n",
    "    pushFront(queue,25)\n",
    "    stop=time.time()\n",
    "    timePushFront.append(stop-start)\n",
    "    \n",
    "    start=time.time()\n",
    "    popFront(queue)\n",
    "    stop=time.time()\n",
    "    timePopFront.append(stop-start)\n",
    "    \n",
    "    queue.append(25)\n",
    "    \n",
    "    start=time.time()\n",
    "    searchQueue(queue,25)\n",
    "    stop=time.time()\n",
    "    timeSearch.append(stop-start)\n",
    "    "
   ]
  },
  {
   "cell_type": "code",
   "execution_count": 62,
   "id": "b9d087db",
   "metadata": {},
   "outputs": [
    {
     "data": {
      "image/png": "[encoded data removed]",
      "text/plain": [
       "<Figure size 432x288 with 1 Axes>"
      ]
     },
     "metadata": {
      "needs_background": "light"
     },
     "output_type": "display_data"
    }
   ],
   "source": [
    "plt.scatter(size,timePushBack)\n",
    "plt.title('Time taken to add an element on the rear end')\n",
    "plt.show()"
   ]
  },
  {
   "cell_type": "code",
   "execution_count": 63,
   "id": "8e314cf6",
   "metadata": {},
   "outputs": [
    {
     "data": {
      "image/png": "[encoded data removed]",
      "text/plain": [
       "<Figure size 432x288 with 1 Axes>"
      ]
     },
     "metadata": {
      "needs_background": "light"
     },
     "output_type": "display_data"
    }
   ],
   "source": [
    "plt.scatter(size,timePushFront)\n",
    "plt.title('Time taken to add an element on the front end')\n",
    "plt.show()"
   ]
  },
  {
   "cell_type": "code",
   "execution_count": 64,
   "id": "9944b7d2",
   "metadata": {},
   "outputs": [
    {
     "data": {
      "image/png": "[encoded data removed]",
      "text/plain": [
       "<Figure size 432x288 with 1 Axes>"
      ]
     },
     "metadata": {
      "needs_background": "light"
     },
     "output_type": "display_data"
    }
   ],
   "source": [
    "plt.scatter(size,timePopBack)\n",
    "plt.title('Time taken to delete an element on the rear end')\n",
    "plt.show()"
   ]
  },
  {
   "cell_type": "code",
   "execution_count": 65,
   "id": "87d2f905",
   "metadata": {},
   "outputs": [
    {
     "data": {
      "image/png": "[encoded data removed]",
      "text/plain": [
       "<Figure size 432x288 with 1 Axes>"
      ]
     },
     "metadata": {
      "needs_background": "light"
     },
     "output_type": "display_data"
    }
   ],
   "source": [
    "plt.scatter(size,timePopFront)\n",
    "plt.title('Time taken to delete an element on the front end')\n",
    "plt.show()"
   ]
  },
  {
   "cell_type": "code",
   "execution_count": 66,
   "id": "3c0a2b1b",
   "metadata": {},
   "outputs": [
    {
     "data": {
      "image/png": "[encoded data removed]",
      "text/plain": [
       "<Figure size 432x288 with 1 Axes>"
      ]
     },
     "metadata": {
      "needs_background": "light"
     },
     "output_type": "display_data"
    }
   ],
   "source": [
    "plt.scatter(size,timeSearch)\n",
    "plt.title('Time taken to search an element')\n",
    "plt.show()"
   ]
  },
  {
   "cell_type": "markdown",
   "id": "ed54d362",
   "metadata": {},
   "source": [
    "#### Time Complexity"
   ]
  },
  {
   "cell_type": "markdown",
   "id": "3d7a32ad",
   "metadata": {},
   "source": [
    "1) For push back we add the elements from the rear side and hence the complexity is O(1)"
   ]
  },
  {
   "cell_type": "markdown",
   "id": "e25f0d25",
   "metadata": {},
   "source": [
    "2) For pop back we delete the elements from the back and hence the complexity is O(1)"
   ]
  },
  {
   "cell_type": "markdown",
   "id": "bfb01bd0",
   "metadata": {},
   "source": [
    "3) For push front we shift the n elements to the right by 1 index and add the element in the front. Hence the complexity is O(n)"
   ]
  },
  {
   "cell_type": "markdown",
   "id": "346425bb",
   "metadata": {},
   "source": [
    "4) For pop front we delete the first element and shift the n elements to the left by 1 index . Hence the time complexity is O(n)"
   ]
  },
  {
   "cell_type": "markdown",
   "id": "fb279055",
   "metadata": {},
   "source": [
    "5) For searching, the search technique is similar to that of linear search i.e. all the elements are checked one by one till the element desired is obtained. Hence the time complexity of searching is O(n)"
   ]
  },
  {
   "cell_type": "markdown",
   "id": "327bf58e",
   "metadata": {},
   "source": [
    "----"
   ]
  },
  {
   "cell_type": "markdown",
   "id": "3dabfb03",
   "metadata": {},
   "source": [
    "# Priority queues"
   ]
  },
  {
   "cell_type": "code",
   "execution_count": 67,
   "id": "7a5035b1",
   "metadata": {},
   "outputs": [],
   "source": [
    "def enque (arr,x):\n",
    "    arr.append(x)\n",
    "    #return arr"
   ]
  },
  {
   "cell_type": "code",
   "execution_count": 68,
   "id": "7edb4b17",
   "metadata": {},
   "outputs": [],
   "source": [
    "def deque (arr):\n",
    "    \n",
    "    if (len(arr)==0):\n",
    "        print(\"Queue is empty\")\n",
    "        return\n",
    "       \n",
    "    else:\n",
    "        minimum=arr[0]\n",
    "        minIndex=0\n",
    "        \n",
    "        for i in range (len(arr)):\n",
    "            if (arr[i]<minimum):\n",
    "                minimum=arr[i]\n",
    "                minIndex=i\n",
    "                \n",
    "        for i in range (minIndex,len(arr)-1):\n",
    "            arr[i]=arr[i+1]\n",
    "            \n",
    "        arr.pop()\n",
    "    #return arr\n"
   ]
  },
  {
   "cell_type": "code",
   "execution_count": 69,
   "id": "a97671c6",
   "metadata": {},
   "outputs": [],
   "source": [
    "def searchQueue(arr,x):\n",
    "    k=-1\n",
    "    for i in range (len(arr)):\n",
    "        if (arr[i]==x):\n",
    "            k=i\n",
    "            break\n",
    "            \n",
    "    if (k==-1):\n",
    "        print(\"The element is not present in the queue\")\n",
    "        return\n",
    "        \n",
    "    else:\n",
    "        print(\"The element is present at the index \",k)\n",
    "        return"
   ]
  },
  {
   "cell_type": "code",
   "execution_count": 70,
   "id": "03ed2031",
   "metadata": {},
   "outputs": [],
   "source": [
    "timeEnquep=[]\n",
    "timeDequep=[]\n",
    "timeSearchp=[]"
   ]
  },
  {
   "cell_type": "code",
   "execution_count": 71,
   "id": "0161b78f",
   "metadata": {},
   "outputs": [
    {
     "name": "stdout",
     "output_type": "stream",
     "text": [
      "The element is present at the index  99\n",
      "The element is present at the index  199\n",
      "The element is present at the index  499\n",
      "The element is present at the index  999\n",
      "The element is present at the index  4999\n",
      "The element is present at the index  9999\n",
      "The element is present at the index  19999\n"
     ]
    }
   ],
   "source": [
    "for j in range (len(size)):\n",
    "    queue=[]\n",
    "    for i in range (size[j]):\n",
    "        queue.append(rn.randint(1,20))\n",
    "    queue.append(25)\n",
    "    \n",
    "    start=time.time()\n",
    "    enque(queue,rn.randint(1,10))\n",
    "    stop=time.time()\n",
    "    timeEnquep.append(stop-start)\n",
    "    \n",
    "    start=time.time()\n",
    "    deque(queue)\n",
    "    stop=time.time()\n",
    "    timeDequep.append(stop-start)\n",
    "    \n",
    "    start=time.time()\n",
    "    searchQueue(queue,25)\n",
    "    stop=time.time()\n",
    "    timeSearchp.append(stop-start)"
   ]
  },
  {
   "cell_type": "code",
   "execution_count": 72,
   "id": "09318034",
   "metadata": {},
   "outputs": [
    {
     "data": {
      "image/png": "[encoded data removed]",
      "text/plain": [
       "<Figure size 432x288 with 1 Axes>"
      ]
     },
     "metadata": {
      "needs_background": "light"
     },
     "output_type": "display_data"
    }
   ],
   "source": [
    "plt.scatter(size,timeEnquep)\n",
    "plt.title('Time taken to insert an element into a queue')\n",
    "plt.show()"
   ]
  },
  {
   "cell_type": "code",
   "execution_count": 73,
   "id": "1b7bebf2",
   "metadata": {},
   "outputs": [
    {
     "data": {
      "image/png": "[encoded data removed]",
      "text/plain": [
       "<Figure size 432x288 with 1 Axes>"
      ]
     },
     "metadata": {
      "needs_background": "light"
     },
     "output_type": "display_data"
    }
   ],
   "source": [
    "plt.scatter(size,timeDequep)\n",
    "plt.title('Time taken to delete an element from a queue')\n",
    "plt.show()"
   ]
  },
  {
   "cell_type": "code",
   "execution_count": 74,
   "id": "75c7b7b8",
   "metadata": {},
   "outputs": [
    {
     "data": {
      "image/png": "[encoded data removed]",
      "text/plain": [
       "<Figure size 432x288 with 1 Axes>"
      ]
     },
     "metadata": {
      "needs_background": "light"
     },
     "output_type": "display_data"
    }
   ],
   "source": [
    "plt.scatter(size,timeSearchp)\n",
    "plt.title('Time taken to search an element in a queue')\n",
    "plt.show()"
   ]
  },
  {
   "cell_type": "markdown",
   "id": "c5d02460",
   "metadata": {},
   "source": [
    "#### Time Complexity"
   ]
  },
  {
   "cell_type": "markdown",
   "id": "e6e7b527",
   "metadata": {},
   "source": [
    "1) For insertion or enque the element is added directly to the end of the queue. Hence the time complexity for enque is O(1)."
   ]
  },
  {
   "cell_type": "markdown",
   "id": "15e1f881",
   "metadata": {},
   "source": [
    "2) For dequeueing or deletion of an element in a priority queue , we first need to search the element with the highest priority(i.e. the minimum value in the queue), and then delete it. After that we have to shift all the elements after it 1 index to the left. Searching has a time complexity of O(n) and shifting also has a time complexity of O(n). Hence the net time complexity is O(n)+O(n)= O(n)."
   ]
  },
  {
   "cell_type": "markdown",
   "id": "a02f8815",
   "metadata": {},
   "source": [
    "3) For searching, the search technique is similar to that of linear search i.e. all the elements are checked one by one till the element desired is obtained. Hence the time complexity of searching is O(n)"
   ]
  },
  {
   "cell_type": "markdown",
   "id": "e461c021",
   "metadata": {},
   "source": [
    "---"
   ]
  },
  {
   "cell_type": "markdown",
   "id": "d7084e22",
   "metadata": {},
   "source": [
    "# Stack"
   ]
  },
  {
   "cell_type": "code",
   "execution_count": 75,
   "id": "6f2fece2",
   "metadata": {},
   "outputs": [],
   "source": [
    "def push(arr,x):\n",
    "    arr.append(x)\n",
    "    return"
   ]
  },
  {
   "cell_type": "code",
   "execution_count": 76,
   "id": "94ea559a",
   "metadata": {},
   "outputs": [],
   "source": [
    "def pop(arr):\n",
    "    if (len(arr)==0):\n",
    "        print(\"The stack is empty\")\n",
    "        return\n",
    "    else:\n",
    "        arr.pop()\n",
    "        return"
   ]
  },
  {
   "cell_type": "code",
   "execution_count": 77,
   "id": "a5094e5b",
   "metadata": {},
   "outputs": [],
   "source": [
    "def search(arr,x):\n",
    "    k=-1\n",
    "    for i in range (len(arr)):\n",
    "        if (arr[i]==x):\n",
    "            k=i\n",
    "            break\n",
    "            \n",
    "    if (k==-1):\n",
    "        print(\"The element is not present in the stack\")\n",
    "        return\n",
    "        \n",
    "    else:\n",
    "        print(\"The element is present at the index \",k)\n",
    "        return"
   ]
  },
  {
   "cell_type": "code",
   "execution_count": 78,
   "id": "d84fec4a",
   "metadata": {},
   "outputs": [],
   "source": [
    "timePush=[]\n",
    "timePop=[]\n",
    "timeSearch=[]"
   ]
  },
  {
   "cell_type": "code",
   "execution_count": 79,
   "id": "c46d2375",
   "metadata": {},
   "outputs": [
    {
     "name": "stdout",
     "output_type": "stream",
     "text": [
      "The element is present at the index  99\n",
      "The element is present at the index  199\n",
      "The element is present at the index  499\n",
      "The element is present at the index  999\n",
      "The element is present at the index  4999\n",
      "The element is present at the index  9999\n",
      "The element is present at the index  19999\n"
     ]
    }
   ],
   "source": [
    "for j in range (len(size)):\n",
    "    stack=[]\n",
    "    for i in range (size[j]):\n",
    "        stack.append(rn.randint(1,20))\n",
    "        \n",
    "    start=time.time()\n",
    "    pop(stack)\n",
    "    stop=time.time()\n",
    "    timePop.append(stop-start)\n",
    "    \n",
    "    start=time.time()\n",
    "    push(stack,25)\n",
    "    stop=time.time()\n",
    "    timePush.append(stop-start)\n",
    "    \n",
    "    start=time.time()\n",
    "    search(stack,25)\n",
    "    stop=time.time()\n",
    "    timeSearch.append(stop-start)\n",
    "    \n",
    "    "
   ]
  },
  {
   "cell_type": "code",
   "execution_count": 80,
   "id": "a24db2bf",
   "metadata": {},
   "outputs": [
    {
     "name": "stdout",
     "output_type": "stream",
     "text": [
      "[0.0, 0.0, 0.0, 0.0, 0.0, 0.0, 0.001004934310913086]\n"
     ]
    }
   ],
   "source": [
    "print(timePush)"
   ]
  },
  {
   "cell_type": "code",
   "execution_count": 81,
   "id": "9e2c11a8",
   "metadata": {},
   "outputs": [
    {
     "data": {
      "image/png": "[encoded data removed]",
      "text/plain": [
       "<Figure size 432x288 with 1 Axes>"
      ]
     },
     "metadata": {
      "needs_background": "light"
     },
     "output_type": "display_data"
    }
   ],
   "source": [
    "plt.scatter(size,timePush)\n",
    "plt.title('Time taken to insert an element into a stack')\n",
    "plt.show()"
   ]
  },
  {
   "cell_type": "code",
   "execution_count": 82,
   "id": "c9910113",
   "metadata": {},
   "outputs": [
    {
     "data": {
      "image/png": "[encoded data removed]",
      "text/plain": [
       "<Figure size 432x288 with 1 Axes>"
      ]
     },
     "metadata": {
      "needs_background": "light"
     },
     "output_type": "display_data"
    }
   ],
   "source": [
    "plt.scatter(size,timePop)\n",
    "plt.title('Time taken to delete an element from a stack')\n",
    "plt.show()"
   ]
  },
  {
   "cell_type": "code",
   "execution_count": 83,
   "id": "646dbcfc",
   "metadata": {},
   "outputs": [
    {
     "data": {
      "image/png": "[encoded data removed]",
      "text/plain": [
       "<Figure size 432x288 with 1 Axes>"
      ]
     },
     "metadata": {
      "needs_background": "light"
     },
     "output_type": "display_data"
    }
   ],
   "source": [
    "plt.scatter(size,timeSearch)\n",
    "plt.title('Time taken to search an element in the stack')\n",
    "plt.show()"
   ]
  },
  {
   "cell_type": "markdown",
   "id": "d81cc245",
   "metadata": {},
   "source": [
    "#### Time Complexity"
   ]
  },
  {
   "cell_type": "markdown",
   "id": "597d9ea3",
   "metadata": {},
   "source": [
    "1) The elements are added at the end. Hence the time complexity for insertion is O(1).\n"
   ]
  },
  {
   "cell_type": "markdown",
   "id": "75522287",
   "metadata": {},
   "source": [
    "2) The elements are deleted from the end and hence the time complexity for deletion is O(1)"
   ]
  },
  {
   "cell_type": "markdown",
   "id": "afcb4bca",
   "metadata": {},
   "source": [
    "3) For searching, the search technique is similar to that of linear search i.e. all the elements are checked one by one till the element desired is obtained. Hence the time complexity of searching is O(n)"
   ]
  },
  {
   "cell_type": "markdown",
   "id": "d18876c0",
   "metadata": {},
   "source": [
    "---"
   ]
  },
  {
   "cell_type": "markdown",
   "id": "9ea6f727",
   "metadata": {},
   "source": [
    "# Linked lists"
   ]
  },
  {
   "cell_type": "code",
   "execution_count": 131,
   "id": "ebc14b10",
   "metadata": {},
   "outputs": [],
   "source": [
    "class Node:\n",
    "    def __init__(self, data=None, next=None):\n",
    "        self.data = data\n",
    "        self.next = next"
   ]
  },
  {
   "cell_type": "code",
   "execution_count": 132,
   "id": "0d1e6b1c",
   "metadata": {},
   "outputs": [],
   "source": [
    "class linkedList:\n",
    "    def __init__(self):\n",
    "        self.head = None\n",
    "        \n",
    "    def print(self):\n",
    "        if self.head is None:\n",
    "            print(\"Linked list is empty\")\n",
    "            return\n",
    "        \n",
    "        itr = self.head\n",
    "        llstr = ''\n",
    "        while itr:\n",
    "            llstr += str(itr.data)+' , ' \n",
    "            if itr.next else str(itr.data)\n",
    "            itr = itr.next\n",
    "        print(llstr)\n",
    "        \n",
    "    def length(self):\n",
    "        count = 0\n",
    "        itr = self.head\n",
    "        while itr:\n",
    "            count+=1\n",
    "            itr = itr.next\n",
    "\n",
    "        return count\n",
    "    \n",
    "    def insertBeginning(self, data):\n",
    "        node = Node(data, self.head)\n",
    "        self.head = node\n",
    "        \n",
    "    def insertEnd(self, data):\n",
    "        if self.head is None:\n",
    "            self.head = Node(data, None)\n",
    "            return\n",
    "\n",
    "        itr = self.head\n",
    "\n",
    "        while itr.next:\n",
    "            itr = itr.next\n",
    "\n",
    "        itr.next = Node(data, None)\n",
    "        \n",
    "    def insert(self, index, data):\n",
    "        if index<0 or index>self.length():\n",
    "            print(\"invalid input\")\n",
    "            return\n",
    "        \n",
    "\n",
    "        if index==0:\n",
    "            self.insertBeginning(data)\n",
    "            return\n",
    "\n",
    "        count = 0\n",
    "        itr = self.head\n",
    "        while itr:\n",
    "            if count == index - 1:\n",
    "                node = Node(data, itr.next)\n",
    "                itr.next = node\n",
    "                break\n",
    "\n",
    "            itr = itr.next\n",
    "            count += 1\n",
    "        \n",
    "    def delete(self, index):\n",
    "        if index<0 or index>=self.length():\n",
    "            print(\"Invalid Index\")\n",
    "            return\n",
    "        \n",
    "\n",
    "        if index==0:\n",
    "            self.head = self.head.next\n",
    "            return\n",
    "\n",
    "        count = 0\n",
    "        itr = self.head\n",
    "        while itr:\n",
    "            if count == index - 1:\n",
    "                itr.next = itr.next.next\n",
    "                break\n",
    "\n",
    "            itr = itr.next\n",
    "            count+=1\n",
    "            \n",
    "    def search(self,value):\n",
    "        if self.head is None:\n",
    "            print(\"Linked list is empty\")\n",
    "            return\n",
    "        \n",
    "        itr = self.head\n",
    "        llstr = ''\n",
    "        while itr:\n",
    "            llstr += str(itr.data)+' , ' \n",
    "            if itr.next else str(itr.data)\n",
    "            itr = itr.next\n",
    "        \n",
    "            \n",
    "    "
   ]
  },
  {
   "cell_type": "code",
   "execution_count": 133,
   "id": "0afba73b",
   "metadata": {},
   "outputs": [],
   "source": [
    "timeInsert=[]\n",
    "timeDelete=[]"
   ]
  },
  {
   "cell_type": "code",
   "execution_count": 134,
   "id": "d2ec1c1a",
   "metadata": {},
   "outputs": [
    {
     "name": "stdout",
     "output_type": "stream",
     "text": [
      "[0.0, 0.0, 0.0, 0.0, 0.0, 0.0019927024841308594] [0.0, 0.0, 0.0, 0.0, 0.0, 0.0010001659393310547]\n"
     ]
    }
   ],
   "source": [
    "\n",
    "size=[5,10,100,500,1000,5000]\n",
    "for j in range (len(size)):\n",
    "    ll=linkedList()\n",
    "    \n",
    "    for i in range (size[j]):\n",
    "        ll.insertEnd(rn.randint(1,20))\n",
    "        ll.insertEnd(25)\n",
    "        \n",
    "    start=time.time()\n",
    "    ll.insert(size[j],23)\n",
    "    stop=time.time()\n",
    "    timeInsert.append(stop-start)\n",
    "    \n",
    "    start=time.time()\n",
    "    ll.delete(size[j])\n",
    "    stop=time.time()\n",
    "    timeDelete.append(stop-start)\n",
    "    \n",
    "print(timeInsert,timeDelete)\n"
   ]
  },
  {
   "cell_type": "code",
   "execution_count": 135,
   "id": "ea1a9b12",
   "metadata": {},
   "outputs": [
    {
     "data": {
      "image/png": "[encoded data removed]",
      "text/plain": [
       "<Figure size 432x288 with 1 Axes>"
      ]
     },
     "metadata": {
      "needs_background": "light"
     },
     "output_type": "display_data"
    }
   ],
   "source": [
    "plt.scatter(size,timeInsert)\n",
    "plt.title('Time taken to insert')\n",
    "plt.show()"
   ]
  },
  {
   "cell_type": "code",
   "execution_count": 136,
   "id": "7793b129",
   "metadata": {},
   "outputs": [
    {
     "data": {
      "image/png": "[encoded data removed]",
      "text/plain": [
       "<Figure size 432x288 with 1 Axes>"
      ]
     },
     "metadata": {
      "needs_background": "light"
     },
     "output_type": "display_data"
    }
   ],
   "source": [
    "plt.scatter(size,timeDelete)\n",
    "plt.title('Time taken to delete')\n",
    "plt.show()"
   ]
  },
  {
   "cell_type": "markdown",
   "id": "cfd88887",
   "metadata": {},
   "source": [
    "#### Time complexity"
   ]
  },
  {
   "cell_type": "markdown",
   "id": "cc519bbb",
   "metadata": {},
   "source": [
    "1) For inserting an element we need to move the pointer to the desired index and then add the node. To move the pointer to the desired location time Complexity is O(n) and time taken to create and add the node is O(1). Hence the total time complexity for inserting is O(n)."
   ]
  },
  {
   "cell_type": "markdown",
   "id": "edaa91b5",
   "metadata": {},
   "source": [
    "2) For deleting an element we need to move the pointer to the desired index and then delete the node. To move the pointer to the desired location time Complexity is O(n) and time taken to delete the node is O(1). Hence the total time complexity for deleting O(n)."
   ]
  },
  {
   "cell_type": "markdown",
   "id": "718eb3aa",
   "metadata": {},
   "source": [
    "----"
   ]
  }
 ],
 "metadata": {
  "kernelspec": {
   "display_name": "Python 3",
   "language": "python",
   "name": "python3"
  },
  "language_info": {
   "codemirror_mode": {
    "name": "ipython",
    "version": 3
   },
   "file_extension": ".py",
   "mimetype": "text/x-python",
   "name": "python",
   "nbconvert_exporter": "python",
   "pygments_lexer": "ipython3",
   "version": "3.8.8"
  }
 },
 "nbformat": 4,
 "nbformat_minor": 5
}
