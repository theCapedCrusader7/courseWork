{
 "cells": [
  {
   "cell_type": "code",
   "execution_count": 87,
   "id": "4707958b",
   "metadata": {},
   "outputs": [],
   "source": [
    "def partition(low,high,arr):\n",
    "    \n",
    "    p=low-1\n",
    "    pivot=arr[high]\n",
    "    \n",
    "    if low<high:\n",
    "        for i in range(low,high+1):\n",
    "            if arr[i]<=pivot:\n",
    "                temp=arr[i]\n",
    "                arr[i]=arr[p+1]\n",
    "                arr[p+1]=temp\n",
    "                p+=1\n",
    "                \n",
    "    return p"
   ]
  },
  {
   "cell_type": "code",
   "execution_count": 88,
   "id": "d1f69799",
   "metadata": {},
   "outputs": [],
   "source": [
    "def quickSort(start,end,arr):\n",
    "    if start<end:\n",
    "        i=partition(start,end,arr)\n",
    "        quickSort(start,i-1,arr)\n",
    "        quickSort(i+1,end,arr)\n",
    "        \n",
    "        "
   ]
  },
  {
   "cell_type": "code",
   "execution_count": 89,
   "id": "4c2297a5",
   "metadata": {},
   "outputs": [
    {
     "name": "stdout",
     "output_type": "stream",
     "text": [
      "[0, 1, 2, 3, 4, 5, 6, 7, 8, 9]\n"
     ]
    }
   ],
   "source": [
    "arr=[9,8,7,6,5,4,3,2,1,0]\n",
    "quickSort(0,len(arr)-1,arr)\n",
    "print(arr)"
   ]
  },
  {
   "cell_type": "code",
   "execution_count": 90,
   "id": "18c9a87a",
   "metadata": {},
   "outputs": [],
   "source": [
    "import time\n",
    "import random as rn\n",
    "import matplotlib.pyplot as plt\n",
    "import numpy as np\n",
    "\n",
    "n=[1000,2000,3000,4000,5000,6000,7000,8000,9000,10000]\n",
    "runTime=[]\n",
    "arr=[]\n",
    "\n",
    "for i in range(1000):\n",
    "    arr.append(rn.randint(0,1000000))\n",
    "    \n",
    "start=time.time()\n",
    "quickSort(0,len(arr)-1,arr)\n",
    "stop=time.time()\n",
    "runTime.append(stop-start)\n",
    "\n",
    "\n",
    "\n"
   ]
  },
  {
   "cell_type": "code",
   "execution_count": 91,
   "id": "dbe6fb7e",
   "metadata": {},
   "outputs": [],
   "source": [
    "arr=[]\n",
    "\n",
    "for i in range(2000):\n",
    "    arr.append(rn.randint(0,1000000))\n",
    "    \n",
    "start=time.time()\n",
    "quickSort(0,len(arr)-1,arr)\n",
    "stop=time.time()\n",
    "runTime.append(stop-start)"
   ]
  },
  {
   "cell_type": "code",
   "execution_count": 92,
   "id": "5bf79edd",
   "metadata": {},
   "outputs": [],
   "source": [
    "arr=[]\n",
    "\n",
    "for i in range(3000):\n",
    "    arr.append(rn.randint(0,1000000))\n",
    "    \n",
    "start=time.time()\n",
    "quickSort(0,len(arr)-1,arr)\n",
    "stop=time.time()\n",
    "runTime.append(stop-start)"
   ]
  },
  {
   "cell_type": "code",
   "execution_count": 93,
   "id": "61294d12",
   "metadata": {},
   "outputs": [],
   "source": [
    "arr=[]\n",
    "\n",
    "for i in range(4000):\n",
    "    arr.append(rn.randint(0,1000000))\n",
    "    \n",
    "start=time.time()\n",
    "quickSort(0,len(arr)-1,arr)\n",
    "stop=time.time()\n",
    "runTime.append(stop-start)"
   ]
  },
  {
   "cell_type": "code",
   "execution_count": 94,
   "id": "959d37d3",
   "metadata": {},
   "outputs": [],
   "source": [
    "arr=[]\n",
    "\n",
    "for i in range(5000):\n",
    "    arr.append(rn.randint(0,1000000))\n",
    "    \n",
    "start=time.time()\n",
    "quickSort(0,len(arr)-1,arr)\n",
    "stop=time.time()\n",
    "runTime.append(stop-start)"
   ]
  },
  {
   "cell_type": "code",
   "execution_count": 95,
   "id": "15d19c90",
   "metadata": {},
   "outputs": [],
   "source": [
    "arr=[]\n",
    "\n",
    "for i in range(6000):\n",
    "    arr.append(rn.randint(0,1000000))\n",
    "    \n",
    "start=time.time()\n",
    "quickSort(0,len(arr)-1,arr)\n",
    "stop=time.time()\n",
    "runTime.append(stop-start)"
   ]
  },
  {
   "cell_type": "code",
   "execution_count": 96,
   "id": "2c3b7042",
   "metadata": {},
   "outputs": [],
   "source": [
    "arr=[]\n",
    "\n",
    "for i in range(7000):\n",
    "    arr.append(rn.randint(0,1000000))\n",
    "    \n",
    "start=time.time()\n",
    "quickSort(0,len(arr)-1,arr)\n",
    "stop=time.time()\n",
    "runTime.append(stop-start)"
   ]
  },
  {
   "cell_type": "code",
   "execution_count": 97,
   "id": "098582f2",
   "metadata": {},
   "outputs": [],
   "source": [
    "arr=[]\n",
    "\n",
    "for i in range(8000):\n",
    "    arr.append(rn.randint(0,1000000))\n",
    "    \n",
    "start=time.time()\n",
    "quickSort(0,len(arr)-1,arr)\n",
    "stop=time.time()\n",
    "runTime.append(stop-start)"
   ]
  },
  {
   "cell_type": "code",
   "execution_count": 98,
   "id": "47a262e9",
   "metadata": {},
   "outputs": [],
   "source": [
    "arr=[]\n",
    "\n",
    "for i in range(9000):\n",
    "    arr.append(rn.randint(0,1000000))\n",
    "    \n",
    "start=time.time()\n",
    "quickSort(0,len(arr)-1,arr)\n",
    "stop=time.time()\n",
    "runTime.append(stop-start)"
   ]
  },
  {
   "cell_type": "code",
   "execution_count": 99,
   "id": "82e3dbfe",
   "metadata": {},
   "outputs": [],
   "source": [
    "arr=[]\n",
    "\n",
    "for i in range(10000):\n",
    "    arr.append(rn.randint(0,1000000))\n",
    "    \n",
    "start=time.time()\n",
    "quickSort(0,len(arr)-1,arr)\n",
    "stop=time.time()\n",
    "runTime.append(stop-start)"
   ]
  },
  {
   "cell_type": "code",
   "execution_count": 100,
   "id": "d9d2888b",
   "metadata": {},
   "outputs": [],
   "source": [
    "#print(runTime)"
   ]
  },
  {
   "cell_type": "markdown",
   "id": "367ed8bd",
   "metadata": {},
   "source": [
    "# Scatterplot for runtime vs size of array"
   ]
  },
  {
   "cell_type": "code",
   "execution_count": 101,
   "id": "e1c4f692",
   "metadata": {},
   "outputs": [
    {
     "data": {
      "text/plain": [
       "<function matplotlib.pyplot.show(close=None, block=None)>"
      ]
     },
     "execution_count": 101,
     "metadata": {},
     "output_type": "execute_result"
    },
    {
     "data": {
      "image/png": "[encoded data removed]",
      "text/plain": [
       "<Figure size 432x288 with 1 Axes>"
      ]
     },
     "metadata": {
      "needs_background": "light"
     },
     "output_type": "display_data"
    }
   ],
   "source": [
    "plt.scatter(n,runTime)\n",
    "plt.show"
   ]
  },
  {
   "cell_type": "markdown",
   "id": "c185f082",
   "metadata": {},
   "source": [
    "# Variance of runtime for a fixed array size"
   ]
  },
  {
   "cell_type": "code",
   "execution_count": 102,
   "id": "98670109",
   "metadata": {},
   "outputs": [
    {
     "name": "stdout",
     "output_type": "stream",
     "text": [
      "The variance of runtime for an array size of 5000 is  2.8200906093742457e-05\n"
     ]
    }
   ],
   "source": [
    "import statistics\n",
    "\n",
    "\n",
    "runTimeVariance=[]\n",
    "\n",
    "arr=[]\n",
    "for i in range(5000):\n",
    "    arr.append(rn.randint(0,1000000))\n",
    "    \n",
    "start=time.time()\n",
    "quickSort(0,len(arr)-1,arr)\n",
    "stop=time.time()\n",
    "runTimeVariance.append(stop-start)\n",
    "\n",
    "arr=[]\n",
    "for i in range(5000):\n",
    "    arr.append(rn.randint(0,1000000))\n",
    "    \n",
    "start=time.time()\n",
    "quickSort(0,len(arr)-1,arr)\n",
    "stop=time.time()\n",
    "runTimeVariance.append(stop-start)\n",
    "\n",
    "arr=[]\n",
    "for i in range(5000):\n",
    "    arr.append(rn.randint(0,1000000))\n",
    "    \n",
    "start=time.time()\n",
    "quickSort(0,len(arr)-1,arr)\n",
    "stop=time.time()\n",
    "runTimeVariance.append(stop-start)\n",
    "\n",
    "arr=[]\n",
    "for i in range(5000):\n",
    "    arr.append(rn.randint(0,1000000))\n",
    "    \n",
    "start=time.time()\n",
    "quickSort(0,len(arr)-1,arr)\n",
    "stop=time.time()\n",
    "runTimeVariance.append(stop-start)\n",
    "\n",
    "arr=[]\n",
    "for i in range(5000):\n",
    "    arr.append(rn.randint(0,1000000))\n",
    "    \n",
    "start=time.time()\n",
    "quickSort(0,len(arr)-1,arr)\n",
    "stop=time.time()\n",
    "runTimeVariance.append(stop-start)\n",
    "\n",
    "arr=[]\n",
    "for i in range(5000):\n",
    "    arr.append(rn.randint(0,1000000))\n",
    "    \n",
    "start=time.time()\n",
    "quickSort(0,len(arr)-1,arr)\n",
    "stop=time.time()\n",
    "runTimeVariance.append(stop-start)\n",
    "\n",
    "arr=[]\n",
    "for i in range(5000):\n",
    "    arr.append(rn.randint(0,1000000))\n",
    "    \n",
    "start=time.time()\n",
    "quickSort(0,len(arr)-1,arr)\n",
    "stop=time.time()\n",
    "runTimeVariance.append(stop-start)\n",
    "\n",
    "arr=[]\n",
    "for i in range(5000):\n",
    "    arr.append(rn.randint(0,1000000))\n",
    "    \n",
    "start=time.time()\n",
    "quickSort(0,len(arr)-1,arr)\n",
    "stop=time.time()\n",
    "runTimeVariance.append(stop-start)\n",
    "\n",
    "arr=[]\n",
    "for i in range(5000):\n",
    "    arr.append(rn.randint(0,1000000))\n",
    "    \n",
    "start=time.time()\n",
    "quickSort(0,len(arr)-1,arr)\n",
    "stop=time.time()\n",
    "runTimeVariance.append(stop-start)\n",
    "\n",
    "arr=[]\n",
    "for i in range(5000):\n",
    "    arr.append(rn.randint(0,1000000))\n",
    "    \n",
    "start=time.time()\n",
    "quickSort(0,len(arr)-1,arr)\n",
    "stop=time.time()\n",
    "runTimeVariance.append(stop-start)\n",
    "\n",
    "variance=statistics.variance(runTimeVariance)\n",
    "\n",
    "print(\"The variance of runtime for an array size of 5000 is \",variance)"
   ]
  },
  {
   "cell_type": "markdown",
   "id": "209c5e91",
   "metadata": {},
   "source": [
    "The runtime depends on the position of the pivot and since the pivot changes as the numbers in the array are changed a variance in runtime is observed for the same size of array"
   ]
  },
  {
   "cell_type": "code",
   "execution_count": null,
   "id": "e9590c5f",
   "metadata": {},
   "outputs": [],
   "source": []
  },
  {
   "cell_type": "code",
   "execution_count": null,
   "id": "7043ec52",
   "metadata": {},
   "outputs": [],
   "source": []
  }
 ],
 "metadata": {
  "kernelspec": {
   "display_name": "Python 3",
   "language": "python",
   "name": "python3"
  },
  "language_info": {
   "codemirror_mode": {
    "name": "ipython",
    "version": 3
   },
   "file_extension": ".py",
   "mimetype": "text/x-python",
   "name": "python",
   "nbconvert_exporter": "python",
   "pygments_lexer": "ipython3",
   "version": "3.8.8"
  }
 },
 "nbformat": 4,
 "nbformat_minor": 5
}
