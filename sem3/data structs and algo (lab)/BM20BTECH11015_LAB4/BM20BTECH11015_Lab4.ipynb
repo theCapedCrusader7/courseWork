{
 "cells": [
  {
   "cell_type": "code",
   "execution_count": 29,
   "id": "8a9219c8",
   "metadata": {},
   "outputs": [],
   "source": [
    "import math\n",
    "import random as rn\n",
    "import matplotlib.pyplot as plt\n",
    "import timeit\n",
    "\n",
    "n=[5,10,20,50,100,500,1000,5000,10000]\n",
    "\n",
    "swapInsertion=[]\n",
    "compareInsertion=[]\n",
    "swapSelection=[]\n",
    "compareSelection=[]\n",
    "swapBubble=[]\n",
    "compareBubble=[]\n",
    "timeInsertion=[]\n",
    "timeSelection=[]\n",
    "timeBubble=[]"
   ]
  },
  {
   "cell_type": "code",
   "execution_count": 30,
   "id": "ecafa548",
   "metadata": {},
   "outputs": [
    {
     "name": "stdout",
     "output_type": "stream",
     "text": [
      "The unsorted array is  [245735858, 486477523, 970767390, 490948199, 984604767]\n",
      "Number of swaps done in insertion sort  4\n",
      "Number of comparisons done in insertion sort  1\n",
      "Time for running insertion sort  0.0001140000003942987\n",
      "Number of swaps done in selection sort  5\n",
      "Number of comparisons done in selection sort  15\n",
      "Time for running Selection sort  0.00018259999887959566\n",
      "Number of swaps done in bubble sort  1\n",
      "Number of comparisons done in bubble sort  10\n",
      "Time for running bubble sort  0.00019049999900744297\n"
     ]
    }
   ],
   "source": [
    "arr=[]\n",
    "arr1=[]\n",
    "arr2=[]\n",
    "arr3=[]\n",
    "a=0\n",
    "a1=0\n",
    "\n",
    "for a in range(5):\n",
    "    element=rn.randint(0,1000000000)\n",
    "    arr.append(element)\n",
    "    \n",
    "for a1 in range (5):\n",
    "    arr1.append(arr[a1])\n",
    "    arr2.append(arr[a1])\n",
    "    arr3.append(arr[a1])\n",
    "    \n",
    "print(\"The unsorted array is \",arr)\n",
    "\n",
    "#insertionsort\n",
    "start = timeit.default_timer()\n",
    "numComparisons=0\n",
    "numSwaps=0\n",
    "temp=0\n",
    "\n",
    "for i in range(1,len(arr1)):\n",
    "    temp=arr1[i]\n",
    "    b=i-1\n",
    "    \n",
    "    \n",
    "    while b >=0 and temp < arr1[b] :\n",
    "        arr1[b+1] = arr1[b]\n",
    "        b-= 1\n",
    "        numComparisons+=1\n",
    "    arr1[b+1] = temp\n",
    "    numSwaps=numSwaps+1\n",
    "    \n",
    "stop=timeit.default_timer()\n",
    "\n",
    "            \n",
    "swapInsertion.append(numSwaps)\n",
    "compareInsertion.append(numComparisons)\n",
    "timeInsertion.append(stop-start)\n",
    "\n",
    "\n",
    "print(\"Number of swaps done in insertion sort \",numSwaps)\n",
    "print(\"Number of comparisons done in insertion sort \",numComparisons)\n",
    "print(\"Time for running insertion sort \",stop-start)\n",
    "\n",
    "#selectionsort\n",
    "start = timeit.default_timer()\n",
    "numComparisons=0\n",
    "numSwaps=0\n",
    "temp=0\n",
    "\n",
    "for i in range(len(arr2)):\n",
    "    min=i\n",
    "    for k in range(i,len(arr2)):\n",
    "        numComparisons=numComparisons+1\n",
    "        if arr2[min] > arr2[k]:\n",
    "            min=k\n",
    "    temp=arr2[min]\n",
    "    arr2[min]=arr2[i]\n",
    "    arr2[i]=temp\n",
    "    numSwaps=numSwaps+1\n",
    "\n",
    "    \n",
    "stop=timeit.default_timer()\n",
    "\n",
    "\n",
    "swapSelection.append(numSwaps)\n",
    "compareSelection.append(numComparisons)\n",
    "timeSelection.append(stop-start)\n",
    "\n",
    "print(\"Number of swaps done in selection sort \",numSwaps)\n",
    "print(\"Number of comparisons done in selection sort \",numComparisons)\n",
    "print(\"Time for running Selection sort \",stop-start)\n",
    "\n",
    "\n",
    "#bubblesort\n",
    "start = timeit.default_timer()\n",
    "numComparisons=0\n",
    "numSwaps=0\n",
    "temp=0\n",
    "\n",
    "for i in range(len(arr3)):\n",
    "    for j in range(len(arr3)-i-1):\n",
    "        numComparisons=numComparisons+1\n",
    "        if arr3[j]>arr3[j+1]:\n",
    "            temp=arr3[j]\n",
    "            arr3[j]=arr3[j+1]\n",
    "            arr3[j+1]=temp\n",
    "            numSwaps=numSwaps+1\n",
    "stop=timeit.default_timer()\n",
    "\n",
    "swapBubble.append(numSwaps)\n",
    "compareBubble.append(numComparisons)\n",
    "timeBubble.append(stop-start)\n",
    "\n",
    "print(\"Number of swaps done in bubble sort \",numSwaps)\n",
    "print(\"Number of comparisons done in bubble sort \",numComparisons)\n",
    "print(\"Time for running bubble sort \",stop-start)"
   ]
  },
  {
   "cell_type": "code",
   "execution_count": 32,
   "id": "7627a9e0",
   "metadata": {},
   "outputs": [
    {
     "data": {
      "image/png": "[encoded data removed]",
      "text/plain": [
       "<Figure size 720x360 with 1 Axes>"
      ]
     },
     "metadata": {
      "needs_background": "light"
     },
     "output_type": "display_data"
    }
   ],
   "source": [
    "\n",
    "import numpy as np\n",
    "import matplotlib.pyplot as plt\n",
    " \n",
    "  \n",
    "data = {'Insertion Sort':timeInsertion[0], 'Selection Sort':timeSelection[0], 'Bubble sort':timeBubble[0],}\n",
    "\n",
    "algorithm = list(data.keys())\n",
    "time = list(data.values())\n",
    "  \n",
    "fig = plt.figure(figsize = (10, 5))\n",
    " \n",
    "\n",
    "plt.bar(algorithm, time, color ='maroon',\n",
    "        width = 0.4)\n",
    " \n",
    "plt.xlabel(\"Different Algorithms\")\n",
    "plt.ylabel(\"Time taken\")\n",
    "plt.title(\"Time taken to run different algorithms\")\n",
    "plt.show()"
   ]
  },
  {
   "cell_type": "markdown",
   "id": "92b6659b",
   "metadata": {},
   "source": [
    "# Report"
   ]
  },
  {
   "cell_type": "markdown",
   "id": "d71ec34e",
   "metadata": {},
   "source": [
    "The efficiency of the algoriths can be explained in two ways. Based on the number of swaps, comparisions, shifts and it can also be explained by looking directly at the time taken to run the algorithm"
   ]
  },
  {
   "cell_type": "markdown",
   "id": "847e31ec",
   "metadata": {},
   "source": [
    "Based on number of operations"
   ]
  },
  {
   "cell_type": "markdown",
   "id": "a61edb76",
   "metadata": {},
   "source": [
    "Operations typically comprise of 3 steps.\n",
    "\n",
    "1) Shifting\n",
    "2) Swapping\n",
    "3) comparing\n",
    "\n",
    "If the time taken to do compariing is x, then typically the time taken for shifting is 1.5x and time taken for swapping is 2.5x. \n",
    "\n",
    "In bubble sort there is a lot of swapping and comparing and hence it is the slowest among the 3.\n",
    "In selection sort, it has comparatively fewer number of swaps than bubble sort and almost the same as insertion sort but has more comparisions and shifting hence it is the 2nd fastest algorithm\n",
    "In insertion sort there is the least number of swapping, comparision and shifting and hece it is the fastest algorithm \n"
   ]
  },
  {
   "cell_type": "markdown",
   "id": "2ea54d2f",
   "metadata": {},
   "source": [
    "Based on time taken"
   ]
  },
  {
   "cell_type": "markdown",
   "id": "486938df",
   "metadata": {},
   "source": [
    "In the example above we can clearly see the time taken by insertion sort is the least and bubble sort is highest"
   ]
  },
  {
   "cell_type": "markdown",
   "id": "0cfcfbba",
   "metadata": {},
   "source": [
    "\n",
    "\n",
    "Hence we can tell the efficiency of the algorithms is in the order insertion>selection>bubble"
   ]
  },
  {
   "cell_type": "code",
   "execution_count": null,
   "id": "b3666443",
   "metadata": {},
   "outputs": [],
   "source": []
  }
 ],
 "metadata": {
  "kernelspec": {
   "display_name": "Python 3",
   "language": "python",
   "name": "python3"
  },
  "language_info": {
   "codemirror_mode": {
    "name": "ipython",
    "version": 3
   },
   "file_extension": ".py",
   "mimetype": "text/x-python",
   "name": "python",
   "nbconvert_exporter": "python",
   "pygments_lexer": "ipython3",
   "version": "3.8.8"
  }
 },
 "nbformat": 4,
 "nbformat_minor": 5
}
