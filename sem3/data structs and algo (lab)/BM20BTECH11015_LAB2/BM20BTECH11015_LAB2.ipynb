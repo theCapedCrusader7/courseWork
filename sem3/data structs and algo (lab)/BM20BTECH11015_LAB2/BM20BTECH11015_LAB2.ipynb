{
 "cells": [
  {
   "cell_type": "markdown",
   "id": "a3048975",
   "metadata": {},
   "source": [
    "# Code for bubble sort"
   ]
  },
  {
   "cell_type": "code",
   "execution_count": 7,
   "id": "d0209ab6",
   "metadata": {},
   "outputs": [],
   "source": [
    "def bubbleSortAscend(arr):\n",
    "    for i in range(len(arr)):\n",
    "        for j in range(0, len(arr)-i-1):\n",
    "            if arr[j] > arr[j+1] :\n",
    "                temp=arr[j]\n",
    "                arr[j]=arr[j+1]\n",
    "                arr[j+1]=temp\n",
    "                \n",
    "def bubbleSortDescend(arr):\n",
    "    for i in range(len(arr)):\n",
    "        for j in range(0, len(arr)-i-1):\n",
    "            if arr[j] < arr[j+1] :\n",
    "                temp=arr[j]\n",
    "                arr[j]=arr[j+1]\n",
    "                arr[j+1]=temp\n"
   ]
  },
  {
   "cell_type": "code",
   "execution_count": null,
   "id": "299d5ed4",
   "metadata": {},
   "outputs": [],
   "source": [
    "arr = [64, 34, 25, 12, 22, 11, 90]\n",
    " \n",
    "bubbleSortAscend(arr)\n",
    "print (arr)"
   ]
  },
  {
   "cell_type": "code",
   "execution_count": 8,
   "id": "8e5b5ac4",
   "metadata": {},
   "outputs": [
    {
     "name": "stdout",
     "output_type": "stream",
     "text": [
      "[90, 64, 34, 25, 22, 12, 11]\n"
     ]
    }
   ],
   "source": [
    "arr = [64, 34, 25, 12, 22, 11, 90]\n",
    " \n",
    "bubbleSortDescend(arr)\n",
    "print (arr)"
   ]
  },
  {
   "cell_type": "markdown",
   "id": "22230125",
   "metadata": {},
   "source": [
    "# loop invariant property\n"
   ]
  },
  {
   "cell_type": "markdown",
   "id": "a7a7de34",
   "metadata": {},
   "source": [
    "Loop invariant property: After every ith iteration the rightmost i elements are sorted"
   ]
  },
  {
   "cell_type": "markdown",
   "id": "be1ff51e",
   "metadata": {},
   "source": [
    "Initialisation: Since at the start of the program there is no iteration of any loop, the array is unsorted. After the first iteration the largest element is at the end"
   ]
  },
  {
   "cell_type": "markdown",
   "id": "5902169a",
   "metadata": {},
   "source": [
    "Consider the example: arr= arr = [64, 34, 25, 12, 22, 90, 11]"
   ]
  },
  {
   "cell_type": "code",
   "execution_count": 11,
   "id": "bbf0a8c0",
   "metadata": {},
   "outputs": [
    {
     "name": "stdout",
     "output_type": "stream",
     "text": [
      "[34, 25, 12, 22, 64, 11, 90]\n"
     ]
    }
   ],
   "source": [
    "arr = [64, 34, 25, 12, 22, 90, 11]\n",
    "for j in range(len(arr)-1):\n",
    "            if arr[j] > arr[j+1] :\n",
    "                temp=arr[j]\n",
    "                arr[j]=arr[j+1]\n",
    "                arr[j+1]=temp\n",
    "                \n",
    "print(arr)\n"
   ]
  },
  {
   "cell_type": "markdown",
   "id": "59ba8695",
   "metadata": {},
   "source": [
    "Maintainence: At the beginning of the iteration of a loop, the rightmost section of the array is sorted. And at the end of that iteration of the loop another element is added to that sorted part of the array i.e. after the (i+1)th iteration 1 element is added to the sorted part of array that contains i elements(implies now thre are i+1 sorted elements)"
   ]
  },
  {
   "cell_type": "markdown",
   "id": "40fefa1d",
   "metadata": {},
   "source": [
    "Example"
   ]
  },
  {
   "cell_type": "code",
   "execution_count": 12,
   "id": "ae850148",
   "metadata": {},
   "outputs": [
    {
     "name": "stdout",
     "output_type": "stream",
     "text": [
      "Before the 2nd iteration: arr=  [34, 25, 12, 22, 64, 11, 90]\n",
      "After the 2nd iteration: arr= [25, 12, 22, 34, 11, 64, 90]\n"
     ]
    }
   ],
   "source": [
    "print(\"Before the 2nd iteration: arr= \",arr)\n",
    "for j in range(len(arr)-1):\n",
    "            if arr[j] > arr[j+1] :\n",
    "                temp=arr[j]\n",
    "                arr[j]=arr[j+1]\n",
    "                arr[j+1]=temp\n",
    "                \n",
    "print(\"After the 2nd iteration: arr=\",arr)"
   ]
  },
  {
   "cell_type": "markdown",
   "id": "40f93757",
   "metadata": {},
   "source": [
    "Termination: Once the loop runs for len(arr) number of times, all the elements in the array are sorted and the program returns the sorted array."
   ]
  },
  {
   "cell_type": "markdown",
   "id": "d171d781",
   "metadata": {},
   "source": [
    "Similarly we can prove for descending order bubble sort"
   ]
  },
  {
   "cell_type": "code",
   "execution_count": null,
   "id": "79bf5710",
   "metadata": {},
   "outputs": [],
   "source": []
  }
 ],
 "metadata": {
  "kernelspec": {
   "display_name": "Python 3",
   "language": "python",
   "name": "python3"
  },
  "language_info": {
   "codemirror_mode": {
    "name": "ipython",
    "version": 3
   },
   "file_extension": ".py",
   "mimetype": "text/x-python",
   "name": "python",
   "nbconvert_exporter": "python",
   "pygments_lexer": "ipython3",
   "version": "3.8.8"
  }
 },
 "nbformat": 4,
 "nbformat_minor": 5
}
