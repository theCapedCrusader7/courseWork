{
 "cells": [
  {
   "cell_type": "code",
   "execution_count": 43,
   "id": "1806533f",
   "metadata": {},
   "outputs": [],
   "source": [
    "import time\n",
    "import random as rn\n",
    "import matplotlib.pyplot as plt"
   ]
  },
  {
   "cell_type": "markdown",
   "id": "fec3803c",
   "metadata": {},
   "source": [
    "# Bubble Sort"
   ]
  },
  {
   "cell_type": "code",
   "execution_count": 44,
   "id": "056cacbd",
   "metadata": {},
   "outputs": [],
   "source": [
    "def bubbleSort(arr):\n",
    "    for i in range(len(arr)):\n",
    "        for j in range(0, len(arr)-i-1):\n",
    "            if arr[j] > arr[j+1] :\n",
    "                temp=arr[j]\n",
    "                arr[j]=arr[j+1]\n",
    "                arr[j+1]=temp\n",
    "                \n",
    "        "
   ]
  },
  {
   "cell_type": "code",
   "execution_count": 45,
   "id": "c0e7abc2",
   "metadata": {},
   "outputs": [],
   "source": [
    "arr=[]\n",
    "runTime1=[]\n",
    "n=5000\n",
    "\n",
    "for i in range (n):\n",
    "    arr.append(rn.randint(1,1000000))\n",
    "\n",
    "#sorting random array\n",
    "arr1=[]\n",
    "for i in range (n):\n",
    "    arr1.append(arr[i])\n",
    "    \n",
    "start=time.time()\n",
    "bubbleSort(arr1)\n",
    "stop=time.time()\n",
    "\n",
    "runTime1.append(stop-start)\n",
    "\n",
    "#sorting sorted array\n",
    "\n",
    "start=time.time()\n",
    "bubbleSort(arr1)\n",
    "stop=time.time()\n",
    "\n",
    "runTime1.append(stop-start)\n",
    "\n",
    "#sorting partially sorted array\n",
    "\n",
    "arr2=[]\n",
    "\n",
    "for i in range(n//2):\n",
    "    arr2.append(arr[i])\n",
    "    \n",
    "bubbleSort(arr2)\n",
    "\n",
    "arr3=[]\n",
    "\n",
    "for i in range (n):\n",
    "    arr3.append(arr[i])\n",
    "    \n",
    "for i in range (n//2):\n",
    "    arr3[i]=arr2[i]\n",
    "    \n",
    "start=time.time()\n",
    "bubbleSort(arr3)\n",
    "stop=time.time()\n",
    "\n",
    "runTime1.append(stop-start)\n",
    "    "
   ]
  },
  {
   "cell_type": "code",
   "execution_count": 46,
   "id": "7b8e74b5",
   "metadata": {},
   "outputs": [],
   "source": [
    "import numpy as np"
   ]
  },
  {
   "cell_type": "code",
   "execution_count": 56,
   "id": "7d597a00",
   "metadata": {},
   "outputs": [
    {
     "data": {
      "image/png": "[encoded data removed]",
      "text/plain": [
       "<Figure size 720x360 with 1 Axes>"
      ]
     },
     "metadata": {
      "needs_background": "light"
     },
     "output_type": "display_data"
    }
   ],
   "source": [
    "data = {'unsorted array':runTime1[0], 'Sorted array':runTime1[1], 'partially sorted array':runTime1[2]}\n",
    "arrayType = list(data.keys())\n",
    "time = list(data.values())\n",
    "  \n",
    "fig = plt.figure(figsize = (10, 5))\n",
    " \n",
    "# creating the bar plot\n",
    "plt.bar(arrayType, time, color ='maroon',width = 0.4)\n",
    " \n",
    "plt.xlabel(\"Array type\")\n",
    "plt.ylabel(\"time taken\")\n",
    "plt.title(\"timetaken for different array types\")\n",
    "plt.show()"
   ]
  },
  {
   "cell_type": "markdown",
   "id": "d99b1299",
   "metadata": {},
   "source": [
    "# Insertion Sort"
   ]
  },
  {
   "cell_type": "code",
   "execution_count": 48,
   "id": "3b4ea944",
   "metadata": {},
   "outputs": [],
   "source": [
    "def insertionSort(arr):\n",
    "    for i in range(1,len(arr)):\n",
    "        key=arr[i]\n",
    "        j=i-1\n",
    "        while key<arr[j] and j>=0:\n",
    "            arr[j+1]=arr[j]\n",
    "            j-=1\n",
    "        arr[j+1]=key\n",
    "    return "
   ]
  },
  {
   "cell_type": "code",
   "execution_count": 49,
   "id": "d82b9a3a",
   "metadata": {},
   "outputs": [],
   "source": [
    "import time\n",
    "\n",
    "arr=[]\n",
    "runTime2=[]\n",
    "n=5000\n",
    "\n",
    "for i in range (n):\n",
    "    arr.append(rn.randint(1,1000000))\n",
    "\n",
    "#sorting random array\n",
    "arr1=[]\n",
    "for i in range (n):\n",
    "    arr1.append(arr[i])\n",
    "    \n",
    "start=time.time()\n",
    "insertionSort(arr1)\n",
    "stop=time.time()\n",
    "\n",
    "runTime2.append(stop-start)\n",
    "\n",
    "#sorting sorted array\n",
    "\n",
    "start=time.time()\n",
    "insertionSort(arr1)\n",
    "stop=time.time()\n",
    "\n",
    "runTime2.append(stop-start)\n",
    "\n",
    "#sorting partially sorted array\n",
    "\n",
    "arr2=[]\n",
    "\n",
    "for i in range(n//2):\n",
    "    arr2.append(arr[i])\n",
    "    \n",
    "insertionSort(arr2)\n",
    "\n",
    "arr3=[]\n",
    "\n",
    "for i in range (n):\n",
    "    arr3.append(arr[i])\n",
    "    \n",
    "for i in range (n//2):\n",
    "    arr3[i]=arr2[i]\n",
    "    \n",
    "start=time.time()\n",
    "insertionSort(arr3)\n",
    "stop=time.time()\n",
    "\n",
    "runTime2.append(stop-start)\n",
    "    "
   ]
  },
  {
   "cell_type": "code",
   "execution_count": 57,
   "id": "cdc770a4",
   "metadata": {},
   "outputs": [
    {
     "data": {
      "image/png": "[encoded data removed]",
      "text/plain": [
       "<Figure size 720x360 with 1 Axes>"
      ]
     },
     "metadata": {
      "needs_background": "light"
     },
     "output_type": "display_data"
    }
   ],
   "source": [
    "data = {'unsorted array':runTime2[0], 'Sorted array':runTime2[1], 'partially sorted array':runTime2[2]}\n",
    "arrayType = list(data.keys())\n",
    "time = list(data.values())\n",
    "  \n",
    "fig = plt.figure(figsize = (10, 5))\n",
    " \n",
    "# creating the bar plot\n",
    "plt.bar(arrayType, time, color ='maroon',width = 0.4)\n",
    " \n",
    "plt.xlabel(\"Array type\")\n",
    "plt.ylabel(\"time taken\")\n",
    "plt.title(\"timetaken for different array types\")\n",
    "plt.show()"
   ]
  },
  {
   "cell_type": "markdown",
   "id": "96e6ed47",
   "metadata": {},
   "source": [
    "# Selection Sort"
   ]
  },
  {
   "cell_type": "code",
   "execution_count": 51,
   "id": "46dcca1d",
   "metadata": {},
   "outputs": [],
   "source": [
    "def selectionSort(arr):\n",
    "    for i in range(0,len(arr)-1):\n",
    "        min_index=i\n",
    "        for j in range(i,len(arr)):\n",
    "            if arr[min_index]>arr[j]:\n",
    "                min_index=j\n",
    "        temp=arr[min_index]\n",
    "        arr[min_index]=arr[i]\n",
    "        arr[i]=temp\n",
    "    return\n"
   ]
  },
  {
   "cell_type": "code",
   "execution_count": 52,
   "id": "0ee888fa",
   "metadata": {},
   "outputs": [],
   "source": [
    "import time\n",
    "\n",
    "arr=[]\n",
    "runTime3=[]\n",
    "n=5000\n",
    "\n",
    "for i in range (n):\n",
    "    arr.append(rn.randint(1,1000000))\n",
    "\n",
    "#sorting random array\n",
    "arr1=[]\n",
    "for i in range (n):\n",
    "    arr1.append(arr[i])\n",
    "    \n",
    "start=time.time()\n",
    "selectionSort(arr1)\n",
    "stop=time.time()\n",
    "\n",
    "runTime3.append(stop-start)\n",
    "\n",
    "#sorting sorted array\n",
    "\n",
    "start=time.time()\n",
    "selectionSort(arr1)\n",
    "stop=time.time()\n",
    "\n",
    "runTime3.append(stop-start)\n",
    "\n",
    "#sorting partially sorted array\n",
    "\n",
    "arr2=[]\n",
    "\n",
    "for i in range(n//2):\n",
    "    arr2.append(arr[i])\n",
    "    \n",
    "selectionSort(arr2)\n",
    "\n",
    "arr3=[]\n",
    "\n",
    "for i in range (n):\n",
    "    arr3.append(arr[i])\n",
    "    \n",
    "for i in range (n//2):\n",
    "    arr3[i]=arr2[i]\n",
    "    \n",
    "start=time.time()\n",
    "selectionSort(arr3)\n",
    "stop=time.time()\n",
    "\n",
    "runTime3.append(stop-start)\n",
    "    "
   ]
  },
  {
   "cell_type": "code",
   "execution_count": 58,
   "id": "e97cfae6",
   "metadata": {},
   "outputs": [
    {
     "data": {
      "image/png": "[encoded data removed]",
      "text/plain": [
       "<Figure size 720x360 with 1 Axes>"
      ]
     },
     "metadata": {
      "needs_background": "light"
     },
     "output_type": "display_data"
    }
   ],
   "source": [
    "data = {'unsorted array':runTime3[0], 'Sorted array':runTime3[1], 'partially sorted array':runTime3[2]}\n",
    "arrayType = list(data.keys())\n",
    "time = list(data.values())\n",
    "  \n",
    "fig = plt.figure(figsize = (10, 5))\n",
    " \n",
    "# creating the bar plot\n",
    "plt.bar(arrayType, time, color ='maroon',width = 0.4)\n",
    " \n",
    "plt.xlabel(\"Array type\")\n",
    "plt.ylabel(\"time taken\")\n",
    "plt.title(\"timetaken for different array types\")\n",
    "plt.show()"
   ]
  },
  {
   "cell_type": "code",
   "execution_count": 54,
   "id": "0e101f97",
   "metadata": {},
   "outputs": [],
   "source": [
    "#print(runTime)"
   ]
  },
  {
   "cell_type": "markdown",
   "id": "c412998b",
   "metadata": {},
   "source": [
    "# Merge Sort"
   ]
  },
  {
   "cell_type": "code",
   "execution_count": 55,
   "id": "2742a17d",
   "metadata": {},
   "outputs": [],
   "source": [
    "def merge(a,b,arr):\n",
    "    i=0\n",
    "    j=0\n",
    "    k=0\n",
    "    \n",
    "    while (i<len(a) and j<len(b)):\n",
    "        if (a[i]<=b[j]):\n",
    "            arr[k]=a[i]\n",
    "            i+=1\n",
    "        else:\n",
    "            arr[k]=b[j]\n",
    "            j+=1\n",
    "        k+=1\n",
    "        \n",
    "    while (i<len(a)):\n",
    "        arr[k]=a[i]\n",
    "        i+=1\n",
    "        k+=1\n",
    "        \n",
    "    while (j<len(b)):\n",
    "        arr[k]=b[j]\n",
    "        j+=1\n",
    "        k+=1\n",
    "    \n",
    "def mergeSort(arr):\n",
    "    if len(arr)<=1:\n",
    "        return\n",
    "    \n",
    "    mid=len(arr)//2\n",
    "    low=arr[:mid]\n",
    "    high=arr[mid:]\n",
    "    \n",
    "    mergeSort(low)\n",
    "    mergeSort(high)\n",
    "    merge(low,high,arr)"
   ]
  },
  {
   "cell_type": "code",
   "execution_count": 62,
   "id": "4df5c255",
   "metadata": {},
   "outputs": [],
   "source": [
    "import time\n",
    "\n",
    "arr=[]\n",
    "runTime4=[]\n",
    "n=5000\n",
    "\n",
    "for i in range (n):\n",
    "    arr.append(rn.randint(1,1000000))\n",
    "\n",
    "#sorting random array\n",
    "arr1=[]\n",
    "for i in range (n):\n",
    "    arr1.append(arr[i])\n",
    "    \n",
    "start=time.time()\n",
    "mergeSort(arr1)\n",
    "stop=time.time()\n",
    "\n",
    "runTime4.append(stop-start)\n",
    "\n",
    "#sorting sorted array\n",
    "\n",
    "start=time.time()\n",
    "mergeSort(arr1)\n",
    "stop=time.time()\n",
    "\n",
    "runTime4.append(stop-start)\n",
    "\n",
    "#sorting partially sorted array\n",
    "\n",
    "arr2=[]\n",
    "\n",
    "for i in range(n//2):\n",
    "    arr2.append(arr[i])\n",
    "    \n",
    "mergeSort(arr2)\n",
    "\n",
    "arr3=[]\n",
    "\n",
    "for i in range (n):\n",
    "    arr3.append(arr[i])\n",
    "    \n",
    "for i in range (n//2):\n",
    "    arr3[i]=arr2[i]\n",
    "    \n",
    "start=time.time()\n",
    "mergeSort(arr3)\n",
    "stop=time.time()\n",
    "\n",
    "runTime4.append(stop-start)\n",
    "    "
   ]
  },
  {
   "cell_type": "code",
   "execution_count": 63,
   "id": "c0b18e39",
   "metadata": {},
   "outputs": [
    {
     "data": {
      "image/png": "[encoded data removed]",
      "text/plain": [
       "<Figure size 720x360 with 1 Axes>"
      ]
     },
     "metadata": {
      "needs_background": "light"
     },
     "output_type": "display_data"
    }
   ],
   "source": [
    "data = {'unsorted array':runTime4[0], 'Sorted array':runTime4[1], 'partially sorted array':runTime4[2]}\n",
    "arrayType = list(data.keys())\n",
    "time = list(data.values())\n",
    "  \n",
    "fig = plt.figure(figsize = (10, 5))\n",
    " \n",
    "# creating the bar plot\n",
    "plt.bar(arrayType, time, color ='maroon',width = 0.4)\n",
    " \n",
    "plt.xlabel(\"Array type\")\n",
    "plt.ylabel(\"time taken\")\n",
    "plt.title(\"timetaken for different array types\")\n",
    "plt.show()"
   ]
  },
  {
   "cell_type": "markdown",
   "id": "93a6d3b3",
   "metadata": {},
   "source": [
    "# Time taken for different algorithms for same array type"
   ]
  },
  {
   "cell_type": "code",
   "execution_count": 70,
   "id": "d1c266a0",
   "metadata": {},
   "outputs": [
    {
     "data": {
      "image/png": "[encoded data removed]",
      "text/plain": [
       "<Figure size 720x360 with 1 Axes>"
      ]
     },
     "metadata": {
      "needs_background": "light"
     },
     "output_type": "display_data"
    }
   ],
   "source": [
    "data = {'bubble Sort':runTime1[0], 'Insertion Sort':runTime2[0], 'Selection Sort':runTime3[0], 'Merge Sort':runTime4[0]}\n",
    "arrayType = list(data.keys())\n",
    "time = list(data.values())\n",
    "  \n",
    "fig = plt.figure(figsize = (10, 5))\n",
    " \n",
    "# creating the bar plot\n",
    "plt.bar(arrayType, time, color ='maroon',width = 0.4)\n",
    " \n",
    "plt.xlabel(\"Algorithm\")\n",
    "plt.ylabel(\"time taken\")\n",
    "plt.title(\"timetaken for different sorting algorithms for random unsorted arrays\")\n",
    "plt.show()"
   ]
  },
  {
   "cell_type": "code",
   "execution_count": 71,
   "id": "21354deb",
   "metadata": {},
   "outputs": [
    {
     "data": {
      "image/png": "[encoded data removed]",
      "text/plain": [
       "<Figure size 720x360 with 1 Axes>"
      ]
     },
     "metadata": {
      "needs_background": "light"
     },
     "output_type": "display_data"
    }
   ],
   "source": [
    "data = {'bubble Sort':runTime1[1], 'Insertion Sort':runTime2[1], 'Selection Sort':runTime3[1], 'Merge Sort':runTime4[1]}\n",
    "arrayType = list(data.keys())\n",
    "time = list(data.values())\n",
    "  \n",
    "fig = plt.figure(figsize = (10, 5))\n",
    " \n",
    "# creating the bar plot\n",
    "plt.bar(arrayType, time, color ='maroon',width = 0.4)\n",
    " \n",
    "plt.xlabel(\"Algorithm\")\n",
    "plt.ylabel(\"time taken\")\n",
    "plt.title(\"timetaken for different sorting algorithms for sorted arrays\")\n",
    "plt.show()"
   ]
  },
  {
   "cell_type": "code",
   "execution_count": 72,
   "id": "ed091170",
   "metadata": {},
   "outputs": [
    {
     "data": {
      "image/png": "[encoded data removed]",
      "text/plain": [
       "<Figure size 720x360 with 1 Axes>"
      ]
     },
     "metadata": {
      "needs_background": "light"
     },
     "output_type": "display_data"
    }
   ],
   "source": [
    "data = {'bubble Sort':runTime1[2], 'Insertion Sort':runTime2[2], 'Selection Sort':runTime3[2], 'Merge Sort':runTime4[2]}\n",
    "arrayType = list(data.keys())\n",
    "time = list(data.values())\n",
    "  \n",
    "fig = plt.figure(figsize = (10, 5))\n",
    " \n",
    "# creating the bar plot\n",
    "plt.bar(arrayType, time, color ='maroon',width = 0.4)\n",
    " \n",
    "plt.xlabel(\"Algorithm\")\n",
    "plt.ylabel(\"time taken\")\n",
    "plt.title(\"timetaken for different sorting algorithms for partially sorted arrays\")\n",
    "plt.show()"
   ]
  },
  {
   "cell_type": "code",
   "execution_count": null,
   "id": "95b30a53",
   "metadata": {},
   "outputs": [],
   "source": []
  }
 ],
 "metadata": {
  "kernelspec": {
   "display_name": "Python 3",
   "language": "python",
   "name": "python3"
  },
  "language_info": {
   "codemirror_mode": {
    "name": "ipython",
    "version": 3
   },
   "file_extension": ".py",
   "mimetype": "text/x-python",
   "name": "python",
   "nbconvert_exporter": "python",
   "pygments_lexer": "ipython3",
   "version": "3.8.8"
  }
 },
 "nbformat": 4,
 "nbformat_minor": 5
}
