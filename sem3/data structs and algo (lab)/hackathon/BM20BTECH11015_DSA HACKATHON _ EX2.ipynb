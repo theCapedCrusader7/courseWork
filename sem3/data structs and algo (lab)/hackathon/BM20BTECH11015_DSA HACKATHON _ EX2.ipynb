{
 "cells": [
  {
   "cell_type": "code",
   "execution_count": 87,
   "id": "c467e2ea",
   "metadata": {},
   "outputs": [],
   "source": [
    "import random as rn\n",
    "import matplotlib.pyplot as plt\n",
    "import time"
   ]
  },
  {
   "cell_type": "code",
   "execution_count": 88,
   "id": "3e30dcac",
   "metadata": {},
   "outputs": [],
   "source": [
    "def merge(a,b,arr):\n",
    "    i=0\n",
    "    j=0\n",
    "    k=0\n",
    "    \n",
    "    while (i<len(a) and j<len(b)):\n",
    "        if (a[i]<=b[j]):\n",
    "            arr[k]=a[i]\n",
    "            i+=1\n",
    "        else:\n",
    "            arr[k]=b[j]\n",
    "            j+=1\n",
    "        k+=1\n",
    "        \n",
    "    while (i<len(a)):\n",
    "        arr[k]=a[i]\n",
    "        i+=1\n",
    "        k+=1\n",
    "        \n",
    "    while (j<len(b)):\n",
    "        arr[k]=b[j]\n",
    "        j+=1\n",
    "        k+=1\n",
    "    \n",
    "def mergeSort(arr):\n",
    "    if len(arr)<=1:\n",
    "        return\n",
    "    \n",
    "    mid=len(arr)//2\n",
    "    low=arr[:mid]\n",
    "    high=arr[mid:]\n",
    "    \n",
    "    mergeSort(low)\n",
    "    mergeSort(high)\n",
    "    merge(low,high,arr)\n",
    "\n",
    "def customSort(arr):\n",
    "    mid=len(arr)//2\n",
    "    mergeSort(arr)\n",
    "    arr1=arr[:mid]\n",
    "    arr2=arr[mid:]\n",
    "    arr3=arr2[::-1]\n",
    "    #print(arr2)\n",
    "    \n",
    "    a=[]\n",
    "    for i in range(len(arr1)):\n",
    "        a.append(arr1[i])\n",
    "        \n",
    "    for i in range(len(arr3)):\n",
    "        a.append(arr3[i])\n",
    "    \n",
    "    \n",
    "    for i in range(len(arr)):\n",
    "        arr[i]=a[i]\n",
    "        \n",
    "    \n",
    "    "
   ]
  },
  {
   "cell_type": "markdown",
   "id": "2d2163df",
   "metadata": {},
   "source": [
    "# Wave sort"
   ]
  },
  {
   "cell_type": "code",
   "execution_count": 89,
   "id": "23fc722c",
   "metadata": {},
   "outputs": [],
   "source": [
    "def waveSort(arr,k):\n",
    "    mergeSort(arr)\n",
    "    #print(arr)\n",
    "    \n",
    "    t=len(arr)//k\n",
    "    masterArray=[]\n",
    "    \n",
    "    for i in range(k):\n",
    "        masterArray.append(arr[i*t:(i+1)*t])\n",
    "        #print(masterArray[i])\n",
    "    #print(masterArray)\n",
    "    \n",
    "    for i in range(len(masterArray)):\n",
    "        customSort(masterArray[i])\n",
    "        \n",
    "    #print(masterArray)\n",
    "    \n",
    "    a=[]\n",
    "    for i in range(len(masterArray)):\n",
    "        for j in range(t):\n",
    "        \n",
    "            a.append(masterArray[i][j])\n",
    "        \n",
    "    #print(a)\n",
    "    \n",
    "    for i in range(len(arr)):\n",
    "        arr[i]=a[i]\n",
    "    \n",
    "    \n",
    "        "
   ]
  },
  {
   "cell_type": "code",
   "execution_count": 90,
   "id": "c166f759",
   "metadata": {},
   "outputs": [],
   "source": [
    "arr=[9,8,7,6,5,4,3,2,1,0,11,13,12,14,15]\n",
    "k=3 # k is the number of peaks\n",
    "\n",
    "waveSort(arr,k)"
   ]
  },
  {
   "cell_type": "code",
   "execution_count": 91,
   "id": "8516a191",
   "metadata": {},
   "outputs": [
    {
     "name": "stdout",
     "output_type": "stream",
     "text": [
      "[0, 1, 4, 3, 2, 5, 6, 9, 8, 7, 11, 12, 15, 14, 13]\n"
     ]
    },
    {
     "data": {
      "text/plain": [
       "<matplotlib.collections.PathCollection at 0x1a1062c3dc0>"
      ]
     },
     "execution_count": 91,
     "metadata": {},
     "output_type": "execute_result"
    },
    {
     "data": {
      "image/png": "[encoded data removed]",
      "text/plain": [
       "<Figure size 432x288 with 1 Axes>"
      ]
     },
     "metadata": {
      "needs_background": "light"
     },
     "output_type": "display_data"
    }
   ],
   "source": [
    "print(arr)\n",
    "plt.scatter([1,2,3,4,5,6,7,8,9,10,11,12,13,14,15],arr)"
   ]
  },
  {
   "cell_type": "code",
   "execution_count": 84,
   "id": "6f926306",
   "metadata": {},
   "outputs": [],
   "source": [
    "size=[5,10,50,100,250,500,750,1000,2000,3000,4000,5000,6000,7000,8000,9000,1000]\n",
    "runtime=[]\n",
    "k=5\n",
    "for i in range(len(size)):\n",
    "    arr=[]\n",
    "    for j in range(size[i]):\n",
    "        arr.append(rn.randint(1,1000000000))\n",
    "        \n",
    "    start=time.time()\n",
    "    waveSort(arr,k)\n",
    "    stop=time.time()\n",
    "    \n",
    "    runtime.append(stop-start)"
   ]
  },
  {
   "cell_type": "code",
   "execution_count": 85,
   "id": "9e1a3605",
   "metadata": {},
   "outputs": [
    {
     "data": {
      "text/plain": [
       "<matplotlib.collections.PathCollection at 0x1a1062953d0>"
      ]
     },
     "execution_count": 85,
     "metadata": {},
     "output_type": "execute_result"
    },
    {
     "data": {
      "image/png": "[encoded data removed]",
      "text/plain": [
       "<Figure size 432x288 with 1 Axes>"
      ]
     },
     "metadata": {
      "needs_background": "light"
     },
     "output_type": "display_data"
    }
   ],
   "source": [
    "plt.scatter(size,runtime)"
   ]
  },
  {
   "cell_type": "markdown",
   "id": "f0313dba",
   "metadata": {},
   "source": [
    "# Time complexity"
   ]
  },
  {
   "cell_type": "markdown",
   "id": "05f6b2ea",
   "metadata": {},
   "source": [
    "The time complexity of this algorithm is O((m*n^2)*logn)"
   ]
  },
  {
   "cell_type": "markdown",
   "id": "0a8086b7",
   "metadata": {},
   "source": [
    "Here we divided the array into m parts and called the custom sort function on each part. The time complexity of the custom sort is n^2 logn. Now since there are m parts time taken for the total function will be O( m*(n^2) logn)."
   ]
  },
  {
   "cell_type": "markdown",
   "id": "f60a7c67",
   "metadata": {},
   "source": [
    "--------------"
   ]
  },
  {
   "cell_type": "code",
   "execution_count": null,
   "id": "a35fe550",
   "metadata": {},
   "outputs": [],
   "source": []
  }
 ],
 "metadata": {
  "kernelspec": {
   "display_name": "Python 3",
   "language": "python",
   "name": "python3"
  },
  "language_info": {
   "codemirror_mode": {
    "name": "ipython",
    "version": 3
   },
   "file_extension": ".py",
   "mimetype": "text/x-python",
   "name": "python",
   "nbconvert_exporter": "python",
   "pygments_lexer": "ipython3",
   "version": "3.8.8"
  }
 },
 "nbformat": 4,
 "nbformat_minor": 5
}
