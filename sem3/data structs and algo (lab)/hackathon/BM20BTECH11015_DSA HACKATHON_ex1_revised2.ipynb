{
 "cells": [
  {
   "cell_type": "code",
   "execution_count": 56,
   "id": "31398c60",
   "metadata": {},
   "outputs": [],
   "source": [
    "import random as rn\n",
    "import matplotlib.pyplot as plt\n",
    "import time"
   ]
  },
  {
   "cell_type": "code",
   "execution_count": 72,
   "id": "3ef83175",
   "metadata": {},
   "outputs": [],
   "source": [
    "def merge(a,b,arr):\n",
    "    i=0\n",
    "    j=0\n",
    "    k=0\n",
    "    \n",
    "    while (i<len(a) and j<len(b)):\n",
    "        if (a[i]<=b[j]):\n",
    "            arr[k]=a[i]\n",
    "            i+=1\n",
    "        else:\n",
    "            arr[k]=b[j]\n",
    "            j+=1\n",
    "        k+=1\n",
    "        \n",
    "    while (i<len(a)):\n",
    "        arr[k]=a[i]\n",
    "        i+=1\n",
    "        k+=1\n",
    "        \n",
    "    while (j<len(b)):\n",
    "        arr[k]=b[j]\n",
    "        j+=1\n",
    "        k+=1\n",
    "    \n",
    "def mergeSort(arr):\n",
    "    if len(arr)<=1:\n",
    "        return\n",
    "    \n",
    "    mid=len(arr)//2\n",
    "    low=arr[:mid]\n",
    "    high=arr[mid:]\n",
    "    \n",
    "    mergeSort(low)\n",
    "    mergeSort(high)\n",
    "    merge(low,high,arr)\n",
    "\n",
    "def customSort(arr):\n",
    "    mid=len(arr)//2\n",
    "    mergeSort(arr)\n",
    "    arr1=arr[:mid]\n",
    "    arr2=arr[mid:]\n",
    "    arr3=arr2[::-1]\n",
    "    #print(arr2)\n",
    "    \n",
    "    a=[]\n",
    "    for i in range(len(arr1)):\n",
    "        a.append(arr1[i])\n",
    "        \n",
    "    for i in range(len(arr3)):\n",
    "        a.append(arr3[i])\n",
    "    \n",
    "    \n",
    "    for i in range(len(arr)):\n",
    "        arr[i]=a[i]\n",
    "        \n",
    "    \n",
    "    "
   ]
  },
  {
   "cell_type": "code",
   "execution_count": 73,
   "id": "6d6d5336",
   "metadata": {},
   "outputs": [],
   "source": [
    "arr=[7,3,5,19,52,45,33,8,2,9,4,6]"
   ]
  },
  {
   "cell_type": "code",
   "execution_count": 74,
   "id": "a845cfba",
   "metadata": {},
   "outputs": [
    {
     "name": "stdout",
     "output_type": "stream",
     "text": [
      "0.0\n"
     ]
    }
   ],
   "source": [
    "start=time.time()\n",
    "customSort(arr)\n",
    "stop=time.time()\n",
    "print(stop-start)"
   ]
  },
  {
   "cell_type": "code",
   "execution_count": 75,
   "id": "6b1a75a1",
   "metadata": {},
   "outputs": [],
   "source": [
    "size=[5,10,50,100,250,500,750,1000,2000,3000,5000,5000,6000,7000,8000,9000,1000]\n",
    "runtime=[]\n",
    "for i in range(len(size)):\n",
    "    arr=[]\n",
    "    for j in range(size[i]):\n",
    "        arr.append(rn.randint(1,1000000000))\n",
    "        \n",
    "    start=time.time()\n",
    "    customSort(arr)\n",
    "    stop=time.time()\n",
    "    \n",
    "    runtime.append(stop-start)"
   ]
  },
  {
   "cell_type": "code",
   "execution_count": 76,
   "id": "c2e5ed59",
   "metadata": {},
   "outputs": [
    {
     "data": {
      "text/plain": [
       "<matplotlib.collections.PathCollection at 0x20445cca400>"
      ]
     },
     "execution_count": 76,
     "metadata": {},
     "output_type": "execute_result"
    },
    {
     "data": {
      "image/png": "[encoded data removed]",
      "text/plain": [
       "<Figure size 432x288 with 1 Axes>"
      ]
     },
     "metadata": {
      "needs_background": "light"
     },
     "output_type": "display_data"
    }
   ],
   "source": [
    "plt.scatter(size,runtime)\n"
   ]
  },
  {
   "cell_type": "markdown",
   "id": "6b657791",
   "metadata": {},
   "source": [
    "# time complexity"
   ]
  },
  {
   "cell_type": "markdown",
   "id": "06733229",
   "metadata": {},
   "source": [
    "The time complexity of this is O((n^3)*logn). "
   ]
  },
  {
   "cell_type": "markdown",
   "id": "2f57f483",
   "metadata": {},
   "source": [
    "In the first step we use merge sort and the time complexity for merge sort is nlogn. In the second step we divided the sorted array into 2 parts and the second half of the string is reversed and the time complexity to reverse the string is O(1).In the third step we merged these two and the time complexity is O(n)."
   ]
  },
  {
   "cell_type": "markdown",
   "id": "61064bfe",
   "metadata": {},
   "source": [
    "Hence the total time complexity of this is O((n^2)*logn)."
   ]
  },
  {
   "cell_type": "markdown",
   "id": "37860b53",
   "metadata": {},
   "source": [
    "----------------"
   ]
  }
 ],
 "metadata": {
  "kernelspec": {
   "display_name": "Python 3",
   "language": "python",
   "name": "python3"
  },
  "language_info": {
   "codemirror_mode": {
    "name": "ipython",
    "version": 3
   },
   "file_extension": ".py",
   "mimetype": "text/x-python",
   "name": "python",
   "nbconvert_exporter": "python",
   "pygments_lexer": "ipython3",
   "version": "3.8.8"
  }
 },
 "nbformat": 4,
 "nbformat_minor": 5
}
