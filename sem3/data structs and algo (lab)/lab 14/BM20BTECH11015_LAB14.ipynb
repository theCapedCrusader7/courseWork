{
 "cells": [
  {
   "cell_type": "code",
   "execution_count": 37,
   "id": "dd418650",
   "metadata": {},
   "outputs": [],
   "source": [
    "import random\n",
    "import string\n",
    "import time\n",
    "import matplotlib.pyplot as plt"
   ]
  },
  {
   "cell_type": "code",
   "execution_count": 38,
   "id": "2d438955",
   "metadata": {},
   "outputs": [],
   "source": [
    "\n",
    "def nextState(p,state,x):\n",
    "    m=len(p)\n",
    "    if state<m and x==ord(p[state]):\n",
    "        return state+1\n",
    "    \n",
    "    index=0\n",
    "    for nextState in range(state,0,-1):\n",
    "        if ord(p[nextState-1])==x:\n",
    "            while index<nextState-1:\n",
    "                if P[state-nextState+1+index]!=P[index]:\n",
    "                    break\n",
    "                index+=1\n",
    "            if index==nextState-1:\n",
    "                return nextState\n",
    "    return 0"
   ]
  },
  {
   "cell_type": "code",
   "execution_count": 39,
   "id": "fd7ec1e1",
   "metadata": {},
   "outputs": [],
   "source": [
    "def transitionFunc(P):\n",
    "    m=len(P)\n",
    "    tf=[[0 for i in range(256)] for i in range(m+1)]\n",
    "    \n",
    "    for state in range(m+1):\n",
    "        for x in range(256):\n",
    "            ns=nextState(P,state,x)\n",
    "            tf[state][x]=ns\n",
    "    return tf"
   ]
  },
  {
   "cell_type": "code",
   "execution_count": 40,
   "id": "bfed2b7f",
   "metadata": {},
   "outputs": [],
   "source": [
    "def searchFA(text,pattern):\n",
    "    n=len(text)\n",
    "    m=len(pattern)\n",
    "    \n",
    "    tf=transitionFunc(pattern)\n",
    "    \n",
    "    state=0\n",
    "    for i in range(n):\n",
    "        state=tf[state][ord(text[i])]\n",
    "        if state==m:\n",
    "            print(\"Pattern matched at \",i-m+1)"
   ]
  },
  {
   "cell_type": "code",
   "execution_count": 41,
   "id": "a629359c",
   "metadata": {},
   "outputs": [
    {
     "name": "stdout",
     "output_type": "stream",
     "text": [
      "Pattern matched at  1\n",
      "Pattern matched at  4\n",
      "Pattern matched at  7\n"
     ]
    }
   ],
   "source": [
    "T=\"aabaabaabaabbbbaaaaabbababbabbaaaabbb\"\n",
    "P=\"abaa\"\n",
    "\n",
    "searchFA(T,P)"
   ]
  },
  {
   "cell_type": "markdown",
   "id": "2088b4df",
   "metadata": {},
   "source": [
    "--------------"
   ]
  },
  {
   "cell_type": "code",
   "execution_count": 42,
   "id": "7eb5be8e",
   "metadata": {},
   "outputs": [
    {
     "data": {
      "image/png": "[encoded data removed]",
      "text/plain": [
       "<Figure size 432x288 with 1 Axes>"
      ]
     },
     "metadata": {
      "needs_background": "light"
     },
     "output_type": "display_data"
    }
   ],
   "source": [
    "runTime=[]\n",
    "size=[10,20,50,100,500,1000,2000,3000,4000,5000,6000,7000,8000,9000,10000]\n",
    "for i in size:\n",
    "    N=i\n",
    "    T=''.join(random.choices(string.ascii_uppercase+string.digits+string.ascii_lowercase, k = N))\n",
    "    P=''.join(random.choices(string.ascii_uppercase+string.digits+string.ascii_lowercase, k = 3))\n",
    "    start=time.time()\n",
    "    searchFA(T,P)\n",
    "    end=time.time()\n",
    "    runTime.append(end-start)\n",
    "\n",
    "plt.plot(size,runTime)\n",
    "plt.xlabel(\"Length of string\")\n",
    "plt.ylabel(\"Time taken\")\n",
    "plt.title(\"Time taken in finite automata\")\n",
    "plt.show()"
   ]
  },
  {
   "cell_type": "markdown",
   "id": "dc07601b",
   "metadata": {},
   "source": [
    "The time complexity of string matching by finite automata is of the order O(n)."
   ]
  },
  {
   "cell_type": "markdown",
   "id": "b8cb4649",
   "metadata": {},
   "source": [
    "---------------"
   ]
  },
  {
   "cell_type": "code",
   "execution_count": null,
   "id": "938214e8",
   "metadata": {},
   "outputs": [],
   "source": []
  },
  {
   "cell_type": "code",
   "execution_count": null,
   "id": "b9841fc7",
   "metadata": {},
   "outputs": [],
   "source": []
  },
  {
   "cell_type": "code",
   "execution_count": null,
   "id": "b83824db",
   "metadata": {},
   "outputs": [],
   "source": []
  },
  {
   "cell_type": "code",
   "execution_count": null,
   "id": "2f11f1a8",
   "metadata": {},
   "outputs": [],
   "source": []
  },
  {
   "cell_type": "code",
   "execution_count": null,
   "id": "b8dd450c",
   "metadata": {},
   "outputs": [],
   "source": []
  },
  {
   "cell_type": "code",
   "execution_count": null,
   "id": "ed50b4c9",
   "metadata": {},
   "outputs": [],
   "source": []
  }
 ],
 "metadata": {
  "kernelspec": {
   "display_name": "Python 3",
   "language": "python",
   "name": "python3"
  },
  "language_info": {
   "codemirror_mode": {
    "name": "ipython",
    "version": 3
   },
   "file_extension": ".py",
   "mimetype": "text/x-python",
   "name": "python",
   "nbconvert_exporter": "python",
   "pygments_lexer": "ipython3",
   "version": "3.8.8"
  }
 },
 "nbformat": 4,
 "nbformat_minor": 5
}
