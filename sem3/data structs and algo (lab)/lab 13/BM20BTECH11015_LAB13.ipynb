{
 "cells": [
  {
   "cell_type": "markdown",
   "id": "2079526c",
   "metadata": {},
   "source": [
    "## String matching for same sized pattern and text"
   ]
  },
  {
   "cell_type": "code",
   "execution_count": 17,
   "id": "0a08b5ac",
   "metadata": {},
   "outputs": [],
   "source": [
    "import time\n",
    "import random as rn\n",
    "import matplotlib.pyplot as plt\n"
   ]
  },
  {
   "cell_type": "code",
   "execution_count": 18,
   "id": "1ed0279b",
   "metadata": {},
   "outputs": [],
   "source": [
    "def stringMatch(text1,pattern):\n",
    "    if (len(text1)!= len(pattern)):\n",
    "        raise Exception(\"Invalid Input!\")\n",
    "    a=0\n",
    "    \n",
    "    for i in range (len(pattern)):\n",
    "        if(text1[i]==pattern[i]):\n",
    "            a+=1\n",
    "        else:\n",
    "            break\n",
    "    \n",
    "    if (a==len(pattern)):\n",
    "        print(\"The text and the pattern match\")\n",
    "        \n",
    "    else:\n",
    "        print(\"The text and the pattern dont match\")"
   ]
  },
  {
   "cell_type": "code",
   "execution_count": 19,
   "id": "3505a874",
   "metadata": {},
   "outputs": [
    {
     "name": "stdout",
     "output_type": "stream",
     "text": [
      "Please enter the text: 1234567890\n",
      "Please enter the pattern: 1234567890\n",
      "The text and the pattern match\n"
     ]
    }
   ],
   "source": [
    "text=str(input(\"Please enter the text: \"))\n",
    "pattern=str(input(\"Please enter the pattern: \"))\n",
    "start=time.time()\n",
    "stringMatch(text,pattern)\n",
    "stop=time.time()\n",
    "\n",
    "timeMatch=stop-start"
   ]
  },
  {
   "cell_type": "code",
   "execution_count": 20,
   "id": "1d8e6a55",
   "metadata": {},
   "outputs": [
    {
     "name": "stdout",
     "output_type": "stream",
     "text": [
      "Please enter the text: 1234567890\n",
      "Please enter the pattern: 9876543210\n",
      "The text and the pattern dont match\n"
     ]
    }
   ],
   "source": [
    "text=str(input(\"Please enter the text: \"))\n",
    "pattern=str(input(\"Please enter the pattern: \"))\n",
    "\n",
    "start=time.time()\n",
    "stringMatch(text,pattern)\n",
    "stop=time.time()\n",
    "\n",
    "timeMismatchBest=stop-start"
   ]
  },
  {
   "cell_type": "code",
   "execution_count": 21,
   "id": "df83c9eb",
   "metadata": {},
   "outputs": [
    {
     "name": "stdout",
     "output_type": "stream",
     "text": [
      "Please enter the text: 1234567890\n",
      "Please enter the pattern: 1234567899\n",
      "The text and the pattern dont match\n"
     ]
    }
   ],
   "source": [
    "text=str(input(\"Please enter the text: \"))\n",
    "pattern=str(input(\"Please enter the pattern: \"))\n",
    "\n",
    "start=time.time()\n",
    "stringMatch(text,pattern)\n",
    "stop=time.time()\n",
    "\n",
    "timeMismatchWorst=stop-start"
   ]
  },
  {
   "cell_type": "code",
   "execution_count": 22,
   "id": "4a26b86b",
   "metadata": {},
   "outputs": [
    {
     "name": "stdout",
     "output_type": "stream",
     "text": [
      "0.00032806396484375 0.0003333091735839844 0.00042366981506347656\n"
     ]
    }
   ],
   "source": [
    "print(timeMismatchWorst,timeMismatchBest,timeMatch)"
   ]
  },
  {
   "cell_type": "code",
   "execution_count": 23,
   "id": "5b95e98b",
   "metadata": {},
   "outputs": [],
   "source": [
    "import numpy as np"
   ]
  },
  {
   "cell_type": "code",
   "execution_count": 24,
   "id": "696f7ac6",
   "metadata": {},
   "outputs": [
    {
     "data": {
      "image/png": "[encoded data removed]",
      "text/plain": [
       "<Figure size 1152x576 with 1 Axes>"
      ]
     },
     "metadata": {
      "needs_background": "light"
     },
     "output_type": "display_data"
    }
   ],
   "source": [
    "data = {'Strings match':timeMatch, 'strings dont match worst case':timeMismatchWorst, 'Strings dont match best case':timeMismatchBest}\n",
    "\n",
    "time = list(data.keys())\n",
    "case = list(data.values())\n",
    "  \n",
    "fig = plt.figure(figsize = (16, 8))\n",
    " \n",
    "# creating the bar plot\n",
    "plt.bar(time,case, color ='maroon',width = 0.5)\n",
    " \n",
    "plt.xlabel(\"Case\")\n",
    "plt.ylabel(\"time\")\n",
    "plt.title(\"Graphical representation of time taken for different cases in string matching\")\n",
    "plt.show()"
   ]
  },
  {
   "cell_type": "markdown",
   "id": "8363af9e",
   "metadata": {},
   "source": [
    "##### Time Complexity"
   ]
  },
  {
   "cell_type": "markdown",
   "id": "d32bd920",
   "metadata": {},
   "source": [
    "Here the elements are compared one by one and hence the time complexity for checking if the same sized text and pattern are matching is O(n)."
   ]
  },
  {
   "cell_type": "markdown",
   "id": "4985a123",
   "metadata": {},
   "source": [
    "---------"
   ]
  },
  {
   "cell_type": "markdown",
   "id": "c4b948ad",
   "metadata": {},
   "source": [
    "## Naïve String matching"
   ]
  },
  {
   "cell_type": "code",
   "execution_count": 25,
   "id": "8520d949",
   "metadata": {},
   "outputs": [],
   "source": [
    "def naiveStringMatch(text,pattern):\n",
    "    \n",
    "    b=0\n",
    "    \n",
    "    for i in range (len(text)-len(pattern)+1):\n",
    "        a=0\n",
    "        for j in range (len(pattern)):\n",
    "            if(text[j+i]==pattern[j]):\n",
    "                a+=1\n",
    "                \n",
    "            else:\n",
    "                b+=1\n",
    "                break\n",
    "\n",
    "        if (a==len(pattern)):\n",
    "            print(\"The pattern is present at index\",i)\n",
    "            \n",
    "    if(b==len(text)-len(pattern)+1):\n",
    "        print(\"The pattern is not present in the text\")\n",
    "        \n",
    "            "
   ]
  },
  {
   "cell_type": "code",
   "execution_count": 26,
   "id": "cbfcaa1c",
   "metadata": {},
   "outputs": [
    {
     "name": "stdout",
     "output_type": "stream",
     "text": [
      "Please enter the text: 987987987\n",
      "Please enter the pattern: 987\n",
      "The pattern is present at index 0\n",
      "The pattern is present at index 3\n",
      "The pattern is present at index 6\n"
     ]
    }
   ],
   "source": [
    "text=str(input(\"Please enter the text: \"))\n",
    "pattern=str(input(\"Please enter the pattern: \"))\n",
    "\n",
    "naiveStringMatch(text,pattern)"
   ]
  },
  {
   "cell_type": "code",
   "execution_count": 27,
   "id": "5e5f3fb5",
   "metadata": {},
   "outputs": [
    {
     "name": "stdout",
     "output_type": "stream",
     "text": [
      "Please enter the text: 987987\n",
      "Please enter the pattern: 987987\n",
      "The pattern is present at index 0\n"
     ]
    }
   ],
   "source": [
    "text=str(input(\"Please enter the text: \"))\n",
    "pattern=str(input(\"Please enter the pattern: \"))\n",
    "\n",
    "naiveStringMatch(text,pattern)"
   ]
  },
  {
   "cell_type": "code",
   "execution_count": 28,
   "id": "3f639130",
   "metadata": {},
   "outputs": [
    {
     "name": "stdout",
     "output_type": "stream",
     "text": [
      "Please enter the text: 987987987\n",
      "Please enter the pattern: 123\n",
      "The pattern is not present in the text\n"
     ]
    }
   ],
   "source": [
    "text=str(input(\"Please enter the text: \"))\n",
    "pattern=str(input(\"Please enter the pattern: \"))\n",
    "\n",
    "naiveStringMatch(text,pattern)"
   ]
  },
  {
   "cell_type": "code",
   "execution_count": 54,
   "id": "7c452ed6",
   "metadata": {},
   "outputs": [
    {
     "name": "stdout",
     "output_type": "stream",
     "text": [
      "The pattern is present at index 5\n",
      "----\n",
      "The pattern is present at index 10\n",
      "----\n",
      "The pattern is present at index 15\n",
      "----\n",
      "The pattern is present at index 20\n",
      "----\n",
      "The pattern is present at index 35\n",
      "----\n",
      "The pattern is present at index 50\n",
      "----\n",
      "The pattern is present at index 100\n",
      "----\n",
      "The pattern is present at index 200\n",
      "----\n",
      "The pattern is present at index 165\n",
      "The pattern is present at index 500\n",
      "----\n",
      "The pattern is present at index 18\n",
      "The pattern is present at index 614\n",
      "The pattern is present at index 694\n",
      "The pattern is present at index 907\n",
      "The pattern is present at index 1000\n",
      "----\n",
      "The pattern is present at index 1376\n",
      "The pattern is present at index 2000\n",
      "----\n",
      "The pattern is present at index 284\n",
      "The pattern is present at index 359\n",
      "The pattern is present at index 3000\n",
      "----\n",
      "The pattern is present at index 788\n",
      "The pattern is present at index 2296\n",
      "The pattern is present at index 2336\n",
      "The pattern is present at index 4000\n",
      "----\n",
      "The pattern is present at index 903\n",
      "The pattern is present at index 907\n",
      "The pattern is present at index 975\n",
      "The pattern is present at index 3991\n",
      "The pattern is present at index 4591\n",
      "The pattern is present at index 5000\n",
      "----\n",
      "The pattern is present at index 449\n",
      "The pattern is present at index 2518\n",
      "The pattern is present at index 2747\n",
      "The pattern is present at index 2983\n",
      "The pattern is present at index 4108\n",
      "The pattern is present at index 6000\n",
      "----\n",
      "The pattern is present at index 980\n",
      "The pattern is present at index 989\n",
      "The pattern is present at index 2544\n",
      "The pattern is present at index 3867\n",
      "The pattern is present at index 4049\n",
      "The pattern is present at index 4379\n",
      "The pattern is present at index 4770\n",
      "The pattern is present at index 5768\n",
      "The pattern is present at index 6300\n",
      "The pattern is present at index 7000\n",
      "----\n",
      "The pattern is present at index 161\n",
      "The pattern is present at index 537\n",
      "The pattern is present at index 2061\n",
      "The pattern is present at index 4258\n",
      "The pattern is present at index 4677\n",
      "The pattern is present at index 5209\n",
      "The pattern is present at index 5328\n",
      "The pattern is present at index 5407\n",
      "The pattern is present at index 8000\n",
      "----\n",
      "The pattern is present at index 507\n",
      "The pattern is present at index 733\n",
      "The pattern is present at index 1342\n",
      "The pattern is present at index 2258\n",
      "The pattern is present at index 2446\n",
      "The pattern is present at index 2489\n",
      "The pattern is present at index 3139\n",
      "The pattern is present at index 5916\n",
      "The pattern is present at index 6713\n",
      "The pattern is present at index 6866\n",
      "The pattern is present at index 7025\n",
      "The pattern is present at index 7464\n",
      "The pattern is present at index 9000\n",
      "----\n",
      "The pattern is present at index 788\n",
      "The pattern is present at index 1070\n",
      "The pattern is present at index 1972\n",
      "The pattern is present at index 3630\n",
      "The pattern is present at index 4480\n",
      "The pattern is present at index 5197\n",
      "The pattern is present at index 5653\n",
      "The pattern is present at index 6758\n",
      "The pattern is present at index 6797\n",
      "The pattern is present at index 6928\n",
      "The pattern is present at index 7519\n",
      "The pattern is present at index 8585\n",
      "The pattern is present at index 9372\n",
      "The pattern is present at index 9707\n",
      "The pattern is present at index 10000\n",
      "----\n"
     ]
    }
   ],
   "source": [
    "import time\n",
    "import random as rn\n",
    "\n",
    "masterArray=[]\n",
    "timeStringMatching=[]\n",
    "size=[5,10,15,20,35,50,100,200,500,1000,2000,3000,4000,5000,6000,7000,8000,9000,10000]\n",
    "\n",
    "for i in range(len(size)):\n",
    "    masterArray.append(str((rn.randint(10**(size[i]-4),10**(size[i])-3))*10**3+932))\n",
    "    \n",
    "pattern=str(932)\n",
    "\n",
    "for i in range (len(size)):\n",
    "    \n",
    "    start=time.time()\n",
    "    naiveStringMatch(masterArray[i],pattern)\n",
    "    stop=time.time()\n",
    "    timeStringMatching.append(stop-start)\n",
    "    print(\"----\")\n",
    "    "
   ]
  },
  {
   "cell_type": "code",
   "execution_count": 55,
   "id": "b115b441",
   "metadata": {},
   "outputs": [
    {
     "name": "stdout",
     "output_type": "stream",
     "text": [
      "[0.0009965896606445312, 0.0, 0.0, 0.0, 0.0, 0.0, 0.0009732246398925781, 0.0, 0.0, 0.001638174057006836, 0.002384185791015625, 0.0014734268188476562, 0.0020704269409179688, 0.001798868179321289, 0.005910396575927734, 0.003986835479736328, 0.004911184310913086, 0.004984617233276367, 0.004983663558959961]\n"
     ]
    }
   ],
   "source": [
    "print(timeStringMatching)"
   ]
  },
  {
   "cell_type": "code",
   "execution_count": 56,
   "id": "ee21410f",
   "metadata": {},
   "outputs": [
    {
     "data": {
      "image/png": "[encoded data removed]",
      "text/plain": [
       "<Figure size 432x288 with 1 Axes>"
      ]
     },
     "metadata": {
      "needs_background": "light"
     },
     "output_type": "display_data"
    }
   ],
   "source": [
    "plt.scatter(size,timeStringMatching)\n",
    "plt.xlabel('size of text')\n",
    "plt.ylabel('time taken')\n",
    "plt.title('time taken for string matching for different text sizes')\n",
    "plt.show()"
   ]
  },
  {
   "cell_type": "markdown",
   "id": "96d100cb",
   "metadata": {},
   "source": [
    "#### Time Complexity"
   ]
  },
  {
   "cell_type": "markdown",
   "id": "fd260563",
   "metadata": {},
   "source": [
    "In this case we have to check the pattern at every index one by one. The time taken to navigate through the text element by element is O(n) and the time taken to check if the pattern exists at that index is of the order O(m), where n is the length of the text and m is the length of the pattern. Hence the time complexity for naive string matching is O(n) * O(m) or simply O(m*n)."
   ]
  },
  {
   "cell_type": "markdown",
   "id": "5a78efb3",
   "metadata": {},
   "source": [
    "------------------"
   ]
  },
  {
   "cell_type": "markdown",
   "id": "562a018d",
   "metadata": {},
   "source": [
    "# New naive string matching (treating pattern and text as numbers)"
   ]
  },
  {
   "cell_type": "code",
   "execution_count": 106,
   "id": "9f562fdb",
   "metadata": {},
   "outputs": [],
   "source": [
    "def newStringMatching (text,pattern):\n",
    "    \n",
    "    pattern1=int(pattern)\n",
    "    for i in range (len(text)-len(pattern)+1):\n",
    "        a=0\n",
    "        b=0\n",
    "        num=int(text[i])\n",
    "        for j in range (i,i+len(pattern)-1):\n",
    "            subtext=0\n",
    "            num1=int(text[j+1])\n",
    "            num=(10*num)+num1\n",
    "            subtext=num\n",
    "            \n",
    "        if (subtext%13==pattern1%13):\n",
    "            for k in range (len(pattern)):\n",
    "                if(text[k+i]==pattern[k]):\n",
    "                    a+=1\n",
    "                    \n",
    "                else:\n",
    "                    b+=1\n",
    "                    break\n",
    "                \n",
    "                if (a==len(pattern)):\n",
    "                    print(\"The pattern is present at index \",i)\n",
    "                    \n",
    "                "
   ]
  },
  {
   "cell_type": "code",
   "execution_count": 107,
   "id": "1cb88bc1",
   "metadata": {},
   "outputs": [],
   "source": [
    "timeNewNaiveStringMatching=[]"
   ]
  },
  {
   "cell_type": "code",
   "execution_count": 108,
   "id": "147f3e07",
   "metadata": {},
   "outputs": [
    {
     "name": "stdout",
     "output_type": "stream",
     "text": [
      "----\n",
      "----\n",
      "----\n",
      "----\n",
      "----\n",
      "----\n",
      "----\n",
      "----\n",
      "----\n",
      "The pattern is present at index  546\n",
      "----\n",
      "The pattern is present at index  139\n",
      "The pattern is present at index  364\n",
      "The pattern is present at index  662\n",
      "The pattern is present at index  737\n",
      "The pattern is present at index  1617\n",
      "The pattern is present at index  1715\n",
      "----\n",
      "The pattern is present at index  765\n",
      "----\n",
      "The pattern is present at index  936\n",
      "The pattern is present at index  2677\n",
      "The pattern is present at index  2725\n",
      "----\n",
      "The pattern is present at index  283\n",
      "The pattern is present at index  1656\n",
      "The pattern is present at index  4090\n",
      "The pattern is present at index  4554\n",
      "The pattern is present at index  4644\n",
      "----\n",
      "The pattern is present at index  573\n",
      "The pattern is present at index  835\n",
      "The pattern is present at index  2242\n",
      "The pattern is present at index  2697\n",
      "The pattern is present at index  4540\n",
      "The pattern is present at index  4804\n",
      "----\n",
      "The pattern is present at index  288\n",
      "The pattern is present at index  2685\n",
      "The pattern is present at index  4218\n",
      "The pattern is present at index  4263\n",
      "The pattern is present at index  4857\n",
      "The pattern is present at index  5694\n",
      "The pattern is present at index  6775\n",
      "----\n",
      "The pattern is present at index  356\n",
      "The pattern is present at index  4532\n",
      "The pattern is present at index  4751\n",
      "The pattern is present at index  6624\n",
      "The pattern is present at index  7143\n",
      "The pattern is present at index  7564\n",
      "The pattern is present at index  7880\n",
      "----\n",
      "The pattern is present at index  0\n",
      "The pattern is present at index  1151\n",
      "The pattern is present at index  3718\n",
      "The pattern is present at index  3981\n",
      "The pattern is present at index  4014\n",
      "The pattern is present at index  5441\n",
      "The pattern is present at index  5449\n",
      "The pattern is present at index  8117\n",
      "The pattern is present at index  8637\n",
      "The pattern is present at index  8899\n",
      "----\n",
      "The pattern is present at index  27\n",
      "The pattern is present at index  916\n",
      "The pattern is present at index  2924\n",
      "The pattern is present at index  3847\n",
      "The pattern is present at index  4906\n",
      "The pattern is present at index  5395\n",
      "The pattern is present at index  5688\n",
      "The pattern is present at index  5796\n",
      "The pattern is present at index  7492\n",
      "The pattern is present at index  9200\n",
      "----\n"
     ]
    }
   ],
   "source": [
    "import time\n",
    "for i in range (len(size)):\n",
    "    \n",
    "    start=time.time()\n",
    "    newStringMatching(masterArray[i],pattern)\n",
    "    stop=time.time()\n",
    "    timeNewNaiveStringMatching.append(stop-start)\n",
    "    print(\"----\")"
   ]
  },
  {
   "cell_type": "code",
   "execution_count": 109,
   "id": "cd85b3a4",
   "metadata": {},
   "outputs": [
    {
     "name": "stdout",
     "output_type": "stream",
     "text": [
      "[0.0, 0.0, 0.0, 0.0, 0.0, 0.0, 0.0, 0.0, 0.0, 0.0, 0.0, 0.016738176345825195, 0.006048440933227539, 0.0012364387512207031, 0.014863014221191406, 0.02093815803527832, 0.013956546783447266, 0.00812077522277832, 0.01569366455078125]\n"
     ]
    }
   ],
   "source": [
    "print(timeNewNaiveStringMatching)"
   ]
  },
  {
   "cell_type": "code",
   "execution_count": 110,
   "id": "8772362f",
   "metadata": {},
   "outputs": [
    {
     "data": {
      "image/png": "[encoded data removed]",
      "text/plain": [
       "<Figure size 432x288 with 1 Axes>"
      ]
     },
     "metadata": {
      "needs_background": "light"
     },
     "output_type": "display_data"
    }
   ],
   "source": [
    "plt.scatter(size,timeNewNaiveStringMatching)\n",
    "plt.xlabel('size of text')\n",
    "plt.ylabel('time taken')\n",
    "plt.title('time taken for string matching for different text sizes')\n",
    "plt.show()"
   ]
  },
  {
   "cell_type": "markdown",
   "id": "86c25b56",
   "metadata": {},
   "source": [
    "-------------"
   ]
  },
  {
   "cell_type": "markdown",
   "id": "a5b69f94",
   "metadata": {},
   "source": [
    "# Optimized string matching"
   ]
  },
  {
   "cell_type": "code",
   "execution_count": 111,
   "id": "fc2cc9fa",
   "metadata": {},
   "outputs": [],
   "source": [
    "def optimizedStringMatching (text,pattern):\n",
    "    \n",
    "    pattern1=int(pattern)\n",
    "    for i in range (len(text)-len(pattern)+1):\n",
    "        \n",
    "        num=int(text[i])\n",
    "        for j in range (i,i+len(pattern)-1):\n",
    "            subtext=0\n",
    "            num1=int(text[j+1])\n",
    "            num=(10*num)+num1\n",
    "            subtext=num\n",
    "            \n",
    "        if (subtext==pattern1):\n",
    "            print(\"The pattern exists at index \",i)\n",
    "            \n",
    "            \n",
    "                    \n",
    "                "
   ]
  },
  {
   "cell_type": "code",
   "execution_count": 112,
   "id": "dad48f50",
   "metadata": {},
   "outputs": [],
   "source": [
    "text='987987987'\n",
    "pattern='987'"
   ]
  },
  {
   "cell_type": "code",
   "execution_count": 113,
   "id": "48816f4e",
   "metadata": {},
   "outputs": [
    {
     "name": "stdout",
     "output_type": "stream",
     "text": [
      "The pattern exists at index  0\n",
      "The pattern exists at index  3\n",
      "The pattern exists at index  6\n"
     ]
    }
   ],
   "source": [
    "optimizedStringMatching(text,pattern)"
   ]
  },
  {
   "cell_type": "code",
   "execution_count": 114,
   "id": "226e337d",
   "metadata": {},
   "outputs": [],
   "source": [
    "timeOptimizedNaiveStringMatching=[]"
   ]
  },
  {
   "cell_type": "code",
   "execution_count": 115,
   "id": "94a1af6e",
   "metadata": {},
   "outputs": [
    {
     "name": "stdout",
     "output_type": "stream",
     "text": [
      "----\n",
      "----\n",
      "----\n",
      "----\n",
      "----\n",
      "----\n",
      "----\n",
      "----\n",
      "----\n",
      "The pattern exists at index  546\n",
      "----\n",
      "The pattern exists at index  139\n",
      "The pattern exists at index  364\n",
      "The pattern exists at index  662\n",
      "The pattern exists at index  737\n",
      "The pattern exists at index  1617\n",
      "The pattern exists at index  1715\n",
      "----\n",
      "The pattern exists at index  765\n",
      "----\n",
      "The pattern exists at index  936\n",
      "The pattern exists at index  2677\n",
      "The pattern exists at index  2725\n",
      "----\n",
      "The pattern exists at index  283\n",
      "The pattern exists at index  1656\n",
      "The pattern exists at index  4090\n",
      "The pattern exists at index  4554\n",
      "The pattern exists at index  4644\n",
      "----\n",
      "The pattern exists at index  573\n",
      "The pattern exists at index  835\n",
      "The pattern exists at index  2242\n",
      "The pattern exists at index  2697\n",
      "The pattern exists at index  4540\n",
      "The pattern exists at index  4804\n",
      "----\n",
      "The pattern exists at index  288\n",
      "The pattern exists at index  2685\n",
      "The pattern exists at index  4218\n",
      "The pattern exists at index  4263\n",
      "The pattern exists at index  4857\n",
      "The pattern exists at index  5694\n",
      "The pattern exists at index  6775\n",
      "----\n",
      "The pattern exists at index  356\n",
      "The pattern exists at index  4532\n",
      "The pattern exists at index  4751\n",
      "The pattern exists at index  6624\n",
      "The pattern exists at index  7143\n",
      "The pattern exists at index  7564\n",
      "The pattern exists at index  7880\n",
      "----\n",
      "The pattern exists at index  0\n",
      "The pattern exists at index  1151\n",
      "The pattern exists at index  3718\n",
      "The pattern exists at index  3981\n",
      "The pattern exists at index  4014\n",
      "The pattern exists at index  5441\n",
      "The pattern exists at index  5449\n",
      "The pattern exists at index  8117\n",
      "The pattern exists at index  8637\n",
      "The pattern exists at index  8899\n",
      "----\n",
      "The pattern exists at index  27\n",
      "The pattern exists at index  916\n",
      "The pattern exists at index  2924\n",
      "The pattern exists at index  3847\n",
      "The pattern exists at index  4906\n",
      "The pattern exists at index  5395\n",
      "The pattern exists at index  5688\n",
      "The pattern exists at index  5796\n",
      "The pattern exists at index  7492\n",
      "The pattern exists at index  9200\n",
      "----\n"
     ]
    }
   ],
   "source": [
    "import time\n",
    "for i in range (len(size)):\n",
    "    \n",
    "    start=time.time()\n",
    "    optimizedStringMatching(masterArray[i],pattern)\n",
    "    stop=time.time()\n",
    "    timeOptimizedNaiveStringMatching.append(stop-start)\n",
    "    print(\"----\")"
   ]
  },
  {
   "cell_type": "code",
   "execution_count": 116,
   "id": "92751771",
   "metadata": {},
   "outputs": [
    {
     "name": "stdout",
     "output_type": "stream",
     "text": [
      "[0.0, 0.0, 0.0, 0.0, 0.0, 0.0, 0.0009565353393554688, 0.0, 0.0010464191436767578, 0.002981424331665039, 0.004902839660644531, 0.010629892349243164, 0.011128425598144531, 0.013921022415161133, 0.012057781219482422, 0.008957862854003906, 0.008345603942871094, 0.010924577713012695, 0.010968685150146484]\n"
     ]
    }
   ],
   "source": [
    "print(timeOptimizedNaiveStringMatching)"
   ]
  },
  {
   "cell_type": "code",
   "execution_count": 117,
   "id": "2b704385",
   "metadata": {},
   "outputs": [
    {
     "data": {
      "image/png": "[encoded data removed]",
      "text/plain": [
       "<Figure size 432x288 with 1 Axes>"
      ]
     },
     "metadata": {
      "needs_background": "light"
     },
     "output_type": "display_data"
    }
   ],
   "source": [
    "plt.scatter(size,timeOptimizedNaiveStringMatching)\n",
    "plt.xlabel('size of text')\n",
    "plt.ylabel('time taken')\n",
    "plt.title('time taken for string matching for different text sizes')\n",
    "plt.show()"
   ]
  },
  {
   "cell_type": "markdown",
   "id": "0f83b5e9",
   "metadata": {},
   "source": [
    "______________"
   ]
  },
  {
   "cell_type": "code",
   "execution_count": null,
   "id": "ea8bd105",
   "metadata": {},
   "outputs": [],
   "source": []
  }
 ],
 "metadata": {
  "kernelspec": {
   "display_name": "Python 3",
   "language": "python",
   "name": "python3"
  },
  "language_info": {
   "codemirror_mode": {
    "name": "ipython",
    "version": 3
   },
   "file_extension": ".py",
   "mimetype": "text/x-python",
   "name": "python",
   "nbconvert_exporter": "python",
   "pygments_lexer": "ipython3",
   "version": "3.8.8"
  }
 },
 "nbformat": 4,
 "nbformat_minor": 5
}
