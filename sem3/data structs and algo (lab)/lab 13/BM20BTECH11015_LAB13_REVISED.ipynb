{
 "cells": [
  {
   "cell_type": "markdown",
   "id": "2079526c",
   "metadata": {},
   "source": [
    "## String matching for same sized pattern and text"
   ]
  },
  {
   "cell_type": "code",
   "execution_count": 1,
   "id": "0a08b5ac",
   "metadata": {},
   "outputs": [],
   "source": [
    "import time\n",
    "import random as rn\n",
    "import matplotlib.pyplot as plt\n"
   ]
  },
  {
   "cell_type": "code",
   "execution_count": 2,
   "id": "1ed0279b",
   "metadata": {},
   "outputs": [],
   "source": [
    "def stringMatch(text1,pattern):\n",
    "    if (len(text1)!= len(pattern)):\n",
    "        raise Exception(\"Invalid Input!\")\n",
    "    a=0\n",
    "    \n",
    "    for i in range (len(pattern)):\n",
    "        if(text1[i]==pattern[i]):\n",
    "            a+=1\n",
    "        else:\n",
    "            break\n",
    "    \n",
    "    if (a==len(pattern)):\n",
    "        print(\"The text and the pattern match\")\n",
    "        \n",
    "    else:\n",
    "        print(\"The text and the pattern dont match\")"
   ]
  },
  {
   "cell_type": "code",
   "execution_count": 10,
   "id": "3505a874",
   "metadata": {},
   "outputs": [
    {
     "name": "stdout",
     "output_type": "stream",
     "text": [
      "Please enter the text: 999999999999999\n",
      "Please enter the pattern: 999999999999999\n",
      "The text and the pattern match\n"
     ]
    }
   ],
   "source": [
    "import time\n",
    "text=str(input(\"Please enter the text: \"))\n",
    "pattern=str(input(\"Please enter the pattern: \"))\n",
    "\n",
    "start=time.time()\n",
    "stringMatch(text,pattern)\n",
    "stop=time.time()\n",
    "\n",
    "timeMatch=stop-start"
   ]
  },
  {
   "cell_type": "code",
   "execution_count": 11,
   "id": "1d8e6a55",
   "metadata": {},
   "outputs": [
    {
     "name": "stdout",
     "output_type": "stream",
     "text": [
      "Please enter the text: 999999999999999\n",
      "Please enter the pattern: 111111111111111\n",
      "The text and the pattern dont match\n"
     ]
    }
   ],
   "source": [
    "text=str(input(\"Please enter the text: \"))\n",
    "pattern=str(input(\"Please enter the pattern: \"))\n",
    "\n",
    "start=time.time()\n",
    "stringMatch(text,pattern)\n",
    "stop=time.time()\n",
    "\n",
    "timeMismatchBest=stop-start"
   ]
  },
  {
   "cell_type": "code",
   "execution_count": 12,
   "id": "df83c9eb",
   "metadata": {},
   "outputs": [
    {
     "name": "stdout",
     "output_type": "stream",
     "text": [
      "Please enter the text: 987654321012345\n",
      "Please enter the pattern: 987654321012344\n",
      "The text and the pattern dont match\n"
     ]
    }
   ],
   "source": [
    "text=str(input(\"Please enter the text: \"))\n",
    "pattern=str(input(\"Please enter the pattern: \"))\n",
    "\n",
    "start=time.time()\n",
    "stringMatch(text,pattern)\n",
    "stop=time.time()\n",
    "\n",
    "timeMismatchWorst=stop-start"
   ]
  },
  {
   "cell_type": "code",
   "execution_count": 13,
   "id": "4a26b86b",
   "metadata": {},
   "outputs": [
    {
     "name": "stdout",
     "output_type": "stream",
     "text": [
      "0.0009953975677490234 0.0004940032958984375 0.0\n"
     ]
    }
   ],
   "source": [
    "print(timeMismatchWorst,timeMismatchBest,timeMatch)"
   ]
  },
  {
   "cell_type": "code",
   "execution_count": 14,
   "id": "5b95e98b",
   "metadata": {},
   "outputs": [],
   "source": [
    "import numpy as np"
   ]
  },
  {
   "cell_type": "code",
   "execution_count": 15,
   "id": "696f7ac6",
   "metadata": {},
   "outputs": [
    {
     "data": {
      "image/png": "[encoded data removed]",
      "text/plain": [
       "<Figure size 1152x576 with 1 Axes>"
      ]
     },
     "metadata": {
      "needs_background": "light"
     },
     "output_type": "display_data"
    }
   ],
   "source": [
    "data = {'Strings match':timeMatch, 'strings dont match worst case':timeMismatchWorst, 'Strings dont match best case':timeMismatchBest}\n",
    "\n",
    "time = list(data.keys())\n",
    "case = list(data.values())\n",
    "  \n",
    "fig = plt.figure(figsize = (16, 8))\n",
    " \n",
    "# creating the bar plot\n",
    "plt.bar(time,case, color ='maroon',width = 0.5)\n",
    " \n",
    "plt.xlabel(\"Case\")\n",
    "plt.ylabel(\"time\")\n",
    "plt.title(\"Graphical representation of time taken for different cases in string matching\")\n",
    "plt.show()"
   ]
  },
  {
   "cell_type": "markdown",
   "id": "8363af9e",
   "metadata": {},
   "source": [
    "##### Time Complexity"
   ]
  },
  {
   "cell_type": "markdown",
   "id": "d32bd920",
   "metadata": {},
   "source": [
    "Here the elements are compared one by one and hence the time complexity for checking if the same sized text and pattern are matching is O(n)."
   ]
  },
  {
   "cell_type": "markdown",
   "id": "4985a123",
   "metadata": {},
   "source": [
    "---------"
   ]
  },
  {
   "cell_type": "markdown",
   "id": "c4b948ad",
   "metadata": {},
   "source": [
    "## Naïve String matching"
   ]
  },
  {
   "cell_type": "code",
   "execution_count": 16,
   "id": "8520d949",
   "metadata": {},
   "outputs": [],
   "source": [
    "def naiveStringMatch(text,pattern):\n",
    "    \n",
    "    b=0\n",
    "    \n",
    "    for i in range (len(text)-len(pattern)+1):\n",
    "        a=0\n",
    "        for j in range (len(pattern)):\n",
    "            if(text[j+i]==pattern[j]):\n",
    "                a+=1\n",
    "                \n",
    "            else:\n",
    "                b+=1\n",
    "                break\n",
    "\n",
    "        if (a==len(pattern)):\n",
    "            print(\"The pattern is present at index\",i)\n",
    "            \n",
    "    if(b==len(text)-len(pattern)+1):\n",
    "        print(\"The pattern is not present in the text\")\n",
    "        \n",
    "            "
   ]
  },
  {
   "cell_type": "code",
   "execution_count": 17,
   "id": "cbfcaa1c",
   "metadata": {},
   "outputs": [
    {
     "name": "stdout",
     "output_type": "stream",
     "text": [
      "Please enter the text: 987987987\n",
      "Please enter the pattern: 987\n",
      "The pattern is present at index 0\n",
      "The pattern is present at index 3\n",
      "The pattern is present at index 6\n"
     ]
    }
   ],
   "source": [
    "text=str(input(\"Please enter the text: \"))\n",
    "pattern=str(input(\"Please enter the pattern: \"))\n",
    "\n",
    "naiveStringMatch(text,pattern)"
   ]
  },
  {
   "cell_type": "code",
   "execution_count": 18,
   "id": "5e5f3fb5",
   "metadata": {},
   "outputs": [
    {
     "name": "stdout",
     "output_type": "stream",
     "text": [
      "Please enter the text: 987987\n",
      "Please enter the pattern: 987987\n",
      "The pattern is present at index 0\n"
     ]
    }
   ],
   "source": [
    "text=str(input(\"Please enter the text: \"))\n",
    "pattern=str(input(\"Please enter the pattern: \"))\n",
    "\n",
    "naiveStringMatch(text,pattern)"
   ]
  },
  {
   "cell_type": "code",
   "execution_count": 19,
   "id": "3f639130",
   "metadata": {},
   "outputs": [
    {
     "name": "stdout",
     "output_type": "stream",
     "text": [
      "Please enter the text: 987987987\n",
      "Please enter the pattern: 123\n",
      "The pattern is not present in the text\n"
     ]
    }
   ],
   "source": [
    "text=str(input(\"Please enter the text: \"))\n",
    "pattern=str(input(\"Please enter the pattern: \"))\n",
    "\n",
    "naiveStringMatch(text,pattern)"
   ]
  },
  {
   "cell_type": "code",
   "execution_count": 20,
   "id": "7c452ed6",
   "metadata": {},
   "outputs": [
    {
     "name": "stdout",
     "output_type": "stream",
     "text": [
      "The pattern is present at index 5\n",
      "----\n",
      "The pattern is present at index 10\n",
      "----\n",
      "The pattern is present at index 15\n",
      "----\n",
      "The pattern is present at index 20\n",
      "----\n",
      "The pattern is present at index 34\n",
      "----\n",
      "The pattern is present at index 50\n",
      "----\n",
      "The pattern is present at index 100\n",
      "----\n",
      "The pattern is present at index 200\n",
      "----\n",
      "The pattern is present at index 500\n",
      "----\n",
      "The pattern is present at index 1000\n",
      "----\n",
      "The pattern is present at index 580\n",
      "The pattern is present at index 1400\n",
      "The pattern is present at index 2000\n",
      "----\n",
      "The pattern is present at index 3000\n",
      "----\n",
      "The pattern is present at index 827\n",
      "The pattern is present at index 1046\n",
      "The pattern is present at index 1727\n",
      "The pattern is present at index 2246\n",
      "The pattern is present at index 3096\n",
      "The pattern is present at index 3228\n",
      "The pattern is present at index 3328\n",
      "The pattern is present at index 4000\n",
      "----\n",
      "The pattern is present at index 255\n",
      "The pattern is present at index 1316\n",
      "The pattern is present at index 1947\n",
      "The pattern is present at index 2167\n",
      "The pattern is present at index 3182\n",
      "The pattern is present at index 3196\n",
      "The pattern is present at index 3446\n",
      "The pattern is present at index 5000\n",
      "----\n",
      "The pattern is present at index 523\n",
      "The pattern is present at index 1579\n",
      "The pattern is present at index 1595\n",
      "The pattern is present at index 3206\n",
      "The pattern is present at index 3500\n",
      "The pattern is present at index 6000\n",
      "----\n",
      "The pattern is present at index 979\n",
      "The pattern is present at index 990\n",
      "The pattern is present at index 2367\n",
      "The pattern is present at index 2846\n",
      "The pattern is present at index 6999\n",
      "----\n",
      "The pattern is present at index 2321\n",
      "The pattern is present at index 2858\n",
      "The pattern is present at index 4468\n",
      "The pattern is present at index 5111\n",
      "The pattern is present at index 5842\n",
      "The pattern is present at index 5858\n",
      "The pattern is present at index 7496\n",
      "The pattern is present at index 7760\n",
      "The pattern is present at index 8000\n",
      "----\n",
      "The pattern is present at index 319\n",
      "The pattern is present at index 2179\n",
      "The pattern is present at index 5019\n",
      "The pattern is present at index 5661\n",
      "The pattern is present at index 8087\n",
      "The pattern is present at index 9000\n",
      "----\n",
      "The pattern is present at index 164\n",
      "The pattern is present at index 2436\n",
      "The pattern is present at index 3045\n",
      "The pattern is present at index 3781\n",
      "The pattern is present at index 4202\n",
      "The pattern is present at index 6556\n",
      "The pattern is present at index 6835\n",
      "The pattern is present at index 7600\n",
      "The pattern is present at index 9526\n",
      "The pattern is present at index 9710\n",
      "The pattern is present at index 10000\n",
      "----\n"
     ]
    }
   ],
   "source": [
    "import time\n",
    "import random as rn\n",
    "\n",
    "masterArray=[]\n",
    "timeStringMatching=[]\n",
    "size=[5,10,15,20,35,50,100,200,500,1000,2000,3000,4000,5000,6000,7000,8000,9000,10000]\n",
    "\n",
    "for i in range(len(size)):\n",
    "    masterArray.append(str((rn.randint(10**(size[i]-4),10**(size[i])-3))*10**3+932))\n",
    "    \n",
    "pattern=str(932)\n",
    "\n",
    "for i in range (len(size)):\n",
    "    \n",
    "    start=time.time()\n",
    "    naiveStringMatch(masterArray[i],pattern)\n",
    "    stop=time.time()\n",
    "    timeStringMatching.append(stop-start)\n",
    "    print(\"----\")\n",
    "    "
   ]
  },
  {
   "cell_type": "code",
   "execution_count": 21,
   "id": "b115b441",
   "metadata": {},
   "outputs": [
    {
     "name": "stdout",
     "output_type": "stream",
     "text": [
      "[0.0, 0.0, 0.000997781753540039, 0.0, 0.0, 0.0, 0.0, 0.0, 0.0, 0.0009963512420654297, 0.0, 0.001993417739868164, 0.0010228157043457031, 0.002962350845336914, 0.0019927024841308594, 0.0029904842376708984, 0.0039861202239990234, 0.0029900074005126953, 0.004224300384521484]\n"
     ]
    }
   ],
   "source": [
    "print(timeStringMatching)"
   ]
  },
  {
   "cell_type": "code",
   "execution_count": 22,
   "id": "ee21410f",
   "metadata": {},
   "outputs": [
    {
     "data": {
      "image/png": "[encoded data removed]",
      "text/plain": [
       "<Figure size 432x288 with 1 Axes>"
      ]
     },
     "metadata": {
      "needs_background": "light"
     },
     "output_type": "display_data"
    }
   ],
   "source": [
    "plt.scatter(size,timeStringMatching)\n",
    "plt.xlabel('size of text')\n",
    "plt.ylabel('time taken')\n",
    "plt.title('time taken for string matching for different text sizes')\n",
    "plt.show()"
   ]
  },
  {
   "cell_type": "markdown",
   "id": "96d100cb",
   "metadata": {},
   "source": [
    "#### Time Complexity"
   ]
  },
  {
   "cell_type": "markdown",
   "id": "fd260563",
   "metadata": {},
   "source": [
    "In this case we have to check the pattern at every index one by one. The time taken to navigate through the text element by element is O(n) and the time taken to check if the pattern exists at that index is of the order O(m), where n is the length of the text and m is the length of the pattern. Hence the time complexity for naive string matching is O(n) * O(m) or simply O(m*n)."
   ]
  },
  {
   "cell_type": "markdown",
   "id": "5a78efb3",
   "metadata": {},
   "source": [
    "------------------"
   ]
  },
  {
   "cell_type": "markdown",
   "id": "562a018d",
   "metadata": {},
   "source": [
    "# New naive string matching (treating pattern and text as numbers)"
   ]
  },
  {
   "cell_type": "code",
   "execution_count": 23,
   "id": "9f562fdb",
   "metadata": {},
   "outputs": [],
   "source": [
    "def newStringMatching (text,pattern):\n",
    "    \n",
    "    pattern1=int(pattern)\n",
    "    for i in range (len(text)-len(pattern)+1):\n",
    "        a=0\n",
    "        b=0\n",
    "        num=int(text[i])\n",
    "        for j in range (i,i+len(pattern)-1):\n",
    "            subtext=0\n",
    "            num1=int(text[j+1])\n",
    "            num=(10*num)+num1\n",
    "            subtext=num\n",
    "            \n",
    "        if (subtext%13==pattern1%13):\n",
    "            for k in range (len(pattern)):\n",
    "                if(text[k+i]==pattern[k]):\n",
    "                    a+=1\n",
    "                    \n",
    "                else:\n",
    "                    b+=1\n",
    "                    break\n",
    "                \n",
    "                if (a==len(pattern)):\n",
    "                    print(\"The pattern is present at index \",i)\n",
    "                    \n",
    "                "
   ]
  },
  {
   "cell_type": "code",
   "execution_count": 24,
   "id": "1cb88bc1",
   "metadata": {},
   "outputs": [],
   "source": [
    "timeNewNaiveStringMatching=[]"
   ]
  },
  {
   "cell_type": "code",
   "execution_count": 25,
   "id": "147f3e07",
   "metadata": {},
   "outputs": [
    {
     "name": "stdout",
     "output_type": "stream",
     "text": [
      "The pattern is present at index  5\n",
      "----\n",
      "The pattern is present at index  10\n",
      "----\n",
      "The pattern is present at index  15\n",
      "----\n",
      "The pattern is present at index  20\n",
      "----\n",
      "The pattern is present at index  34\n",
      "----\n",
      "The pattern is present at index  50\n",
      "----\n",
      "The pattern is present at index  100\n",
      "----\n",
      "The pattern is present at index  200\n",
      "----\n",
      "The pattern is present at index  500\n",
      "----\n",
      "The pattern is present at index  1000\n",
      "----\n",
      "The pattern is present at index  580\n",
      "The pattern is present at index  1400\n",
      "The pattern is present at index  2000\n",
      "----\n",
      "The pattern is present at index  3000\n",
      "----\n",
      "The pattern is present at index  827\n",
      "The pattern is present at index  1046\n",
      "The pattern is present at index  1727\n",
      "The pattern is present at index  2246\n",
      "The pattern is present at index  3096\n",
      "The pattern is present at index  3228\n",
      "The pattern is present at index  3328\n",
      "The pattern is present at index  4000\n",
      "----\n",
      "The pattern is present at index  255\n",
      "The pattern is present at index  1316\n",
      "The pattern is present at index  1947\n",
      "The pattern is present at index  2167\n",
      "The pattern is present at index  3182\n",
      "The pattern is present at index  3196\n",
      "The pattern is present at index  3446\n",
      "The pattern is present at index  5000\n",
      "----\n",
      "The pattern is present at index  523\n",
      "The pattern is present at index  1579\n",
      "The pattern is present at index  1595\n",
      "The pattern is present at index  3206\n",
      "The pattern is present at index  3500\n",
      "The pattern is present at index  6000\n",
      "----\n",
      "The pattern is present at index  979\n",
      "The pattern is present at index  990\n",
      "The pattern is present at index  2367\n",
      "The pattern is present at index  2846\n",
      "The pattern is present at index  6999\n",
      "----\n",
      "The pattern is present at index  2321\n",
      "The pattern is present at index  2858\n",
      "The pattern is present at index  4468\n",
      "The pattern is present at index  5111\n",
      "The pattern is present at index  5842\n",
      "The pattern is present at index  5858\n",
      "The pattern is present at index  7496\n",
      "The pattern is present at index  7760\n",
      "The pattern is present at index  8000\n",
      "----\n",
      "The pattern is present at index  319\n",
      "The pattern is present at index  2179\n",
      "The pattern is present at index  5019\n",
      "The pattern is present at index  5661\n",
      "The pattern is present at index  8087\n",
      "The pattern is present at index  9000\n",
      "----\n",
      "The pattern is present at index  164\n",
      "The pattern is present at index  2436\n",
      "The pattern is present at index  3045\n",
      "The pattern is present at index  3781\n",
      "The pattern is present at index  4202\n",
      "The pattern is present at index  6556\n",
      "The pattern is present at index  6835\n",
      "The pattern is present at index  7600\n",
      "The pattern is present at index  9526\n",
      "The pattern is present at index  9710\n",
      "The pattern is present at index  10000\n",
      "----\n"
     ]
    }
   ],
   "source": [
    "import time\n",
    "for i in range (len(size)):\n",
    "    \n",
    "    start=time.time()\n",
    "    newStringMatching(masterArray[i],pattern)\n",
    "    stop=time.time()\n",
    "    timeNewNaiveStringMatching.append(stop-start)\n",
    "    print(\"----\")"
   ]
  },
  {
   "cell_type": "code",
   "execution_count": 26,
   "id": "cd85b3a4",
   "metadata": {},
   "outputs": [
    {
     "name": "stdout",
     "output_type": "stream",
     "text": [
      "[0.0, 0.0, 0.0009188652038574219, 0.0, 0.0, 0.0, 0.0, 0.0, 0.0009975433349609375, 0.002067089080810547, 0.0029168128967285156, 0.005980730056762695, 0.005978107452392578, 0.005980014801025391, 0.006986379623413086, 0.00896000862121582, 0.007205009460449219, 0.007972955703735352, 0.009040594100952148]\n"
     ]
    }
   ],
   "source": [
    "print(timeNewNaiveStringMatching)"
   ]
  },
  {
   "cell_type": "code",
   "execution_count": 27,
   "id": "8772362f",
   "metadata": {},
   "outputs": [
    {
     "data": {
      "image/png": "[encoded data removed]",
      "text/plain": [
       "<Figure size 432x288 with 1 Axes>"
      ]
     },
     "metadata": {
      "needs_background": "light"
     },
     "output_type": "display_data"
    }
   ],
   "source": [
    "plt.scatter(size,timeNewNaiveStringMatching)\n",
    "plt.xlabel('size of text')\n",
    "plt.ylabel('time taken')\n",
    "plt.title('time taken for string matching for different text sizes')\n",
    "plt.show()"
   ]
  },
  {
   "cell_type": "markdown",
   "id": "86c25b56",
   "metadata": {},
   "source": [
    "-------------"
   ]
  },
  {
   "cell_type": "markdown",
   "id": "a5b69f94",
   "metadata": {},
   "source": [
    "# Optimized string matching"
   ]
  },
  {
   "cell_type": "code",
   "execution_count": 28,
   "id": "fc2cc9fa",
   "metadata": {},
   "outputs": [],
   "source": [
    "def optimizedStringMatching (text,pattern):\n",
    "    \n",
    "    pattern1=int(pattern)\n",
    "    for i in range (len(text)-len(pattern)+1):\n",
    "        \n",
    "        num=int(text[i])\n",
    "        for j in range (i,i+len(pattern)-1):\n",
    "            subtext=0\n",
    "            num1=int(text[j+1])\n",
    "            num=(10*num)+num1\n",
    "            subtext=num\n",
    "            \n",
    "        if (subtext==pattern1):\n",
    "            print(\"The pattern exists at index \",i)\n",
    "            \n",
    "            \n",
    "                    \n",
    "                "
   ]
  },
  {
   "cell_type": "code",
   "execution_count": 29,
   "id": "dad48f50",
   "metadata": {},
   "outputs": [],
   "source": [
    "text='987987987'\n",
    "pattern='987'"
   ]
  },
  {
   "cell_type": "code",
   "execution_count": 30,
   "id": "48816f4e",
   "metadata": {},
   "outputs": [
    {
     "name": "stdout",
     "output_type": "stream",
     "text": [
      "The pattern exists at index  0\n",
      "The pattern exists at index  3\n",
      "The pattern exists at index  6\n"
     ]
    }
   ],
   "source": [
    "optimizedStringMatching(text,pattern)"
   ]
  },
  {
   "cell_type": "code",
   "execution_count": 31,
   "id": "226e337d",
   "metadata": {},
   "outputs": [],
   "source": [
    "timeOptimizedNaiveStringMatching=[]"
   ]
  },
  {
   "cell_type": "code",
   "execution_count": 32,
   "id": "94a1af6e",
   "metadata": {},
   "outputs": [
    {
     "name": "stdout",
     "output_type": "stream",
     "text": [
      "----\n",
      "----\n",
      "----\n",
      "----\n",
      "----\n",
      "----\n",
      "----\n",
      "The pattern exists at index  125\n",
      "----\n",
      "----\n",
      "----\n",
      "The pattern exists at index  115\n",
      "The pattern exists at index  1615\n",
      "----\n",
      "The pattern exists at index  1999\n",
      "The pattern exists at index  2404\n",
      "----\n",
      "The pattern exists at index  17\n",
      "The pattern exists at index  1487\n",
      "The pattern exists at index  2517\n",
      "The pattern exists at index  2534\n",
      "The pattern exists at index  2709\n",
      "The pattern exists at index  3904\n",
      "----\n",
      "The pattern exists at index  1255\n",
      "The pattern exists at index  2930\n",
      "The pattern exists at index  3557\n",
      "----\n",
      "The pattern exists at index  657\n",
      "The pattern exists at index  2751\n",
      "The pattern exists at index  2856\n",
      "The pattern exists at index  2919\n",
      "The pattern exists at index  5898\n",
      "----\n",
      "The pattern exists at index  2193\n",
      "The pattern exists at index  2458\n",
      "The pattern exists at index  2571\n",
      "The pattern exists at index  2711\n",
      "The pattern exists at index  3838\n",
      "The pattern exists at index  4245\n",
      "The pattern exists at index  4604\n",
      "The pattern exists at index  4887\n",
      "The pattern exists at index  6124\n",
      "The pattern exists at index  6672\n",
      "----\n",
      "The pattern exists at index  5107\n",
      "----\n",
      "The pattern exists at index  1874\n",
      "The pattern exists at index  2037\n",
      "The pattern exists at index  2210\n",
      "The pattern exists at index  3024\n",
      "The pattern exists at index  3319\n",
      "The pattern exists at index  3423\n",
      "The pattern exists at index  4997\n",
      "The pattern exists at index  5436\n",
      "The pattern exists at index  5573\n",
      "The pattern exists at index  6596\n",
      "The pattern exists at index  8441\n",
      "The pattern exists at index  8451\n",
      "----\n",
      "The pattern exists at index  551\n",
      "The pattern exists at index  834\n",
      "The pattern exists at index  3514\n",
      "The pattern exists at index  4124\n",
      "The pattern exists at index  5062\n",
      "The pattern exists at index  7569\n",
      "----\n"
     ]
    }
   ],
   "source": [
    "import time\n",
    "for i in range (len(size)):\n",
    "    \n",
    "    start=time.time()\n",
    "    optimizedStringMatching(masterArray[i],pattern)\n",
    "    stop=time.time()\n",
    "    timeOptimizedNaiveStringMatching.append(stop-start)\n",
    "    print(\"----\")"
   ]
  },
  {
   "cell_type": "code",
   "execution_count": 33,
   "id": "92751771",
   "metadata": {},
   "outputs": [
    {
     "name": "stdout",
     "output_type": "stream",
     "text": [
      "[0.0, 0.0, 0.0, 0.0, 0.0, 0.0, 0.0, 0.000997304916381836, 0.0, 0.0009958744049072266, 0.0019931793212890625, 0.001993894577026367, 0.0039865970611572266, 0.00398707389831543, 0.0050525665283203125, 0.0069751739501953125, 0.005982875823974609, 0.007979631423950195, 0.007973670959472656]\n"
     ]
    }
   ],
   "source": [
    "print(timeOptimizedNaiveStringMatching)"
   ]
  },
  {
   "cell_type": "code",
   "execution_count": 34,
   "id": "2b704385",
   "metadata": {},
   "outputs": [
    {
     "data": {
      "image/png": "[encoded data removed]",
      "text/plain": [
       "<Figure size 432x288 with 1 Axes>"
      ]
     },
     "metadata": {
      "needs_background": "light"
     },
     "output_type": "display_data"
    }
   ],
   "source": [
    "plt.scatter(size,timeOptimizedNaiveStringMatching)\n",
    "plt.xlabel('size of text')\n",
    "plt.ylabel('time taken')\n",
    "plt.title('time taken for string matching for different text sizes')\n",
    "plt.show()"
   ]
  },
  {
   "cell_type": "markdown",
   "id": "0f83b5e9",
   "metadata": {},
   "source": [
    "______________"
   ]
  },
  {
   "cell_type": "code",
   "execution_count": 35,
   "id": "ea8bd105",
   "metadata": {},
   "outputs": [],
   "source": [
    "import time"
   ]
  },
  {
   "cell_type": "code",
   "execution_count": 37,
   "id": "84966ebd",
   "metadata": {},
   "outputs": [
    {
     "name": "stdout",
     "output_type": "stream",
     "text": [
      "By using modulo method\n",
      "The pattern is present at index  1911\n",
      "Time taken for execution is  0.11899566650390625\n",
      "By using type casting method\n",
      "The pattern exists at index  1911\n",
      "Time taken for execution 0.13049912452697754\n"
     ]
    }
   ],
   "source": [
    "text='85020052806708387373410506747387220252664473404173647874367378263262220335647371828007416332115274264384513287151082216316555456012200783450015572184170518242877706077164442843078361014672351814626753024431822453627456882300638473020065338527634682020801567847105405534853316150706625646130323051771867537608182204040310563704525873284108620416776672726712587648856355710104775484273878338205525580778734116161115738086884441617855150155672477553560502384420453145868063771364747223745611876451218701336532867825743076516114174204663884166467600650272842787746521461000851850826077682188242672767137070063433687360233846320834128031354344018100451663831284233745177121718382585365673002818018250526478115738117137315654867768501173154270257722820145443218465121150421456274805825705700850534816103482526688114446732156685560886561450603402244522717741257033373612038150540282165474026205430214451630466335520503662685627163575388124511702583688351722384041185431852415344018242327141371020511530751875176612026488212755053231868287825226034617084808687134515567635011527478607434235332406352282872851587846872005073364054372435653368404538556334433627617388211700888674471628306658688342428661346413775463811124113336276381680427062533888344215440258545707017042782557151343280507508633122322420754732544360380200751823541871586085726781520535137147070780077660088776233046330622581333224727637451347353228778432887807253058314355265888350263678780718811451506628776832718088548358632488551720111305365654236602824662141251035473335054766435015631362072820780774686062008365806082613644504562416184710584073431784151332167374077115184260464027208686328654103733155522563313345440223560075410137383421813017311124274187606533424013221833205202074083424834445552867332517021538405355457325262154366673727273078634182878056550685353107164878874552462784132118136787188407416732432040058074043100741211228375138511625751230247721182711057032757845452750730338626481341236520828831810421568847163716065365051470803615221726763765762282051464075646427485027875258428513533364752554184775451250164737517521735664432217748180068816866112080166723405843546213601401834586030700274634256275215556837585444125374424464512304337072218038252048265183828884165653712788077504554034438062640550571473700771726441560624323880538081426705506830643756405818865640016001780383318322672226207028874833380405883511030273768007354811425300172855465174375223543340780571276013718102533725582160830471023475681604431683036014514452857886601441636053105403254167622435616855128630234035206088628768616175103338542265834712468027012383272850120047661001411344087808277730331880744405421164345725837421262177003242146345744682123048611134475532404184482010527602643137257778386451076681122721541408866386016682403057687645222112856864728101241400601675763066376421856742676786565037453372881132220142433813446668671352275147656087040567741828518707563430832844488047860141381325810611320173067533605370250378458103485510212854375015358253448637317031806431102461434824182603581380245120320021254032570832736702341186684478082066127410431257566643378046134772655113240442372016811776776748538016434702076858326242162186173820520782814834560245000802335244204533162741325301704877041452181335081575661245567740674846526537517871817433072572127483512328482622328761358255843746540370527646504230513563001371340168054771240544432655000483102500875635408284087854877270201105351077553840453388560308620560482447012631236162616711723611341236661601535130260452332733703372180638531546861042761145616025153811227404384374454718023715328774603667373255731052330736585701777778811536680856073268606354074752676708020845888144038784124628401401172067177003155133382224333345631745403720540646277480370347727155877842362061666340557186315802240507800736501105255455613374746432417316501873108812802027300216031627710478025785637420345613654237512442834041116018526333560252425548048386077858288225665620711135216836465364741681726467305386380820088371816622137125750413871417721841083633424112678242845287323035883888504364720302317154483337551024020342511264770638042571280647531171007786157662600837227330863322033271436405824540412838357608501551853256770316302628706423040335666173628700573427362105555882033200884322037822081646844437586256025554371427712712843156632560083865780385660122526481440541447523180248002767746410111774714882627786705434053342401817753062326488333623555853344616380511515186434525182501262014628826327642818236551057405127686648712744781611410328303686068516774645223764255723414703155562802286811134481356108421756210717065846536312684214118511148216776466066424285127885003567738358053246216448776155805442213861311187506760536803521717481026553583523885108472514248233053612060163772734254228487230067326824577015425107377107542447571820041324343237726122807206146318372874730481454575071602378027050447741481255330471076082818555741753412654536064211036202744546841381783441352703511142130282338323166'\n",
    "pattern='2575123024772118271105703275784545275073033862648134123652082883181042156884716371606536505147080361'\n",
    "\n",
    "print(\"By using modulo method\")\n",
    "start=time.time()\n",
    "newStringMatching(text,pattern)\n",
    "stop=time.time()\n",
    "\n",
    "timeModulo=stop-start\n",
    "\n",
    "print(\"Time taken for execution is \",timeModulo)\n",
    "\n",
    "print(\"By using type casting method\")\n",
    "\n",
    "start=time.time()\n",
    "optimizedStringMatching(text,pattern)\n",
    "stop=time.time()\n",
    "\n",
    "timeTypecasting=stop-start\n",
    "\n",
    "print(\"Time taken for execution\",timeTypecasting)"
   ]
  },
  {
   "cell_type": "code",
   "execution_count": 38,
   "id": "300c7123",
   "metadata": {},
   "outputs": [
    {
     "data": {
      "image/png": "[encoded data removed]",
      "text/plain": [
       "<Figure size 1152x576 with 1 Axes>"
      ]
     },
     "metadata": {
      "needs_background": "light"
     },
     "output_type": "display_data"
    }
   ],
   "source": [
    "data = {'Modulo method':timeModulo, 'type casting method':timeTypecasting}\n",
    "\n",
    "time = list(data.keys())\n",
    "case = list(data.values())\n",
    "  \n",
    "fig = plt.figure(figsize = (16, 8))\n",
    " \n",
    "# creating the bar plot\n",
    "plt.bar(time,case, color ='maroon',width = 0.5)\n",
    " \n",
    "plt.xlabel(\"Technique\")\n",
    "plt.ylabel(\"time\")\n",
    "plt.title(\"Graphical representation of time taken for different string matching techniques\")\n",
    "plt.show()"
   ]
  },
  {
   "cell_type": "markdown",
   "id": "0ae9e45f",
   "metadata": {},
   "source": [
    "------------------------"
   ]
  },
  {
   "cell_type": "code",
   "execution_count": null,
   "id": "83b64417",
   "metadata": {},
   "outputs": [],
   "source": []
  }
 ],
 "metadata": {
  "kernelspec": {
   "display_name": "Python 3",
   "language": "python",
   "name": "python3"
  },
  "language_info": {
   "codemirror_mode": {
    "name": "ipython",
    "version": 3
   },
   "file_extension": ".py",
   "mimetype": "text/x-python",
   "name": "python",
   "nbconvert_exporter": "python",
   "pygments_lexer": "ipython3",
   "version": "3.8.8"
  }
 },
 "nbformat": 4,
 "nbformat_minor": 5
}
