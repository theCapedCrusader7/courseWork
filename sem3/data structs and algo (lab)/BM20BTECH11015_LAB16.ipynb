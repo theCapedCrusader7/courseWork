{
 "cells": [
  {
   "cell_type": "markdown",
   "id": "3c4dfbd5",
   "metadata": {},
   "source": [
    "# Longest common subsequence"
   ]
  },
  {
   "cell_type": "code",
   "execution_count": 16,
   "id": "2c0f8f4c",
   "metadata": {},
   "outputs": [],
   "source": [
    "def lcs(t1,t2,m,n):\n",
    "    \n",
    "    if (m==0 or n==0):\n",
    "        return 0\n",
    "    \n",
    "    elif(t1[m-1]==t2[n-1]):\n",
    "        return lcs(t1,t2,m-1,n-1)+1\n",
    "    \n",
    "    else:\n",
    "        return max(lcs(t1,t2,m-1,n),lcs(t1,t2,m,n-1))"
   ]
  },
  {
   "cell_type": "code",
   "execution_count": 25,
   "id": "c62976ac",
   "metadata": {},
   "outputs": [
    {
     "name": "stdout",
     "output_type": "stream",
     "text": [
      "The longest common subsequence in the given two texts is : 11\n",
      "The time taken to solve this was  2.1831860542297363\n"
     ]
    }
   ],
   "source": [
    "import time\n",
    "t1=\"122123278956495477735\"\n",
    "t2=\"123278949736\"\n",
    "start=time.time()\n",
    "print(\"The longest common subsequence in the given two texts is :\",lcs(t1,t2,len(t1),len(t2)))\n",
    "stop=time.time()\n",
    "\n",
    "print(\"The time taken to solve this was \", stop-start)"
   ]
  }
 ],
 "metadata": {
  "kernelspec": {
   "display_name": "Python 3",
   "language": "python",
   "name": "python3"
  },
  "language_info": {
   "codemirror_mode": {
    "name": "ipython",
    "version": 3
   },
   "file_extension": ".py",
   "mimetype": "text/x-python",
   "name": "python",
   "nbconvert_exporter": "python",
   "pygments_lexer": "ipython3",
   "version": "3.8.8"
  }
 },
 "nbformat": 4,
 "nbformat_minor": 5
}
