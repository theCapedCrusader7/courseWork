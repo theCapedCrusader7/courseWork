{
 "cells": [
  {
   "cell_type": "code",
   "execution_count": 19,
   "id": "f05012a4",
   "metadata": {},
   "outputs": [],
   "source": [
    "import random\n",
    "import string\n",
    "import time\n",
    "import matplotlib.pyplot as plt"
   ]
  },
  {
   "cell_type": "code",
   "execution_count": 20,
   "id": "df9a5e67",
   "metadata": {},
   "outputs": [],
   "source": [
    "def computeArray(p, m, lpArray):\n",
    "    len = 0 \n",
    "    lpArray[0] \n",
    "    i = 1\n",
    "    while i < m:\n",
    "        if p[i]== p[len]:\n",
    "            len += 1\n",
    "            lpArray[i] = len\n",
    "            i += 1\n",
    "        else:\n",
    "            if len != 0:\n",
    "                len = lpArray[len-1]\n",
    "            else:\n",
    "                lpArray[i] = 0\n",
    "                i += 1"
   ]
  },
  {
   "cell_type": "code",
   "execution_count": 21,
   "id": "2c7d63c5",
   "metadata": {},
   "outputs": [],
   "source": [
    "def kmpSearch(text,pattern):\n",
    "    m = len(pattern)\n",
    "    n = len(text)\n",
    "    lpArray = [0]*m\n",
    "    j = 0 \n",
    "    computeArray(pattern, m, lpArray)\n",
    "    i = 0 \n",
    "    while i < n:\n",
    "        if pattern[j] == text[i]:\n",
    "            i += 1\n",
    "            j += 1\n",
    "  \n",
    "        if j == m:\n",
    "            print (\"Pattern is present at index \",str(i-j))\n",
    "            j = lpArray[j-1]\n",
    "        elif i < n and pattern[j] != text[i]:\n",
    "            if j != 0:\n",
    "                j = lpArray[j-1]\n",
    "            else:\n",
    "                i += 1"
   ]
  },
  {
   "cell_type": "code",
   "execution_count": 22,
   "id": "003765be",
   "metadata": {},
   "outputs": [
    {
     "name": "stdout",
     "output_type": "stream",
     "text": [
      "Pattern is present at index  0\n",
      "Pattern is present at index  5\n",
      "Pattern is present at index  10\n"
     ]
    }
   ],
   "source": [
    "text = \"ABABDABACDABAAB\"\n",
    "pattern = \"ABA\"\n",
    "kmpSearch(text,pattern)"
   ]
  },
  {
   "cell_type": "markdown",
   "id": "f81b9664",
   "metadata": {},
   "source": [
    "### Time complexity"
   ]
  },
  {
   "cell_type": "code",
   "execution_count": 23,
   "id": "1228df2d",
   "metadata": {},
   "outputs": [
    {
     "name": "stdout",
     "output_type": "stream",
     "text": [
      "Pattern is present at index  4456\n",
      "Pattern is present at index  14944\n"
     ]
    },
    {
     "data": {
      "image/png": "[encoded data removed]",
      "text/plain": [
       "<Figure size 432x288 with 1 Axes>"
      ]
     },
     "metadata": {
      "needs_background": "light"
     },
     "output_type": "display_data"
    }
   ],
   "source": [
    "runTime=[]\n",
    "size=[10,20,50,100,250,500,1000,2000,3000,4000,5000,6000,7000,8000,9000,10000,15000,20000]\n",
    "for i in size:\n",
    "    N=i\n",
    "    text=''.join(random.choices(string.ascii_uppercase+string.digits+string.ascii_lowercase, k = N))\n",
    "    pattern=''.join(random.choices(string.ascii_uppercase+string.digits+string.ascii_lowercase, k = 3))\n",
    "    start=time.time()\n",
    "    kmpSearch(text,pattern)\n",
    "    stop=time.time()\n",
    "    runTime.append(stop-start)\n",
    "\n",
    "plt.plot(size,runTime)\n",
    "plt.xlabel(\"Length of string\")\n",
    "plt.ylabel(\"Time take\")\n",
    "plt.title(\"Time taken for kmp string matching\")\n",
    "plt.show()"
   ]
  },
  {
   "cell_type": "markdown",
   "id": "070440a8",
   "metadata": {},
   "source": [
    "Time complexity of kmp string matching is of the order O(n)."
   ]
  },
  {
   "cell_type": "code",
   "execution_count": null,
   "id": "3069c41a",
   "metadata": {},
   "outputs": [],
   "source": []
  }
 ],
 "metadata": {
  "kernelspec": {
   "display_name": "Python 3",
   "language": "python",
   "name": "python3"
  },
  "language_info": {
   "codemirror_mode": {
    "name": "ipython",
    "version": 3
   },
   "file_extension": ".py",
   "mimetype": "text/x-python",
   "name": "python",
   "nbconvert_exporter": "python",
   "pygments_lexer": "ipython3",
   "version": "3.8.8"
  }
 },
 "nbformat": 4,
 "nbformat_minor": 5
}
