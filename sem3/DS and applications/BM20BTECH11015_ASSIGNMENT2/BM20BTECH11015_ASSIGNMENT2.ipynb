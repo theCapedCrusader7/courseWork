{
 "cells": [
  {
   "cell_type": "code",
   "execution_count": 25,
   "id": "49ca1a52",
   "metadata": {},
   "outputs": [],
   "source": [
    "import csv"
   ]
  },
  {
   "cell_type": "code",
   "execution_count": 26,
   "id": "1c83f3ee",
   "metadata": {},
   "outputs": [],
   "source": [
    "m=4001\n",
    "\n",
    "def hashFunc(username):\n",
    "    hashValue=0\n",
    "    \n",
    "    \n",
    "    for i in range(len(username)):\n",
    "        hashValue+=(ord(username[i]))\n",
    "    return hashValue % m\n"
   ]
  },
  {
   "cell_type": "code",
   "execution_count": 27,
   "id": "a1a829f3",
   "metadata": {},
   "outputs": [
    {
     "name": "stdout",
     "output_type": "stream",
     "text": [
      " Please enter the username: fielder01\n",
      "Please enter the password: qusB=tU3\n",
      "Login Successfull\n"
     ]
    }
   ],
   "source": [
    "file=csv.reader(open('userInfo.csv'))\n",
    "\n",
    "hashTable=[[] for x in range(m)]\n",
    "for row in file:\n",
    "    hashTable[hashFunc(row[0])].append(row)\n",
    "    \n",
    "username=input(\" Please enter the username: \")\n",
    "query=0\n",
    "\n",
    "hashing=hashFunc(username)\n",
    "\n",
    "for i in range(len(hashTable[hashing])):\n",
    "    if hashTable[hashing][i][0]== username:\n",
    "        query+=1\n",
    "        password=input(\"Please enter the password: \")\n",
    "        if password==hashTable[hashing][i][1]:\n",
    "            print(\"Login Successfull\")\n",
    "            break\n",
    "        \n",
    "        else:\n",
    "            print(\"Incorrect Password\")\n",
    "            break\n",
    "        \n",
    "    else:\n",
    "        print(\" Name not found\")\n",
    "        break\n",
    " "
   ]
  },
  {
   "cell_type": "code",
   "execution_count": null,
   "id": "a8b46f6e",
   "metadata": {},
   "outputs": [],
   "source": []
  },
  {
   "cell_type": "code",
   "execution_count": null,
   "id": "f1dbc579",
   "metadata": {},
   "outputs": [],
   "source": []
  }
 ],
 "metadata": {
  "kernelspec": {
   "display_name": "Python 3",
   "language": "python",
   "name": "python3"
  },
  "language_info": {
   "codemirror_mode": {
    "name": "ipython",
    "version": 3
   },
   "file_extension": ".py",
   "mimetype": "text/x-python",
   "name": "python",
   "nbconvert_exporter": "python",
   "pygments_lexer": "ipython3",
   "version": "3.8.8"
  }
 },
 "nbformat": 4,
 "nbformat_minor": 5
}
